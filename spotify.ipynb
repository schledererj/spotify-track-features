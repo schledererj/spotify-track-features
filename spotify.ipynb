{
 "cells": [
  {
   "cell_type": "markdown",
   "metadata": {},
   "source": [
    "# Spotify track features analysis"
   ]
  },
  {
   "cell_type": "code",
   "execution_count": 63,
   "metadata": {},
   "outputs": [],
   "source": [
    "from spotipy import Spotify\n",
    "import pandas as pd\n",
    "import plotly.express as px"
   ]
  },
  {
   "cell_type": "markdown",
   "metadata": {},
   "source": [
    "## Login and get data\n",
    "\n",
    "I used the accompanying `login.py` script to generate an access token, which can be supplied directly as to the client initializer."
   ]
  },
  {
   "cell_type": "code",
   "execution_count": 64,
   "metadata": {},
   "outputs": [],
   "source": [
    "sp = Spotify(auth=\"REDACTED\")"
   ]
  },
  {
   "cell_type": "markdown",
   "metadata": {},
   "source": [
    "Start off by getting my playlists, my saved songs, and my most recent plays."
   ]
  },
  {
   "cell_type": "code",
   "execution_count": 65,
   "metadata": {},
   "outputs": [],
   "source": [
    "playlists = sp.current_user_playlists()['items']"
   ]
  },
  {
   "cell_type": "code",
   "execution_count": 66,
   "metadata": {},
   "outputs": [
    {
     "data": {
      "text/html": [
       "<div>\n",
       "<style scoped>\n",
       "    .dataframe tbody tr th:only-of-type {\n",
       "        vertical-align: middle;\n",
       "    }\n",
       "\n",
       "    .dataframe tbody tr th {\n",
       "        vertical-align: top;\n",
       "    }\n",
       "\n",
       "    .dataframe thead th {\n",
       "        text-align: right;\n",
       "    }\n",
       "</style>\n",
       "<table border=\"1\" class=\"dataframe\">\n",
       "  <thead>\n",
       "    <tr style=\"text-align: right;\">\n",
       "      <th></th>\n",
       "      <th>ID</th>\n",
       "      <th>Name</th>\n",
       "    </tr>\n",
       "  </thead>\n",
       "  <tbody>\n",
       "    <tr>\n",
       "      <th>0</th>\n",
       "      <td>7wwwcxcewcYqVu1X9F0B4g</td>\n",
       "      <td>melodic house? (2)</td>\n",
       "    </tr>\n",
       "    <tr>\n",
       "      <th>1</th>\n",
       "      <td>05uRh5eogpZNyLGXLzLPrW</td>\n",
       "      <td>buffalo</td>\n",
       "    </tr>\n",
       "    <tr>\n",
       "      <th>2</th>\n",
       "      <td>42czoai1Dhdl7iF0JVPSLF</td>\n",
       "      <td>car time</td>\n",
       "    </tr>\n",
       "    <tr>\n",
       "      <th>3</th>\n",
       "      <td>4po0sG9mdx1phmlhH8adQL</td>\n",
       "      <td>dark and wavvy</td>\n",
       "    </tr>\n",
       "    <tr>\n",
       "      <th>4</th>\n",
       "      <td>21k0bkuYPlawkg6w2429rn</td>\n",
       "      <td>where's jon - part i</td>\n",
       "    </tr>\n",
       "  </tbody>\n",
       "</table>\n",
       "</div>"
      ],
      "text/plain": [
       "                       ID                  Name\n",
       "0  7wwwcxcewcYqVu1X9F0B4g    melodic house? (2)\n",
       "1  05uRh5eogpZNyLGXLzLPrW               buffalo\n",
       "2  42czoai1Dhdl7iF0JVPSLF              car time\n",
       "3  4po0sG9mdx1phmlhH8adQL        dark and wavvy\n",
       "4  21k0bkuYPlawkg6w2429rn  where's jon - part i"
      ]
     },
     "execution_count": 66,
     "metadata": {},
     "output_type": "execute_result"
    }
   ],
   "source": [
    "plists = [{\"ID\": x['id'], \"Name\": x['name']} for x in playlists]\n",
    "plists = pd.DataFrame(plists)\n",
    "plists.head()"
   ]
  },
  {
   "cell_type": "code",
   "execution_count": 67,
   "metadata": {},
   "outputs": [],
   "source": [
    "recents = sp.current_user_recently_played()"
   ]
  },
  {
   "cell_type": "code",
   "execution_count": 68,
   "metadata": {},
   "outputs": [
    {
     "data": {
      "text/html": [
       "<div>\n",
       "<style scoped>\n",
       "    .dataframe tbody tr th:only-of-type {\n",
       "        vertical-align: middle;\n",
       "    }\n",
       "\n",
       "    .dataframe tbody tr th {\n",
       "        vertical-align: top;\n",
       "    }\n",
       "\n",
       "    .dataframe thead th {\n",
       "        text-align: right;\n",
       "    }\n",
       "</style>\n",
       "<table border=\"1\" class=\"dataframe\">\n",
       "  <thead>\n",
       "    <tr style=\"text-align: right;\">\n",
       "      <th></th>\n",
       "      <th>Artists</th>\n",
       "      <th>Artist IDs</th>\n",
       "      <th>Name</th>\n",
       "      <th>Track ID</th>\n",
       "      <th>Popularity</th>\n",
       "      <th>Album ID</th>\n",
       "    </tr>\n",
       "  </thead>\n",
       "  <tbody>\n",
       "    <tr>\n",
       "      <th>0</th>\n",
       "      <td>Crystal Skies,RUNN</td>\n",
       "      <td>6HraHl4uwIQFixUu3J49BK,3l0H4QNiYYNdIsnZ4JgJAg</td>\n",
       "      <td>Feels Right (feat. RUNN)</td>\n",
       "      <td>2CNDmxxFLmuD3qyiJgJz67</td>\n",
       "      <td>43</td>\n",
       "      <td>7uNRnXAfrV0cGSmMIDgHIn</td>\n",
       "    </tr>\n",
       "    <tr>\n",
       "      <th>1</th>\n",
       "      <td>Sappheiros,Esoreni</td>\n",
       "      <td>5ZVHXQZAIn9WJXvy6qn9K0,6xTK2zxXkCfE7Noni29tm3</td>\n",
       "      <td>Falling</td>\n",
       "      <td>0VlTcVzfjA8y0S9L7XEirk</td>\n",
       "      <td>48</td>\n",
       "      <td>7jlLR0cPb17mnL0FssnQd1</td>\n",
       "    </tr>\n",
       "    <tr>\n",
       "      <th>2</th>\n",
       "      <td>Satellite Empire,TwoWorldsApart,Ento,Matt Rysen</td>\n",
       "      <td>1DGpuIJ6KAI5bcaFGbJZJs,29CTrnvjIYocNxv66Umt5B,...</td>\n",
       "      <td>Let Me Drown - Matt Rysen &amp; Ento Remix</td>\n",
       "      <td>3Kybv5kFg5zj4iqeFO3hL6</td>\n",
       "      <td>25</td>\n",
       "      <td>4piI84gufy8Kxac9ng9xiX</td>\n",
       "    </tr>\n",
       "    <tr>\n",
       "      <th>3</th>\n",
       "      <td>Sappheiros</td>\n",
       "      <td>5ZVHXQZAIn9WJXvy6qn9K0</td>\n",
       "      <td>Reaching Out</td>\n",
       "      <td>3A0Z2vab5L5TyAXq0bJlkD</td>\n",
       "      <td>39</td>\n",
       "      <td>78Tt3nTpOYGRWiLdotZ3vC</td>\n",
       "    </tr>\n",
       "    <tr>\n",
       "      <th>4</th>\n",
       "      <td>Skrux</td>\n",
       "      <td>6cwRqYSDYwWsLveCcDRhyY</td>\n",
       "      <td>You &amp; Me</td>\n",
       "      <td>1XoMhaVxtcVukieSHOpBtn</td>\n",
       "      <td>52</td>\n",
       "      <td>5XQ1fvzxybJfICorVRyKXI</td>\n",
       "    </tr>\n",
       "  </tbody>\n",
       "</table>\n",
       "</div>"
      ],
      "text/plain": [
       "                                           Artists  \\\n",
       "0                               Crystal Skies,RUNN   \n",
       "1                               Sappheiros,Esoreni   \n",
       "2  Satellite Empire,TwoWorldsApart,Ento,Matt Rysen   \n",
       "3                                       Sappheiros   \n",
       "4                                            Skrux   \n",
       "\n",
       "                                          Artist IDs  \\\n",
       "0      6HraHl4uwIQFixUu3J49BK,3l0H4QNiYYNdIsnZ4JgJAg   \n",
       "1      5ZVHXQZAIn9WJXvy6qn9K0,6xTK2zxXkCfE7Noni29tm3   \n",
       "2  1DGpuIJ6KAI5bcaFGbJZJs,29CTrnvjIYocNxv66Umt5B,...   \n",
       "3                             5ZVHXQZAIn9WJXvy6qn9K0   \n",
       "4                             6cwRqYSDYwWsLveCcDRhyY   \n",
       "\n",
       "                                     Name                Track ID  Popularity  \\\n",
       "0                Feels Right (feat. RUNN)  2CNDmxxFLmuD3qyiJgJz67          43   \n",
       "1                                 Falling  0VlTcVzfjA8y0S9L7XEirk          48   \n",
       "2  Let Me Drown - Matt Rysen & Ento Remix  3Kybv5kFg5zj4iqeFO3hL6          25   \n",
       "3                            Reaching Out  3A0Z2vab5L5TyAXq0bJlkD          39   \n",
       "4                                You & Me  1XoMhaVxtcVukieSHOpBtn          52   \n",
       "\n",
       "                 Album ID  \n",
       "0  7uNRnXAfrV0cGSmMIDgHIn  \n",
       "1  7jlLR0cPb17mnL0FssnQd1  \n",
       "2  4piI84gufy8Kxac9ng9xiX  \n",
       "3  78Tt3nTpOYGRWiLdotZ3vC  \n",
       "4  5XQ1fvzxybJfICorVRyKXI  "
      ]
     },
     "execution_count": 68,
     "metadata": {},
     "output_type": "execute_result"
    }
   ],
   "source": [
    "_recents = list()\n",
    "for i in recents['items']:\n",
    "    t = i['track']\n",
    "    artists = \",\".join(x['name'] for x in t['artists'])\n",
    "    artist_ids = \",\".join(x['id'] for x in t['artists'])\n",
    "    name = t['name']\n",
    "    track_id = t['id']\n",
    "    popularity = t['popularity']\n",
    "    album_id = t['album']['id']\n",
    "    _recents.append({\n",
    "        \"Artists\": artists,\n",
    "        \"Artist IDs\": artist_ids,\n",
    "        \"Name\": name,\n",
    "        \"Track ID\": track_id,\n",
    "        \"Popularity\": popularity,\n",
    "        \"Album ID\": album_id\n",
    "    })\n",
    "\n",
    "recents = pd.DataFrame(_recents)\n",
    "recents.head()"
   ]
  },
  {
   "cell_type": "code",
   "execution_count": 69,
   "metadata": {},
   "outputs": [],
   "source": [
    "page_size = 50\n",
    "saved_songs_res = sp.current_user_saved_tracks(limit=page_size)\n",
    "saved_tracks = saved_songs_res['items']\n",
    "total = saved_songs_res['total']\n",
    "off = page_size\n",
    "while off < total + page_size:\n",
    "    next_res = sp.current_user_saved_tracks(offset=off, limit=page_size)\n",
    "    saved_tracks.extend(next_res['items'])\n",
    "    off += page_size"
   ]
  },
  {
   "cell_type": "code",
   "execution_count": 70,
   "metadata": {},
   "outputs": [
    {
     "data": {
      "text/html": [
       "<div>\n",
       "<style scoped>\n",
       "    .dataframe tbody tr th:only-of-type {\n",
       "        vertical-align: middle;\n",
       "    }\n",
       "\n",
       "    .dataframe tbody tr th {\n",
       "        vertical-align: top;\n",
       "    }\n",
       "\n",
       "    .dataframe thead th {\n",
       "        text-align: right;\n",
       "    }\n",
       "</style>\n",
       "<table border=\"1\" class=\"dataframe\">\n",
       "  <thead>\n",
       "    <tr style=\"text-align: right;\">\n",
       "      <th></th>\n",
       "      <th>Artists</th>\n",
       "      <th>Artist IDs</th>\n",
       "      <th>Name</th>\n",
       "      <th>Track ID</th>\n",
       "      <th>Popularity</th>\n",
       "      <th>Album ID</th>\n",
       "      <th>Added at</th>\n",
       "    </tr>\n",
       "  </thead>\n",
       "  <tbody>\n",
       "    <tr>\n",
       "      <th>0</th>\n",
       "      <td>Grum</td>\n",
       "      <td>3VEqFWRt47xQAZJMBF3duQ</td>\n",
       "      <td>Lose Control</td>\n",
       "      <td>0bqjS54zmDlYanW8mlx28k</td>\n",
       "      <td>54</td>\n",
       "      <td>52beQVaTRkEsdip6N4nWZo</td>\n",
       "      <td>2022-03-05T00:13:06Z</td>\n",
       "    </tr>\n",
       "    <tr>\n",
       "      <th>1</th>\n",
       "      <td>KASHIWA Daisuke</td>\n",
       "      <td>5sGsy5o8hBSMmDUFTC5Q2P</td>\n",
       "      <td>april.#02</td>\n",
       "      <td>6P3bha1HLEaiwaDA5SlTRB</td>\n",
       "      <td>19</td>\n",
       "      <td>2Gl1cVFZAs3DX3uvaTHCHG</td>\n",
       "      <td>2022-02-15T04:16:16Z</td>\n",
       "    </tr>\n",
       "    <tr>\n",
       "      <th>2</th>\n",
       "      <td>Memtrix</td>\n",
       "      <td>3bffaBH7akOhsSLsVJcJug</td>\n",
       "      <td>All You Are</td>\n",
       "      <td>1Pz2FNGmyvRYnlKd58ANEW</td>\n",
       "      <td>52</td>\n",
       "      <td>4CF7zjsdRMyUjjvQ2cvb6l</td>\n",
       "      <td>2022-01-10T01:03:44Z</td>\n",
       "    </tr>\n",
       "    <tr>\n",
       "      <th>3</th>\n",
       "      <td>Sound Quelle,Matt Fax</td>\n",
       "      <td>5mdTuNl23tON1WlsVbvD18,1XgI1X3xjXCKRP1ZjhqgkV</td>\n",
       "      <td>Sunburst</td>\n",
       "      <td>67b4kyYW9PcSu9ChwywKYe</td>\n",
       "      <td>36</td>\n",
       "      <td>1MYWKh9RzeEcToi4chhpoC</td>\n",
       "      <td>2022-01-09T22:26:30Z</td>\n",
       "    </tr>\n",
       "    <tr>\n",
       "      <th>4</th>\n",
       "      <td>Last Heroes,Satellite Empire</td>\n",
       "      <td>3HHfEn7yPOy3IiHS6CHG97,1DGpuIJ6KAI5bcaFGbJZJs</td>\n",
       "      <td>Take Your Time (feat. Satellite Empire)</td>\n",
       "      <td>2piFAX26ski1mMmhWGnZQ8</td>\n",
       "      <td>35</td>\n",
       "      <td>4oQg6odo4r4sOG1GbG5TDk</td>\n",
       "      <td>2022-01-01T23:53:47Z</td>\n",
       "    </tr>\n",
       "  </tbody>\n",
       "</table>\n",
       "</div>"
      ],
      "text/plain": [
       "                        Artists  \\\n",
       "0                          Grum   \n",
       "1               KASHIWA Daisuke   \n",
       "2                       Memtrix   \n",
       "3         Sound Quelle,Matt Fax   \n",
       "4  Last Heroes,Satellite Empire   \n",
       "\n",
       "                                      Artist IDs  \\\n",
       "0                         3VEqFWRt47xQAZJMBF3duQ   \n",
       "1                         5sGsy5o8hBSMmDUFTC5Q2P   \n",
       "2                         3bffaBH7akOhsSLsVJcJug   \n",
       "3  5mdTuNl23tON1WlsVbvD18,1XgI1X3xjXCKRP1ZjhqgkV   \n",
       "4  3HHfEn7yPOy3IiHS6CHG97,1DGpuIJ6KAI5bcaFGbJZJs   \n",
       "\n",
       "                                      Name                Track ID  \\\n",
       "0                             Lose Control  0bqjS54zmDlYanW8mlx28k   \n",
       "1                                april.#02  6P3bha1HLEaiwaDA5SlTRB   \n",
       "2                              All You Are  1Pz2FNGmyvRYnlKd58ANEW   \n",
       "3                                 Sunburst  67b4kyYW9PcSu9ChwywKYe   \n",
       "4  Take Your Time (feat. Satellite Empire)  2piFAX26ski1mMmhWGnZQ8   \n",
       "\n",
       "   Popularity                Album ID              Added at  \n",
       "0          54  52beQVaTRkEsdip6N4nWZo  2022-03-05T00:13:06Z  \n",
       "1          19  2Gl1cVFZAs3DX3uvaTHCHG  2022-02-15T04:16:16Z  \n",
       "2          52  4CF7zjsdRMyUjjvQ2cvb6l  2022-01-10T01:03:44Z  \n",
       "3          36  1MYWKh9RzeEcToi4chhpoC  2022-01-09T22:26:30Z  \n",
       "4          35  4oQg6odo4r4sOG1GbG5TDk  2022-01-01T23:53:47Z  "
      ]
     },
     "execution_count": 70,
     "metadata": {},
     "output_type": "execute_result"
    }
   ],
   "source": [
    "_saved_tracks = list()\n",
    "for i in saved_tracks:\n",
    "    t = i['track']\n",
    "    artists = \",\".join(x['name'] for x in t['artists'])\n",
    "    artist_ids = \",\".join(x['id'] for x in t['artists'])\n",
    "    name = t['name']\n",
    "    track_id = t['id']\n",
    "    popularity = t['popularity']\n",
    "    album_id = t['album']['id']\n",
    "    added_at = i['added_at']\n",
    "    _saved_tracks.append({\n",
    "        \"Artists\": artists,\n",
    "        \"Artist IDs\": artist_ids,\n",
    "        \"Name\": name,\n",
    "        \"Track ID\": track_id,\n",
    "        \"Popularity\": popularity,\n",
    "        \"Album ID\": album_id,\n",
    "        \"Added at\": added_at \n",
    "    })\n",
    "\n",
    "saved_tracks = pd.DataFrame(_saved_tracks)\n",
    "saved_tracks.head()"
   ]
  },
  {
   "cell_type": "code",
   "execution_count": 71,
   "metadata": {},
   "outputs": [
    {
     "data": {
      "text/plain": [
       "(286, 7)"
      ]
     },
     "execution_count": 71,
     "metadata": {},
     "output_type": "execute_result"
    }
   ],
   "source": [
    "saved_tracks.shape"
   ]
  },
  {
   "cell_type": "markdown",
   "metadata": {},
   "source": [
    "Now that we have basic track info, we can make more requests for some more granular track features. That's the data we _really_ want."
   ]
  },
  {
   "cell_type": "code",
   "execution_count": 72,
   "metadata": {},
   "outputs": [],
   "source": [
    "track_ids = saved_tracks['Track ID'].tolist()\n",
    "features = list()\n",
    "page_size = 100\n",
    "i = 0\n",
    "while i < len(track_ids) + page_size:\n",
    "    _features = sp.audio_features(track_ids[i:i + page_size])\n",
    "    features.extend(_features)\n",
    "    i += page_size\n"
   ]
  },
  {
   "cell_type": "code",
   "execution_count": 73,
   "metadata": {},
   "outputs": [
    {
     "data": {
      "text/html": [
       "<div>\n",
       "<style scoped>\n",
       "    .dataframe tbody tr th:only-of-type {\n",
       "        vertical-align: middle;\n",
       "    }\n",
       "\n",
       "    .dataframe tbody tr th {\n",
       "        vertical-align: top;\n",
       "    }\n",
       "\n",
       "    .dataframe thead th {\n",
       "        text-align: right;\n",
       "    }\n",
       "</style>\n",
       "<table border=\"1\" class=\"dataframe\">\n",
       "  <thead>\n",
       "    <tr style=\"text-align: right;\">\n",
       "      <th></th>\n",
       "      <th>id</th>\n",
       "      <th>danceability</th>\n",
       "      <th>energy</th>\n",
       "      <th>key</th>\n",
       "      <th>loudness</th>\n",
       "      <th>mode</th>\n",
       "      <th>speechiness</th>\n",
       "      <th>acousticness</th>\n",
       "      <th>instrumentalness</th>\n",
       "      <th>liveness</th>\n",
       "      <th>valence</th>\n",
       "      <th>tempo</th>\n",
       "      <th>duration_ms</th>\n",
       "      <th>time_signature</th>\n",
       "    </tr>\n",
       "  </thead>\n",
       "  <tbody>\n",
       "    <tr>\n",
       "      <th>0</th>\n",
       "      <td>0bqjS54zmDlYanW8mlx28k</td>\n",
       "      <td>0.542</td>\n",
       "      <td>0.857</td>\n",
       "      <td>2</td>\n",
       "      <td>-6.133</td>\n",
       "      <td>0</td>\n",
       "      <td>0.0352</td>\n",
       "      <td>0.00113</td>\n",
       "      <td>0.571000</td>\n",
       "      <td>0.0779</td>\n",
       "      <td>0.1620</td>\n",
       "      <td>128.011</td>\n",
       "      <td>337500</td>\n",
       "      <td>4</td>\n",
       "    </tr>\n",
       "    <tr>\n",
       "      <th>1</th>\n",
       "      <td>6P3bha1HLEaiwaDA5SlTRB</td>\n",
       "      <td>0.387</td>\n",
       "      <td>0.470</td>\n",
       "      <td>0</td>\n",
       "      <td>-8.508</td>\n",
       "      <td>0</td>\n",
       "      <td>0.0476</td>\n",
       "      <td>0.61300</td>\n",
       "      <td>0.859000</td>\n",
       "      <td>0.1330</td>\n",
       "      <td>0.2190</td>\n",
       "      <td>119.950</td>\n",
       "      <td>1662987</td>\n",
       "      <td>4</td>\n",
       "    </tr>\n",
       "    <tr>\n",
       "      <th>2</th>\n",
       "      <td>1Pz2FNGmyvRYnlKd58ANEW</td>\n",
       "      <td>0.349</td>\n",
       "      <td>0.696</td>\n",
       "      <td>3</td>\n",
       "      <td>-3.274</td>\n",
       "      <td>0</td>\n",
       "      <td>0.0362</td>\n",
       "      <td>0.01370</td>\n",
       "      <td>0.004070</td>\n",
       "      <td>0.1160</td>\n",
       "      <td>0.0782</td>\n",
       "      <td>173.901</td>\n",
       "      <td>330862</td>\n",
       "      <td>4</td>\n",
       "    </tr>\n",
       "    <tr>\n",
       "      <th>3</th>\n",
       "      <td>67b4kyYW9PcSu9ChwywKYe</td>\n",
       "      <td>0.638</td>\n",
       "      <td>0.823</td>\n",
       "      <td>0</td>\n",
       "      <td>-9.170</td>\n",
       "      <td>1</td>\n",
       "      <td>0.0401</td>\n",
       "      <td>0.03790</td>\n",
       "      <td>0.902000</td>\n",
       "      <td>0.1870</td>\n",
       "      <td>0.0384</td>\n",
       "      <td>124.017</td>\n",
       "      <td>210968</td>\n",
       "      <td>4</td>\n",
       "    </tr>\n",
       "    <tr>\n",
       "      <th>4</th>\n",
       "      <td>2piFAX26ski1mMmhWGnZQ8</td>\n",
       "      <td>0.475</td>\n",
       "      <td>0.440</td>\n",
       "      <td>2</td>\n",
       "      <td>-7.699</td>\n",
       "      <td>1</td>\n",
       "      <td>0.0297</td>\n",
       "      <td>0.12600</td>\n",
       "      <td>0.000003</td>\n",
       "      <td>0.1070</td>\n",
       "      <td>0.0584</td>\n",
       "      <td>95.043</td>\n",
       "      <td>267790</td>\n",
       "      <td>4</td>\n",
       "    </tr>\n",
       "  </tbody>\n",
       "</table>\n",
       "</div>"
      ],
      "text/plain": [
       "                       id  danceability  energy  key  loudness  mode  \\\n",
       "0  0bqjS54zmDlYanW8mlx28k         0.542   0.857    2    -6.133     0   \n",
       "1  6P3bha1HLEaiwaDA5SlTRB         0.387   0.470    0    -8.508     0   \n",
       "2  1Pz2FNGmyvRYnlKd58ANEW         0.349   0.696    3    -3.274     0   \n",
       "3  67b4kyYW9PcSu9ChwywKYe         0.638   0.823    0    -9.170     1   \n",
       "4  2piFAX26ski1mMmhWGnZQ8         0.475   0.440    2    -7.699     1   \n",
       "\n",
       "   speechiness  acousticness  instrumentalness  liveness  valence    tempo  \\\n",
       "0       0.0352       0.00113          0.571000    0.0779   0.1620  128.011   \n",
       "1       0.0476       0.61300          0.859000    0.1330   0.2190  119.950   \n",
       "2       0.0362       0.01370          0.004070    0.1160   0.0782  173.901   \n",
       "3       0.0401       0.03790          0.902000    0.1870   0.0384  124.017   \n",
       "4       0.0297       0.12600          0.000003    0.1070   0.0584   95.043   \n",
       "\n",
       "   duration_ms  time_signature  \n",
       "0       337500               4  \n",
       "1      1662987               4  \n",
       "2       330862               4  \n",
       "3       210968               4  \n",
       "4       267790               4  "
      ]
     },
     "execution_count": 73,
     "metadata": {},
     "output_type": "execute_result"
    }
   ],
   "source": [
    "features_df = pd.DataFrame(features[:-1])\n",
    "features_df = features_df[['id', 'danceability', 'energy', 'key', 'loudness', 'mode', 'speechiness', 'acousticness', 'instrumentalness', 'liveness', 'valence', 'tempo', 'duration_ms', 'time_signature']]\n",
    "features_df.head()"
   ]
  },
  {
   "cell_type": "code",
   "execution_count": 74,
   "metadata": {},
   "outputs": [
    {
     "data": {
      "text/html": [
       "<div>\n",
       "<style scoped>\n",
       "    .dataframe tbody tr th:only-of-type {\n",
       "        vertical-align: middle;\n",
       "    }\n",
       "\n",
       "    .dataframe tbody tr th {\n",
       "        vertical-align: top;\n",
       "    }\n",
       "\n",
       "    .dataframe thead th {\n",
       "        text-align: right;\n",
       "    }\n",
       "</style>\n",
       "<table border=\"1\" class=\"dataframe\">\n",
       "  <thead>\n",
       "    <tr style=\"text-align: right;\">\n",
       "      <th></th>\n",
       "      <th>id</th>\n",
       "      <th>danceability</th>\n",
       "      <th>energy</th>\n",
       "      <th>key</th>\n",
       "      <th>loudness</th>\n",
       "      <th>mode</th>\n",
       "      <th>speechiness</th>\n",
       "      <th>acousticness</th>\n",
       "      <th>instrumentalness</th>\n",
       "      <th>liveness</th>\n",
       "      <th>valence</th>\n",
       "      <th>tempo</th>\n",
       "      <th>duration_ms</th>\n",
       "      <th>time_signature</th>\n",
       "    </tr>\n",
       "  </thead>\n",
       "  <tbody>\n",
       "    <tr>\n",
       "      <th>0</th>\n",
       "      <td>2CNDmxxFLmuD3qyiJgJz67</td>\n",
       "      <td>0.474</td>\n",
       "      <td>0.714</td>\n",
       "      <td>5</td>\n",
       "      <td>-3.516</td>\n",
       "      <td>0</td>\n",
       "      <td>0.0343</td>\n",
       "      <td>0.129</td>\n",
       "      <td>0.00000</td>\n",
       "      <td>0.1470</td>\n",
       "      <td>0.2250</td>\n",
       "      <td>139.984</td>\n",
       "      <td>212571</td>\n",
       "      <td>4</td>\n",
       "    </tr>\n",
       "    <tr>\n",
       "      <th>1</th>\n",
       "      <td>0VlTcVzfjA8y0S9L7XEirk</td>\n",
       "      <td>0.609</td>\n",
       "      <td>0.389</td>\n",
       "      <td>9</td>\n",
       "      <td>-16.846</td>\n",
       "      <td>0</td>\n",
       "      <td>0.0310</td>\n",
       "      <td>0.598</td>\n",
       "      <td>0.89300</td>\n",
       "      <td>0.0952</td>\n",
       "      <td>0.0392</td>\n",
       "      <td>125.027</td>\n",
       "      <td>253466</td>\n",
       "      <td>4</td>\n",
       "    </tr>\n",
       "    <tr>\n",
       "      <th>2</th>\n",
       "      <td>3Kybv5kFg5zj4iqeFO3hL6</td>\n",
       "      <td>0.274</td>\n",
       "      <td>0.510</td>\n",
       "      <td>5</td>\n",
       "      <td>-4.684</td>\n",
       "      <td>0</td>\n",
       "      <td>0.0354</td>\n",
       "      <td>0.643</td>\n",
       "      <td>0.00072</td>\n",
       "      <td>0.1800</td>\n",
       "      <td>0.0398</td>\n",
       "      <td>140.054</td>\n",
       "      <td>342857</td>\n",
       "      <td>4</td>\n",
       "    </tr>\n",
       "    <tr>\n",
       "      <th>3</th>\n",
       "      <td>3A0Z2vab5L5TyAXq0bJlkD</td>\n",
       "      <td>0.578</td>\n",
       "      <td>0.437</td>\n",
       "      <td>3</td>\n",
       "      <td>-15.251</td>\n",
       "      <td>0</td>\n",
       "      <td>0.0372</td>\n",
       "      <td>0.399</td>\n",
       "      <td>0.88700</td>\n",
       "      <td>0.3640</td>\n",
       "      <td>0.0575</td>\n",
       "      <td>103.861</td>\n",
       "      <td>288993</td>\n",
       "      <td>4</td>\n",
       "    </tr>\n",
       "    <tr>\n",
       "      <th>4</th>\n",
       "      <td>1XoMhaVxtcVukieSHOpBtn</td>\n",
       "      <td>0.335</td>\n",
       "      <td>0.888</td>\n",
       "      <td>0</td>\n",
       "      <td>-5.395</td>\n",
       "      <td>0</td>\n",
       "      <td>0.0887</td>\n",
       "      <td>0.140</td>\n",
       "      <td>0.60400</td>\n",
       "      <td>0.1710</td>\n",
       "      <td>0.1490</td>\n",
       "      <td>139.770</td>\n",
       "      <td>252590</td>\n",
       "      <td>4</td>\n",
       "    </tr>\n",
       "  </tbody>\n",
       "</table>\n",
       "</div>"
      ],
      "text/plain": [
       "                       id  danceability  energy  key  loudness  mode  \\\n",
       "0  2CNDmxxFLmuD3qyiJgJz67         0.474   0.714    5    -3.516     0   \n",
       "1  0VlTcVzfjA8y0S9L7XEirk         0.609   0.389    9   -16.846     0   \n",
       "2  3Kybv5kFg5zj4iqeFO3hL6         0.274   0.510    5    -4.684     0   \n",
       "3  3A0Z2vab5L5TyAXq0bJlkD         0.578   0.437    3   -15.251     0   \n",
       "4  1XoMhaVxtcVukieSHOpBtn         0.335   0.888    0    -5.395     0   \n",
       "\n",
       "   speechiness  acousticness  instrumentalness  liveness  valence    tempo  \\\n",
       "0       0.0343         0.129           0.00000    0.1470   0.2250  139.984   \n",
       "1       0.0310         0.598           0.89300    0.0952   0.0392  125.027   \n",
       "2       0.0354         0.643           0.00072    0.1800   0.0398  140.054   \n",
       "3       0.0372         0.399           0.88700    0.3640   0.0575  103.861   \n",
       "4       0.0887         0.140           0.60400    0.1710   0.1490  139.770   \n",
       "\n",
       "   duration_ms  time_signature  \n",
       "0       212571               4  \n",
       "1       253466               4  \n",
       "2       342857               4  \n",
       "3       288993               4  \n",
       "4       252590               4  "
      ]
     },
     "execution_count": 74,
     "metadata": {},
     "output_type": "execute_result"
    }
   ],
   "source": [
    "track_ids = recents['Track ID']\n",
    "features = sp.audio_features(track_ids.tolist())\n",
    "recents_features_df = pd.DataFrame(features)[['id', 'danceability', 'energy', 'key', 'loudness', 'mode', 'speechiness', 'acousticness', 'instrumentalness', 'liveness', 'valence', 'tempo', 'duration_ms', 'time_signature']]\n",
    "recents_features_df.head()"
   ]
  },
  {
   "cell_type": "code",
   "execution_count": 75,
   "metadata": {},
   "outputs": [],
   "source": [
    "master_features_df = pd.concat([features_df, recents_features_df])"
   ]
  },
  {
   "cell_type": "code",
   "execution_count": 76,
   "metadata": {},
   "outputs": [
    {
     "data": {
      "text/plain": [
       "(313, 14)"
      ]
     },
     "execution_count": 76,
     "metadata": {},
     "output_type": "execute_result"
    }
   ],
   "source": [
    "master_features_df = master_features_df.drop_duplicates(subset='id')\n",
    "master_features_df.shape"
   ]
  },
  {
   "cell_type": "code",
   "execution_count": 77,
   "metadata": {},
   "outputs": [
    {
     "data": {
      "text/html": [
       "<div>\n",
       "<style scoped>\n",
       "    .dataframe tbody tr th:only-of-type {\n",
       "        vertical-align: middle;\n",
       "    }\n",
       "\n",
       "    .dataframe tbody tr th {\n",
       "        vertical-align: top;\n",
       "    }\n",
       "\n",
       "    .dataframe thead th {\n",
       "        text-align: right;\n",
       "    }\n",
       "</style>\n",
       "<table border=\"1\" class=\"dataframe\">\n",
       "  <thead>\n",
       "    <tr style=\"text-align: right;\">\n",
       "      <th></th>\n",
       "      <th>id</th>\n",
       "      <th>danceability</th>\n",
       "      <th>energy</th>\n",
       "      <th>key</th>\n",
       "      <th>loudness</th>\n",
       "      <th>mode</th>\n",
       "      <th>speechiness</th>\n",
       "      <th>acousticness</th>\n",
       "      <th>instrumentalness</th>\n",
       "      <th>liveness</th>\n",
       "      <th>valence</th>\n",
       "      <th>tempo</th>\n",
       "      <th>duration_ms</th>\n",
       "      <th>time_signature</th>\n",
       "    </tr>\n",
       "  </thead>\n",
       "  <tbody>\n",
       "    <tr>\n",
       "      <th>0</th>\n",
       "      <td>0bqjS54zmDlYanW8mlx28k</td>\n",
       "      <td>0.542</td>\n",
       "      <td>0.857</td>\n",
       "      <td>2</td>\n",
       "      <td>-6.133</td>\n",
       "      <td>0</td>\n",
       "      <td>0.0352</td>\n",
       "      <td>0.00113</td>\n",
       "      <td>0.571000</td>\n",
       "      <td>0.0779</td>\n",
       "      <td>0.1620</td>\n",
       "      <td>128.011</td>\n",
       "      <td>337500</td>\n",
       "      <td>4</td>\n",
       "    </tr>\n",
       "    <tr>\n",
       "      <th>1</th>\n",
       "      <td>6P3bha1HLEaiwaDA5SlTRB</td>\n",
       "      <td>0.387</td>\n",
       "      <td>0.470</td>\n",
       "      <td>0</td>\n",
       "      <td>-8.508</td>\n",
       "      <td>0</td>\n",
       "      <td>0.0476</td>\n",
       "      <td>0.61300</td>\n",
       "      <td>0.859000</td>\n",
       "      <td>0.1330</td>\n",
       "      <td>0.2190</td>\n",
       "      <td>119.950</td>\n",
       "      <td>1662987</td>\n",
       "      <td>4</td>\n",
       "    </tr>\n",
       "    <tr>\n",
       "      <th>2</th>\n",
       "      <td>1Pz2FNGmyvRYnlKd58ANEW</td>\n",
       "      <td>0.349</td>\n",
       "      <td>0.696</td>\n",
       "      <td>3</td>\n",
       "      <td>-3.274</td>\n",
       "      <td>0</td>\n",
       "      <td>0.0362</td>\n",
       "      <td>0.01370</td>\n",
       "      <td>0.004070</td>\n",
       "      <td>0.1160</td>\n",
       "      <td>0.0782</td>\n",
       "      <td>173.901</td>\n",
       "      <td>330862</td>\n",
       "      <td>4</td>\n",
       "    </tr>\n",
       "    <tr>\n",
       "      <th>3</th>\n",
       "      <td>67b4kyYW9PcSu9ChwywKYe</td>\n",
       "      <td>0.638</td>\n",
       "      <td>0.823</td>\n",
       "      <td>0</td>\n",
       "      <td>-9.170</td>\n",
       "      <td>1</td>\n",
       "      <td>0.0401</td>\n",
       "      <td>0.03790</td>\n",
       "      <td>0.902000</td>\n",
       "      <td>0.1870</td>\n",
       "      <td>0.0384</td>\n",
       "      <td>124.017</td>\n",
       "      <td>210968</td>\n",
       "      <td>4</td>\n",
       "    </tr>\n",
       "    <tr>\n",
       "      <th>4</th>\n",
       "      <td>2piFAX26ski1mMmhWGnZQ8</td>\n",
       "      <td>0.475</td>\n",
       "      <td>0.440</td>\n",
       "      <td>2</td>\n",
       "      <td>-7.699</td>\n",
       "      <td>1</td>\n",
       "      <td>0.0297</td>\n",
       "      <td>0.12600</td>\n",
       "      <td>0.000003</td>\n",
       "      <td>0.1070</td>\n",
       "      <td>0.0584</td>\n",
       "      <td>95.043</td>\n",
       "      <td>267790</td>\n",
       "      <td>4</td>\n",
       "    </tr>\n",
       "  </tbody>\n",
       "</table>\n",
       "</div>"
      ],
      "text/plain": [
       "                       id  danceability  energy  key  loudness  mode  \\\n",
       "0  0bqjS54zmDlYanW8mlx28k         0.542   0.857    2    -6.133     0   \n",
       "1  6P3bha1HLEaiwaDA5SlTRB         0.387   0.470    0    -8.508     0   \n",
       "2  1Pz2FNGmyvRYnlKd58ANEW         0.349   0.696    3    -3.274     0   \n",
       "3  67b4kyYW9PcSu9ChwywKYe         0.638   0.823    0    -9.170     1   \n",
       "4  2piFAX26ski1mMmhWGnZQ8         0.475   0.440    2    -7.699     1   \n",
       "\n",
       "   speechiness  acousticness  instrumentalness  liveness  valence    tempo  \\\n",
       "0       0.0352       0.00113          0.571000    0.0779   0.1620  128.011   \n",
       "1       0.0476       0.61300          0.859000    0.1330   0.2190  119.950   \n",
       "2       0.0362       0.01370          0.004070    0.1160   0.0782  173.901   \n",
       "3       0.0401       0.03790          0.902000    0.1870   0.0384  124.017   \n",
       "4       0.0297       0.12600          0.000003    0.1070   0.0584   95.043   \n",
       "\n",
       "   duration_ms  time_signature  \n",
       "0       337500               4  \n",
       "1      1662987               4  \n",
       "2       330862               4  \n",
       "3       210968               4  \n",
       "4       267790               4  "
      ]
     },
     "execution_count": 77,
     "metadata": {},
     "output_type": "execute_result"
    }
   ],
   "source": [
    "master_features_df.head()"
   ]
  },
  {
   "cell_type": "code",
   "execution_count": 124,
   "metadata": {},
   "outputs": [
    {
     "data": {
      "application/vnd.plotly.v1+json": {
       "config": {
        "plotlyServerURL": "https://plot.ly"
       },
       "data": [
        {
         "hovertemplate": "danceability=%{x}<br>energy=%{y}<br>speechiness=%{z}<br>valence=%{marker.color}<extra></extra>",
         "legendgroup": "",
         "marker": {
          "color": [
           0.162,
           0.219,
           0.0782,
           0.0384,
           0.0584,
           0.253,
           0.244,
           0.107,
           0.0369,
           0.0517,
           0.0505,
           0.214,
           0.0379,
           0.0629,
           0.743,
           0.859,
           0.853,
           0.673,
           0.79,
           0.35,
           0.134,
           0.0551,
           0.725,
           0.625,
           0.539,
           0.517,
           0.298,
           0.973,
           0.47,
           0.231,
           0.321,
           0.166,
           0.0384,
           0.245,
           0.294,
           0.445,
           0.252,
           0.224,
           0.68,
           0.0964,
           0.296,
           0.1,
           0.112,
           0.0997,
           0.118,
           0.356,
           0.441,
           0.204,
           0.199,
           0.689,
           0.385,
           0.334,
           0.717,
           0.226,
           0.0968,
           0.247,
           0.378,
           0.623,
           0.253,
           0.328,
           0.331,
           0.129,
           0.366,
           0.95,
           0.747,
           0.612,
           0.0502,
           0.264,
           0.0398,
           0.522,
           0.102,
           0.462,
           0.324,
           0.21,
           0.272,
           0.0795,
           0.0965,
           0.401,
           0.549,
           0.331,
           0.746,
           0.0326,
           0.333,
           0.123,
           0.378,
           0.266,
           0.954,
           0.203,
           0.687,
           0.495,
           0.038,
           0.0335,
           0.281,
           0.361,
           0.625,
           0.0389,
           0.352,
           0.847,
           0.262,
           0.14,
           0.599,
           0.072,
           0.114,
           0.26,
           0.292,
           0.144,
           0.474,
           0.0388,
           0.115,
           0.1,
           0.1,
           0.371,
           0.0495,
           0.408,
           0.913,
           0.595,
           0.219,
           0.31,
           0.279,
           0.148,
           0.641,
           0.574,
           0.0742,
           0.231,
           0.408,
           0.223,
           0.13,
           0.623,
           0.035,
           0.908,
           0.17,
           0.396,
           0.94,
           0.152,
           0.808,
           0.272,
           0.126,
           0.399,
           0.0629,
           0.607,
           0.603,
           0.148,
           0.0981,
           0.0462,
           0.253,
           0.532,
           0.106,
           0.661,
           0.423,
           0.157,
           0.559,
           0.107,
           0.112,
           0.685,
           0.507,
           0.0615,
           0.22,
           0.0361,
           0.157,
           0.246,
           0.209,
           0.0344,
           0.126,
           0.589,
           0.405,
           0.177,
           0.118,
           0.443,
           0.588,
           0.308,
           0.367,
           0.04,
           0.0342,
           0.846,
           0.12,
           0.586,
           0.515,
           0.0272,
           0.231,
           0.436,
           0.157,
           0.0343,
           0.65,
           0.101,
           0.074,
           0.38,
           0.581,
           0.44,
           0.0376,
           0.0954,
           0.166,
           0.0342,
           0.059,
           0.617,
           0.218,
           0.16,
           0.0395,
           0.32,
           0.103,
           0.129,
           0.358,
           0.0401,
           0.192,
           0.46,
           0.606,
           0.525,
           0.449,
           0.0445,
           0.292,
           0.352,
           0.483,
           0.733,
           0.279,
           0.159,
           0.805,
           0.387,
           0.306,
           0.156,
           0.488,
           0.459,
           0.343,
           0.696,
           0.472,
           0.36,
           0.564,
           0.444,
           0.109,
           0.306,
           0.385,
           0.585,
           0.628,
           0.428,
           0.189,
           0.812,
           0.329,
           0.663,
           0.0726,
           0.0924,
           0.0393,
           0.154,
           0.279,
           0.113,
           0.552,
           0.434,
           0.568,
           0.609,
           0.854,
           0.27,
           0.207,
           0.806,
           0.247,
           0.436,
           0.717,
           0.377,
           0.25,
           0.373,
           0.67,
           0.312,
           0.252,
           0.732,
           0.128,
           0.0334,
           0.279,
           0.503,
           0.517,
           0.503,
           0.0684,
           0.0355,
           0.0786,
           0.342,
           0.0389,
           0.279,
           0.0611,
           0.0772,
           0.164,
           0.0436,
           0.0516,
           0.0871,
           0.0577,
           0.0655,
           0.602,
           0.239,
           0.7,
           0.476,
           0.0362,
           0.309,
           0.225,
           0.0392,
           0.0398,
           0.0575,
           0.149,
           0.205,
           0.039,
           0.126,
           0.383,
           0.238,
           0.0719,
           0.65,
           0.255,
           0.0389,
           0.132,
           0.0391,
           0.133,
           0.188,
           0.176,
           0.0371,
           0.0787,
           0.147,
           0.0889,
           0.0581,
           0.22,
           0.0385,
           0.535
          ],
          "coloraxis": "coloraxis",
          "symbol": "circle"
         },
         "mode": "markers",
         "name": "",
         "scene": "scene",
         "showlegend": false,
         "type": "scatter3d",
         "x": [
          0.542,
          0.387,
          0.349,
          0.638,
          0.475,
          0.342,
          0.543,
          0.246,
          0.234,
          0.38,
          0.175,
          0.659,
          0.469,
          0.214,
          0.638,
          0.848,
          0.747,
          0.856,
          0.788,
          0.639,
          0.219,
          0.196,
          0.721,
          0.714,
          0.601,
          0.36,
          0.553,
          0.577,
          0.769,
          0.524,
          0.258,
          0.658,
          0.171,
          0.418,
          0.418,
          0.54,
          0.175,
          0.382,
          0.774,
          0.454,
          0.348,
          0.255,
          0.453,
          0.7,
          0.483,
          0.604,
          0.423,
          0.441,
          0.66,
          0.703,
          0.566,
          0.514,
          0.676,
          0.692,
          0.434,
          0.409,
          0.632,
          0.5,
          0.57,
          0.5,
          0.522,
          0.529,
          0.57,
          0.511,
          0.615,
          0.456,
          0.371,
          0.389,
          0.494,
          0.58,
          0.412,
          0.554,
          0.67,
          0.437,
          0.187,
          0.408,
          0.51,
          0.215,
          0.705,
          0.527,
          0.443,
          0.555,
          0.725,
          0.361,
          0.561,
          0.634,
          0.757,
          0.498,
          0.737,
          0.571,
          0.457,
          0.572,
          0.591,
          0.537,
          0.612,
          0.0752,
          0.547,
          0.649,
          0.459,
          0.547,
          0.464,
          0.481,
          0.845,
          0.442,
          0.455,
          0.44,
          0.391,
          0.535,
          0.345,
          0.387,
          0.424,
          0.548,
          0.402,
          0.695,
          0.76,
          0.596,
          0.601,
          0.369,
          0.481,
          0.587,
          0.811,
          0.181,
          0.217,
          0.319,
          0.491,
          0.458,
          0.476,
          0.728,
          0.433,
          0.671,
          0.491,
          0.657,
          0.611,
          0.474,
          0.581,
          0.588,
          0.596,
          0.538,
          0.2,
          0.566,
          0.451,
          0.558,
          0.627,
          0.472,
          0.59,
          0.487,
          0.732,
          0.53,
          0.567,
          0.457,
          0.48,
          0.22,
          0.347,
          0.793,
          0.78,
          0.423,
          0.38,
          0.322,
          0.715,
          0.536,
          0.412,
          0.185,
          0.372,
          0.679,
          0.806,
          0.734,
          0.255,
          0.556,
          0.591,
          0.816,
          0.543,
          0.374,
          0.576,
          0.672,
          0.29,
          0.581,
          0.573,
          0.457,
          0.663,
          0.484,
          0.85,
          0.212,
          0.595,
          0.435,
          0.187,
          0.506,
          0.379,
          0.697,
          0.351,
          0.523,
          0.603,
          0.224,
          0.491,
          0.533,
          0.638,
          0.262,
          0.381,
          0.6,
          0.392,
          0.538,
          0.383,
          0.221,
          0.633,
          0.524,
          0.846,
          0.792,
          0.477,
          0.215,
          0.517,
          0.418,
          0.625,
          0.587,
          0.577,
          0.312,
          0.644,
          0.512,
          0.679,
          0.353,
          0.661,
          0.456,
          0.424,
          0.619,
          0.586,
          0.183,
          0.407,
          0.387,
          0.592,
          0.677,
          0.659,
          0.706,
          0.565,
          0.512,
          0.598,
          0.557,
          0.376,
          0.466,
          0.309,
          0.239,
          0.56,
          0.563,
          0.399,
          0.525,
          0.609,
          0.607,
          0.698,
          0.559,
          0.668,
          0.591,
          0.615,
          0.789,
          0.299,
          0.568,
          0.401,
          0.509,
          0.596,
          0.545,
          0.808,
          0.447,
          0.406,
          0.449,
          0.296,
          0.606,
          0.725,
          0.668,
          0.606,
          0.837,
          0.701,
          0.155,
          0.353,
          0.589,
          0.34,
          0.603,
          0.37,
          0.479,
          0.589,
          0.424,
          0.441,
          0.43,
          0.518,
          0.348,
          0.813,
          0.492,
          0.755,
          0.435,
          0.259,
          0.517,
          0.474,
          0.609,
          0.274,
          0.578,
          0.335,
          0.564,
          0.53,
          0.651,
          0.552,
          0.533,
          0.608,
          0.811,
          0.494,
          0.391,
          0.549,
          0.655,
          0.653,
          0.588,
          0.652,
          0.62,
          0.585,
          0.536,
          0.383,
          0.197,
          0.754,
          0.598,
          0.404
         ],
         "y": [
          0.857,
          0.47,
          0.696,
          0.823,
          0.44,
          0.798,
          0.466,
          0.551,
          0.26,
          0.219,
          0.351,
          0.571,
          0.6,
          0.263,
          0.877,
          0.734,
          0.681,
          0.863,
          0.49,
          0.632,
          0.358,
          0.113,
          0.668,
          0.689,
          0.605,
          0.822,
          0.787,
          0.672,
          0.281,
          0.791,
          0.747,
          0.671,
          0.465,
          0.66,
          0.546,
          0.926,
          0.678,
          0.819,
          0.664,
          0.689,
          0.708,
          0.576,
          0.807,
          0.657,
          0.905,
          0.851,
          0.672,
          0.771,
          0.787,
          0.446,
          0.769,
          0.73,
          0.857,
          0.257,
          0.488,
          0.185,
          0.135,
          0.455,
          0.828,
          0.498,
          0.636,
          0.704,
          0.607,
          0.614,
          0.592,
          0.386,
          0.858,
          0.753,
          0.79,
          0.728,
          0.672,
          0.692,
          0.604,
          0.418,
          0.608,
          0.702,
          0.274,
          0.801,
          0.729,
          0.716,
          0.737,
          0.147,
          0.807,
          0.441,
          0.33,
          0.869,
          0.578,
          0.447,
          0.678,
          0.935,
          0.58,
          0.958,
          0.843,
          0.53,
          0.602,
          0.915,
          0.738,
          0.829,
          0.539,
          0.828,
          0.671,
          0.546,
          0.398,
          0.463,
          0.224,
          0.0455,
          0.513,
          0.484,
          0.71,
          0.523,
          0.496,
          0.799,
          0.83,
          0.573,
          0.479,
          0.598,
          0.548,
          0.4,
          0.618,
          0.649,
          0.689,
          0.942,
          0.23,
          0.722,
          0.856,
          0.362,
          0.543,
          0.637,
          0.244,
          0.929,
          0.762,
          0.842,
          0.942,
          0.646,
          0.672,
          0.336,
          0.19,
          0.857,
          0.38,
          0.585,
          0.828,
          0.32,
          0.471,
          0.657,
          0.782,
          0.627,
          0.243,
          0.913,
          0.743,
          0.259,
          0.96,
          0.218,
          0.416,
          0.79,
          0.768,
          0.232,
          0.591,
          0.615,
          0.899,
          0.702,
          0.595,
          0.297,
          0.0195,
          0.724,
          0.428,
          0.618,
          0.393,
          0.602,
          0.673,
          0.386,
          0.508,
          0.751,
          0.737,
          0.762,
          0.412,
          0.886,
          0.473,
          0.668,
          0.864,
          0.764,
          0.396,
          0.0681,
          0.912,
          0.648,
          0.505,
          0.634,
          0.653,
          0.514,
          0.631,
          0.525,
          0.39,
          0.496,
          0.307,
          0.739,
          0.898,
          0.683,
          0.349,
          0.663,
          0.35,
          0.726,
          0.93,
          0.0879,
          0.631,
          0.634,
          0.377,
          0.924,
          0.763,
          0.437,
          0.796,
          0.383,
          0.726,
          0.631,
          0.748,
          0.465,
          0.747,
          0.688,
          0.873,
          0.326,
          0.574,
          0.677,
          0.616,
          0.896,
          0.685,
          0.984,
          0.975,
          0.94,
          0.391,
          0.566,
          0.759,
          0.827,
          0.806,
          0.976,
          0.67,
          0.704,
          0.594,
          0.777,
          0.745,
          0.761,
          0.305,
          0.836,
          0.645,
          0.749,
          0.435,
          0.466,
          0.649,
          0.292,
          0.31,
          0.738,
          0.6,
          0.671,
          0.706,
          0.87,
          0.954,
          0.811,
          0.752,
          0.655,
          0.96,
          0.558,
          0.832,
          0.963,
          0.226,
          0.626,
          0.931,
          0.886,
          0.874,
          0.736,
          0.777,
          0.472,
          0.619,
          0.717,
          0.747,
          0.854,
          0.219,
          0.717,
          0.503,
          0.417,
          0.729,
          0.133,
          0.411,
          0.0598,
          0.513,
          0.908,
          0.915,
          0.473,
          0.569,
          0.666,
          0.714,
          0.389,
          0.51,
          0.437,
          0.888,
          0.842,
          0.727,
          0.709,
          0.848,
          0.818,
          0.682,
          0.684,
          0.876,
          0.905,
          0.602,
          0.845,
          0.439,
          0.884,
          0.339,
          0.537,
          0.831,
          0.7,
          0.762,
          0.512,
          0.749,
          0.561,
          0.63
         ],
         "z": [
          0.0352,
          0.0476,
          0.0362,
          0.0401,
          0.0297,
          0.054,
          0.037,
          0.0501,
          0.035,
          0.0358,
          0.0374,
          0.0283,
          0.0566,
          0.0353,
          0.0302,
          0.0506,
          0.117,
          0.057,
          0.511,
          0.029,
          0.0512,
          0.0452,
          0.0322,
          0.0455,
          0.0267,
          0.0381,
          0.0931,
          0.0343,
          0.0289,
          0.387,
          0.0417,
          0.0363,
          0.0402,
          0.0447,
          0.238,
          0.0526,
          0.0646,
          0.0495,
          0.0301,
          0.0362,
          0.0827,
          0.0323,
          0.0665,
          0.15,
          0.0417,
          0.107,
          0.0475,
          0.0371,
          0.032,
          0.143,
          0.0872,
          0.0598,
          0.0438,
          0.0545,
          0.0411,
          0.0588,
          0.0933,
          0.0243,
          0.0384,
          0.0289,
          0.0306,
          0.028,
          0.0285,
          0.322,
          0.0443,
          0.032,
          0.039,
          0.0343,
          0.0338,
          0.0336,
          0.0713,
          0.0512,
          0.0311,
          0.0323,
          0.044,
          0.0468,
          0.0348,
          0.0379,
          0.221,
          0.0616,
          0.0293,
          0.0701,
          0.0266,
          0.0285,
          0.0268,
          0.0383,
          0.0386,
          0.0323,
          0.0953,
          0.0275,
          0.096,
          0.047,
          0.0299,
          0.0309,
          0.0252,
          0.0754,
          0.0623,
          0.0455,
          0.0287,
          0.0562,
          0.0434,
          0.0723,
          0.0948,
          0.03,
          0.03,
          0.0478,
          0.0328,
          0.0332,
          0.0857,
          0.035,
          0.032,
          0.0606,
          0.054,
          0.106,
          0.0466,
          0.0268,
          0.089,
          0.0443,
          0.0271,
          0.0448,
          0.0628,
          0.25,
          0.0324,
          0.0399,
          0.0308,
          0.0305,
          0.0481,
          0.0461,
          0.0344,
          0.0342,
          0.0335,
          0.0344,
          0.101,
          0.0325,
          0.0602,
          0.036,
          0.0324,
          0.0535,
          0.0347,
          0.0502,
          0.035,
          0.0309,
          0.0378,
          0.0401,
          0.0586,
          0.0259,
          0.0435,
          0.0444,
          0.0626,
          0.0397,
          0.114,
          0.0383,
          0.0317,
          0.0497,
          0.238,
          0.0362,
          0.0321,
          0.0427,
          0.111,
          0.0284,
          0.0276,
          0.0353,
          0.0661,
          0.078,
          0.058,
          0.0278,
          0.0278,
          0.0313,
          0.0319,
          0.0338,
          0.0282,
          0.0611,
          0.0641,
          0.25,
          0.0458,
          0.0324,
          0.0268,
          0.0458,
          0.0528,
          0.0479,
          0.132,
          0.0408,
          0.0734,
          0.0339,
          0.0369,
          0.0332,
          0.0431,
          0.0286,
          0.0353,
          0.0417,
          0.031,
          0.03,
          0.0363,
          0.0602,
          0.128,
          0.0332,
          0.0419,
          0.0283,
          0.0281,
          0.0337,
          0.0621,
          0.0381,
          0.0469,
          0.0376,
          0.169,
          0.101,
          0.0319,
          0.0309,
          0.0433,
          0.0257,
          0.155,
          0.308,
          0.0357,
          0.0342,
          0.0282,
          0.0382,
          0.0277,
          0.0901,
          0.0272,
          0.0285,
          0.0316,
          0.114,
          0.0493,
          0.186,
          0.0779,
          0.0528,
          0.0265,
          0.185,
          0.0701,
          0.0359,
          0.109,
          0.0861,
          0.095,
          0.145,
          0.096,
          0.0863,
          0.0462,
          0.0354,
          0.0278,
          0.0357,
          0.0531,
          0.0863,
          0.285,
          0.0578,
          0.415,
          0.0523,
          0.0555,
          0.293,
          0.0344,
          0.0344,
          0.0687,
          0.0778,
          0.0966,
          0.0547,
          0.0323,
          0.0284,
          0.424,
          0.0244,
          0.107,
          0.0558,
          0.0321,
          0.0503,
          0.0651,
          0.117,
          0.0416,
          0.126,
          0.0634,
          0.0347,
          0.0366,
          0.033,
          0.0452,
          0.0422,
          0.0384,
          0.0434,
          0.035,
          0.0283,
          0.0358,
          0.0566,
          0.0358,
          0.0333,
          0.0464,
          0.0651,
          0.105,
          0.0513,
          0.0386,
          0.042,
          0.0343,
          0.031,
          0.0354,
          0.0372,
          0.0887,
          0.0445,
          0.049,
          0.037,
          0.0326,
          0.0312,
          0.0324,
          0.063,
          0.0354,
          0.0448,
          0.0377,
          0.0365,
          0.0396,
          0.0831,
          0.166,
          0.0361,
          0.0462,
          0.0353,
          0.0361,
          0.0346,
          0.0484,
          0.0511,
          0.0369
         ]
        }
       ],
       "layout": {
        "coloraxis": {
         "colorbar": {
          "title": {
           "text": "valence"
          }
         },
         "colorscale": [
          [
           0,
           "#ff0000"
          ],
          [
           1,
           "#00ff00"
          ]
         ]
        },
        "height": 600,
        "legend": {
         "tracegroupgap": 0
        },
        "margin": {
         "b": 0,
         "l": 0,
         "r": 0,
         "t": 50
        },
        "scene": {
         "camera": {
          "center": {
           "z": -0.25
          },
          "eye": {
           "x": 1.3,
           "y": 1.3,
           "z": 1.3
          }
         },
         "domain": {
          "x": [
           0,
           1
          ],
          "y": [
           0,
           1
          ]
         },
         "xaxis": {
          "title": {
           "text": "danceability"
          }
         },
         "yaxis": {
          "title": {
           "text": "energy"
          }
         },
         "zaxis": {
          "title": {
           "text": "speechiness"
          }
         }
        },
        "template": {
         "data": {
          "bar": [
           {
            "error_x": {
             "color": "#2a3f5f"
            },
            "error_y": {
             "color": "#2a3f5f"
            },
            "marker": {
             "line": {
              "color": "#E5ECF6",
              "width": 0.5
             },
             "pattern": {
              "fillmode": "overlay",
              "size": 10,
              "solidity": 0.2
             }
            },
            "type": "bar"
           }
          ],
          "barpolar": [
           {
            "marker": {
             "line": {
              "color": "#E5ECF6",
              "width": 0.5
             },
             "pattern": {
              "fillmode": "overlay",
              "size": 10,
              "solidity": 0.2
             }
            },
            "type": "barpolar"
           }
          ],
          "carpet": [
           {
            "aaxis": {
             "endlinecolor": "#2a3f5f",
             "gridcolor": "white",
             "linecolor": "white",
             "minorgridcolor": "white",
             "startlinecolor": "#2a3f5f"
            },
            "baxis": {
             "endlinecolor": "#2a3f5f",
             "gridcolor": "white",
             "linecolor": "white",
             "minorgridcolor": "white",
             "startlinecolor": "#2a3f5f"
            },
            "type": "carpet"
           }
          ],
          "choropleth": [
           {
            "colorbar": {
             "outlinewidth": 0,
             "ticks": ""
            },
            "type": "choropleth"
           }
          ],
          "contour": [
           {
            "colorbar": {
             "outlinewidth": 0,
             "ticks": ""
            },
            "colorscale": [
             [
              0,
              "#0d0887"
             ],
             [
              0.1111111111111111,
              "#46039f"
             ],
             [
              0.2222222222222222,
              "#7201a8"
             ],
             [
              0.3333333333333333,
              "#9c179e"
             ],
             [
              0.4444444444444444,
              "#bd3786"
             ],
             [
              0.5555555555555556,
              "#d8576b"
             ],
             [
              0.6666666666666666,
              "#ed7953"
             ],
             [
              0.7777777777777778,
              "#fb9f3a"
             ],
             [
              0.8888888888888888,
              "#fdca26"
             ],
             [
              1,
              "#f0f921"
             ]
            ],
            "type": "contour"
           }
          ],
          "contourcarpet": [
           {
            "colorbar": {
             "outlinewidth": 0,
             "ticks": ""
            },
            "type": "contourcarpet"
           }
          ],
          "heatmap": [
           {
            "colorbar": {
             "outlinewidth": 0,
             "ticks": ""
            },
            "colorscale": [
             [
              0,
              "#0d0887"
             ],
             [
              0.1111111111111111,
              "#46039f"
             ],
             [
              0.2222222222222222,
              "#7201a8"
             ],
             [
              0.3333333333333333,
              "#9c179e"
             ],
             [
              0.4444444444444444,
              "#bd3786"
             ],
             [
              0.5555555555555556,
              "#d8576b"
             ],
             [
              0.6666666666666666,
              "#ed7953"
             ],
             [
              0.7777777777777778,
              "#fb9f3a"
             ],
             [
              0.8888888888888888,
              "#fdca26"
             ],
             [
              1,
              "#f0f921"
             ]
            ],
            "type": "heatmap"
           }
          ],
          "heatmapgl": [
           {
            "colorbar": {
             "outlinewidth": 0,
             "ticks": ""
            },
            "colorscale": [
             [
              0,
              "#0d0887"
             ],
             [
              0.1111111111111111,
              "#46039f"
             ],
             [
              0.2222222222222222,
              "#7201a8"
             ],
             [
              0.3333333333333333,
              "#9c179e"
             ],
             [
              0.4444444444444444,
              "#bd3786"
             ],
             [
              0.5555555555555556,
              "#d8576b"
             ],
             [
              0.6666666666666666,
              "#ed7953"
             ],
             [
              0.7777777777777778,
              "#fb9f3a"
             ],
             [
              0.8888888888888888,
              "#fdca26"
             ],
             [
              1,
              "#f0f921"
             ]
            ],
            "type": "heatmapgl"
           }
          ],
          "histogram": [
           {
            "marker": {
             "pattern": {
              "fillmode": "overlay",
              "size": 10,
              "solidity": 0.2
             }
            },
            "type": "histogram"
           }
          ],
          "histogram2d": [
           {
            "colorbar": {
             "outlinewidth": 0,
             "ticks": ""
            },
            "colorscale": [
             [
              0,
              "#0d0887"
             ],
             [
              0.1111111111111111,
              "#46039f"
             ],
             [
              0.2222222222222222,
              "#7201a8"
             ],
             [
              0.3333333333333333,
              "#9c179e"
             ],
             [
              0.4444444444444444,
              "#bd3786"
             ],
             [
              0.5555555555555556,
              "#d8576b"
             ],
             [
              0.6666666666666666,
              "#ed7953"
             ],
             [
              0.7777777777777778,
              "#fb9f3a"
             ],
             [
              0.8888888888888888,
              "#fdca26"
             ],
             [
              1,
              "#f0f921"
             ]
            ],
            "type": "histogram2d"
           }
          ],
          "histogram2dcontour": [
           {
            "colorbar": {
             "outlinewidth": 0,
             "ticks": ""
            },
            "colorscale": [
             [
              0,
              "#0d0887"
             ],
             [
              0.1111111111111111,
              "#46039f"
             ],
             [
              0.2222222222222222,
              "#7201a8"
             ],
             [
              0.3333333333333333,
              "#9c179e"
             ],
             [
              0.4444444444444444,
              "#bd3786"
             ],
             [
              0.5555555555555556,
              "#d8576b"
             ],
             [
              0.6666666666666666,
              "#ed7953"
             ],
             [
              0.7777777777777778,
              "#fb9f3a"
             ],
             [
              0.8888888888888888,
              "#fdca26"
             ],
             [
              1,
              "#f0f921"
             ]
            ],
            "type": "histogram2dcontour"
           }
          ],
          "mesh3d": [
           {
            "colorbar": {
             "outlinewidth": 0,
             "ticks": ""
            },
            "type": "mesh3d"
           }
          ],
          "parcoords": [
           {
            "line": {
             "colorbar": {
              "outlinewidth": 0,
              "ticks": ""
             }
            },
            "type": "parcoords"
           }
          ],
          "pie": [
           {
            "automargin": true,
            "type": "pie"
           }
          ],
          "scatter": [
           {
            "marker": {
             "colorbar": {
              "outlinewidth": 0,
              "ticks": ""
             }
            },
            "type": "scatter"
           }
          ],
          "scatter3d": [
           {
            "line": {
             "colorbar": {
              "outlinewidth": 0,
              "ticks": ""
             }
            },
            "marker": {
             "colorbar": {
              "outlinewidth": 0,
              "ticks": ""
             }
            },
            "type": "scatter3d"
           }
          ],
          "scattercarpet": [
           {
            "marker": {
             "colorbar": {
              "outlinewidth": 0,
              "ticks": ""
             }
            },
            "type": "scattercarpet"
           }
          ],
          "scattergeo": [
           {
            "marker": {
             "colorbar": {
              "outlinewidth": 0,
              "ticks": ""
             }
            },
            "type": "scattergeo"
           }
          ],
          "scattergl": [
           {
            "marker": {
             "colorbar": {
              "outlinewidth": 0,
              "ticks": ""
             }
            },
            "type": "scattergl"
           }
          ],
          "scattermapbox": [
           {
            "marker": {
             "colorbar": {
              "outlinewidth": 0,
              "ticks": ""
             }
            },
            "type": "scattermapbox"
           }
          ],
          "scatterpolar": [
           {
            "marker": {
             "colorbar": {
              "outlinewidth": 0,
              "ticks": ""
             }
            },
            "type": "scatterpolar"
           }
          ],
          "scatterpolargl": [
           {
            "marker": {
             "colorbar": {
              "outlinewidth": 0,
              "ticks": ""
             }
            },
            "type": "scatterpolargl"
           }
          ],
          "scatterternary": [
           {
            "marker": {
             "colorbar": {
              "outlinewidth": 0,
              "ticks": ""
             }
            },
            "type": "scatterternary"
           }
          ],
          "surface": [
           {
            "colorbar": {
             "outlinewidth": 0,
             "ticks": ""
            },
            "colorscale": [
             [
              0,
              "#0d0887"
             ],
             [
              0.1111111111111111,
              "#46039f"
             ],
             [
              0.2222222222222222,
              "#7201a8"
             ],
             [
              0.3333333333333333,
              "#9c179e"
             ],
             [
              0.4444444444444444,
              "#bd3786"
             ],
             [
              0.5555555555555556,
              "#d8576b"
             ],
             [
              0.6666666666666666,
              "#ed7953"
             ],
             [
              0.7777777777777778,
              "#fb9f3a"
             ],
             [
              0.8888888888888888,
              "#fdca26"
             ],
             [
              1,
              "#f0f921"
             ]
            ],
            "type": "surface"
           }
          ],
          "table": [
           {
            "cells": {
             "fill": {
              "color": "#EBF0F8"
             },
             "line": {
              "color": "white"
             }
            },
            "header": {
             "fill": {
              "color": "#C8D4E3"
             },
             "line": {
              "color": "white"
             }
            },
            "type": "table"
           }
          ]
         },
         "layout": {
          "annotationdefaults": {
           "arrowcolor": "#2a3f5f",
           "arrowhead": 0,
           "arrowwidth": 1
          },
          "autotypenumbers": "strict",
          "coloraxis": {
           "colorbar": {
            "outlinewidth": 0,
            "ticks": ""
           }
          },
          "colorscale": {
           "diverging": [
            [
             0,
             "#8e0152"
            ],
            [
             0.1,
             "#c51b7d"
            ],
            [
             0.2,
             "#de77ae"
            ],
            [
             0.3,
             "#f1b6da"
            ],
            [
             0.4,
             "#fde0ef"
            ],
            [
             0.5,
             "#f7f7f7"
            ],
            [
             0.6,
             "#e6f5d0"
            ],
            [
             0.7,
             "#b8e186"
            ],
            [
             0.8,
             "#7fbc41"
            ],
            [
             0.9,
             "#4d9221"
            ],
            [
             1,
             "#276419"
            ]
           ],
           "sequential": [
            [
             0,
             "#0d0887"
            ],
            [
             0.1111111111111111,
             "#46039f"
            ],
            [
             0.2222222222222222,
             "#7201a8"
            ],
            [
             0.3333333333333333,
             "#9c179e"
            ],
            [
             0.4444444444444444,
             "#bd3786"
            ],
            [
             0.5555555555555556,
             "#d8576b"
            ],
            [
             0.6666666666666666,
             "#ed7953"
            ],
            [
             0.7777777777777778,
             "#fb9f3a"
            ],
            [
             0.8888888888888888,
             "#fdca26"
            ],
            [
             1,
             "#f0f921"
            ]
           ],
           "sequentialminus": [
            [
             0,
             "#0d0887"
            ],
            [
             0.1111111111111111,
             "#46039f"
            ],
            [
             0.2222222222222222,
             "#7201a8"
            ],
            [
             0.3333333333333333,
             "#9c179e"
            ],
            [
             0.4444444444444444,
             "#bd3786"
            ],
            [
             0.5555555555555556,
             "#d8576b"
            ],
            [
             0.6666666666666666,
             "#ed7953"
            ],
            [
             0.7777777777777778,
             "#fb9f3a"
            ],
            [
             0.8888888888888888,
             "#fdca26"
            ],
            [
             1,
             "#f0f921"
            ]
           ]
          },
          "colorway": [
           "#636efa",
           "#EF553B",
           "#00cc96",
           "#ab63fa",
           "#FFA15A",
           "#19d3f3",
           "#FF6692",
           "#B6E880",
           "#FF97FF",
           "#FECB52"
          ],
          "font": {
           "color": "#2a3f5f"
          },
          "geo": {
           "bgcolor": "white",
           "lakecolor": "white",
           "landcolor": "#E5ECF6",
           "showlakes": true,
           "showland": true,
           "subunitcolor": "white"
          },
          "hoverlabel": {
           "align": "left"
          },
          "hovermode": "closest",
          "mapbox": {
           "style": "light"
          },
          "paper_bgcolor": "white",
          "plot_bgcolor": "#E5ECF6",
          "polar": {
           "angularaxis": {
            "gridcolor": "white",
            "linecolor": "white",
            "ticks": ""
           },
           "bgcolor": "#E5ECF6",
           "radialaxis": {
            "gridcolor": "white",
            "linecolor": "white",
            "ticks": ""
           }
          },
          "scene": {
           "xaxis": {
            "backgroundcolor": "#E5ECF6",
            "gridcolor": "white",
            "gridwidth": 2,
            "linecolor": "white",
            "showbackground": true,
            "ticks": "",
            "zerolinecolor": "white"
           },
           "yaxis": {
            "backgroundcolor": "#E5ECF6",
            "gridcolor": "white",
            "gridwidth": 2,
            "linecolor": "white",
            "showbackground": true,
            "ticks": "",
            "zerolinecolor": "white"
           },
           "zaxis": {
            "backgroundcolor": "#E5ECF6",
            "gridcolor": "white",
            "gridwidth": 2,
            "linecolor": "white",
            "showbackground": true,
            "ticks": "",
            "zerolinecolor": "white"
           }
          },
          "shapedefaults": {
           "line": {
            "color": "#2a3f5f"
           }
          },
          "ternary": {
           "aaxis": {
            "gridcolor": "white",
            "linecolor": "white",
            "ticks": ""
           },
           "baxis": {
            "gridcolor": "white",
            "linecolor": "white",
            "ticks": ""
           },
           "bgcolor": "#E5ECF6",
           "caxis": {
            "gridcolor": "white",
            "linecolor": "white",
            "ticks": ""
           }
          },
          "title": {
           "x": 0.05
          },
          "xaxis": {
           "automargin": true,
           "gridcolor": "white",
           "linecolor": "white",
           "ticks": "",
           "title": {
            "standoff": 15
           },
           "zerolinecolor": "white",
           "zerolinewidth": 2
          },
          "yaxis": {
           "automargin": true,
           "gridcolor": "white",
           "linecolor": "white",
           "ticks": "",
           "title": {
            "standoff": 15
           },
           "zerolinecolor": "white",
           "zerolinewidth": 2
          }
         }
        },
        "title": {
         "text": "Speechiness, Energy, and Danceability of saved tracks and most recent 50 tracks"
        },
        "width": 800
       }
      }
     },
     "metadata": {},
     "output_type": "display_data"
    }
   ],
   "source": [
    "fig = px.scatter_3d(master_features_df, x='danceability', y='energy', z='speechiness', width=800, height=600, color='valence', color_continuous_scale=['#ff0000', '#00ff00'])\n",
    "zoom_level = 1.3\n",
    "camera = dict(\n",
    "    eye=dict(x=zoom_level, y=zoom_level, z=zoom_level),\n",
    "    center_z=-0.25\n",
    ")\n",
    "fig.update_layout(scene_camera=camera, title='Speechiness, Energy, and Danceability of saved tracks and most recent 50 tracks', margin=dict(b=0, l=0, r=0, t=50))\n",
    "fig.show()"
   ]
  }
 ],
 "metadata": {
  "interpreter": {
   "hash": "6971d8255f90602c68766a1865d9824b08aa38539d9ee2eeef84af9b4ed5eb18"
  },
  "kernelspec": {
   "display_name": "Python 3.10.2 ('.env': venv)",
   "language": "python",
   "name": "python3"
  },
  "language_info": {
   "codemirror_mode": {
    "name": "ipython",
    "version": 3
   },
   "file_extension": ".py",
   "mimetype": "text/x-python",
   "name": "python",
   "nbconvert_exporter": "python",
   "pygments_lexer": "ipython3",
   "version": "3.8.9"
  },
  "orig_nbformat": 4
 },
 "nbformat": 4,
 "nbformat_minor": 2
}
