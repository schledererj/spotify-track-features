{
 "cells": [
  {
   "cell_type": "markdown",
   "metadata": {},
   "source": [
    "# Spotify track features analysis"
   ]
  },
  {
   "cell_type": "code",
   "execution_count": 123,
   "metadata": {},
   "outputs": [],
   "source": [
    "from spotipy import Spotify\n",
    "import pandas as pd\n",
    "import plotly.express as px"
   ]
  },
  {
   "cell_type": "markdown",
   "metadata": {},
   "source": [
    "## Login and get data\n",
    "\n",
    "I used the accompanying `login.py` script to generate an access token, which can be supplied directly as the `auth` kwarg to the client initializer."
   ]
  },
  {
   "cell_type": "code",
   "execution_count": 126,
   "metadata": {},
   "outputs": [],
   "source": [
    "sp = Spotify(auth=\"REDACTED\")"
   ]
  },
  {
   "cell_type": "markdown",
   "metadata": {},
   "source": [
    "Start off by getting my playlists, my saved songs, and my most recent plays."
   ]
  },
  {
   "cell_type": "code",
   "execution_count": 127,
   "metadata": {},
   "outputs": [],
   "source": [
    "playlists = sp.current_user_playlists()['items']"
   ]
  },
  {
   "cell_type": "code",
   "execution_count": 128,
   "metadata": {},
   "outputs": [
    {
     "data": {
      "text/html": [
       "<div>\n",
       "<style scoped>\n",
       "    .dataframe tbody tr th:only-of-type {\n",
       "        vertical-align: middle;\n",
       "    }\n",
       "\n",
       "    .dataframe tbody tr th {\n",
       "        vertical-align: top;\n",
       "    }\n",
       "\n",
       "    .dataframe thead th {\n",
       "        text-align: right;\n",
       "    }\n",
       "</style>\n",
       "<table border=\"1\" class=\"dataframe\">\n",
       "  <thead>\n",
       "    <tr style=\"text-align: right;\">\n",
       "      <th></th>\n",
       "      <th>ID</th>\n",
       "      <th>Name</th>\n",
       "    </tr>\n",
       "  </thead>\n",
       "  <tbody>\n",
       "    <tr>\n",
       "      <th>0</th>\n",
       "      <td>05uRh5eogpZNyLGXLzLPrW</td>\n",
       "      <td>buffalo</td>\n",
       "    </tr>\n",
       "    <tr>\n",
       "      <th>1</th>\n",
       "      <td>4po0sG9mdx1phmlhH8adQL</td>\n",
       "      <td>dark and wavvy</td>\n",
       "    </tr>\n",
       "    <tr>\n",
       "      <th>2</th>\n",
       "      <td>21k0bkuYPlawkg6w2429rn</td>\n",
       "      <td>where's jon - part i</td>\n",
       "    </tr>\n",
       "    <tr>\n",
       "      <th>3</th>\n",
       "      <td>06zvFArrpSrYTtCqz69nDy</td>\n",
       "      <td>songs</td>\n",
       "    </tr>\n",
       "    <tr>\n",
       "      <th>4</th>\n",
       "      <td>5FwP3qXtWiiXlMALrhWsm3</td>\n",
       "      <td>synthy?</td>\n",
       "    </tr>\n",
       "  </tbody>\n",
       "</table>\n",
       "</div>"
      ],
      "text/plain": [
       "                       ID                  Name\n",
       "0  05uRh5eogpZNyLGXLzLPrW               buffalo\n",
       "1  4po0sG9mdx1phmlhH8adQL        dark and wavvy\n",
       "2  21k0bkuYPlawkg6w2429rn  where's jon - part i\n",
       "3  06zvFArrpSrYTtCqz69nDy                 songs\n",
       "4  5FwP3qXtWiiXlMALrhWsm3               synthy?"
      ]
     },
     "execution_count": 128,
     "metadata": {},
     "output_type": "execute_result"
    }
   ],
   "source": [
    "plists = [{\"ID\": x['id'], \"Name\": x['name']} for x in playlists]\n",
    "plists = pd.DataFrame(plists)\n",
    "plists.head()"
   ]
  },
  {
   "cell_type": "code",
   "execution_count": 129,
   "metadata": {},
   "outputs": [],
   "source": [
    "recents = sp.current_user_recently_played()"
   ]
  },
  {
   "cell_type": "code",
   "execution_count": 130,
   "metadata": {},
   "outputs": [
    {
     "data": {
      "text/html": [
       "<div>\n",
       "<style scoped>\n",
       "    .dataframe tbody tr th:only-of-type {\n",
       "        vertical-align: middle;\n",
       "    }\n",
       "\n",
       "    .dataframe tbody tr th {\n",
       "        vertical-align: top;\n",
       "    }\n",
       "\n",
       "    .dataframe thead th {\n",
       "        text-align: right;\n",
       "    }\n",
       "</style>\n",
       "<table border=\"1\" class=\"dataframe\">\n",
       "  <thead>\n",
       "    <tr style=\"text-align: right;\">\n",
       "      <th></th>\n",
       "      <th>Artists</th>\n",
       "      <th>Artist IDs</th>\n",
       "      <th>Name</th>\n",
       "      <th>Track ID</th>\n",
       "      <th>Popularity</th>\n",
       "      <th>Album ID</th>\n",
       "    </tr>\n",
       "  </thead>\n",
       "  <tbody>\n",
       "    <tr>\n",
       "      <th>0</th>\n",
       "      <td>Veeshy</td>\n",
       "      <td>4I9gvXHCMWMzarL8yOyjIL</td>\n",
       "      <td>Beverly Blues</td>\n",
       "      <td>13NCh4WiC6l7AGyWDMvLqh</td>\n",
       "      <td>20</td>\n",
       "      <td>2JRlWH7ozsFUDU9aOrqeM0</td>\n",
       "    </tr>\n",
       "    <tr>\n",
       "      <th>1</th>\n",
       "      <td>Veeshy, Phonic Youth</td>\n",
       "      <td>4I9gvXHCMWMzarL8yOyjIL,19j2mxQkCDl6jNS9s6bf3D</td>\n",
       "      <td>Sunset Strip</td>\n",
       "      <td>54leWgkYwmwTGXf97IyQAZ</td>\n",
       "      <td>35</td>\n",
       "      <td>2JRlWH7ozsFUDU9aOrqeM0</td>\n",
       "    </tr>\n",
       "    <tr>\n",
       "      <th>2</th>\n",
       "      <td>Veeshy</td>\n",
       "      <td>4I9gvXHCMWMzarL8yOyjIL</td>\n",
       "      <td>Re-L.A.X.</td>\n",
       "      <td>6Ig7e0deA3hFCuOQtPXjDk</td>\n",
       "      <td>20</td>\n",
       "      <td>2JRlWH7ozsFUDU9aOrqeM0</td>\n",
       "    </tr>\n",
       "    <tr>\n",
       "      <th>3</th>\n",
       "      <td>Veeshy</td>\n",
       "      <td>4I9gvXHCMWMzarL8yOyjIL</td>\n",
       "      <td>Mulholland Drive</td>\n",
       "      <td>0bWRGbQRGJeMZnTwryl09m</td>\n",
       "      <td>23</td>\n",
       "      <td>2JRlWH7ozsFUDU9aOrqeM0</td>\n",
       "    </tr>\n",
       "    <tr>\n",
       "      <th>4</th>\n",
       "      <td>Veeshy, Brandon Mignacca</td>\n",
       "      <td>4I9gvXHCMWMzarL8yOyjIL,5k1EecpyjkutxtmZKlsBOj</td>\n",
       "      <td>Let Me Down</td>\n",
       "      <td>1njLPXRavhN7KTt7nRLO3X</td>\n",
       "      <td>27</td>\n",
       "      <td>2JRlWH7ozsFUDU9aOrqeM0</td>\n",
       "    </tr>\n",
       "  </tbody>\n",
       "</table>\n",
       "</div>"
      ],
      "text/plain": [
       "                    Artists                                     Artist IDs  \\\n",
       "0                    Veeshy                         4I9gvXHCMWMzarL8yOyjIL   \n",
       "1      Veeshy, Phonic Youth  4I9gvXHCMWMzarL8yOyjIL,19j2mxQkCDl6jNS9s6bf3D   \n",
       "2                    Veeshy                         4I9gvXHCMWMzarL8yOyjIL   \n",
       "3                    Veeshy                         4I9gvXHCMWMzarL8yOyjIL   \n",
       "4  Veeshy, Brandon Mignacca  4I9gvXHCMWMzarL8yOyjIL,5k1EecpyjkutxtmZKlsBOj   \n",
       "\n",
       "               Name                Track ID  Popularity  \\\n",
       "0     Beverly Blues  13NCh4WiC6l7AGyWDMvLqh          20   \n",
       "1      Sunset Strip  54leWgkYwmwTGXf97IyQAZ          35   \n",
       "2         Re-L.A.X.  6Ig7e0deA3hFCuOQtPXjDk          20   \n",
       "3  Mulholland Drive  0bWRGbQRGJeMZnTwryl09m          23   \n",
       "4       Let Me Down  1njLPXRavhN7KTt7nRLO3X          27   \n",
       "\n",
       "                 Album ID  \n",
       "0  2JRlWH7ozsFUDU9aOrqeM0  \n",
       "1  2JRlWH7ozsFUDU9aOrqeM0  \n",
       "2  2JRlWH7ozsFUDU9aOrqeM0  \n",
       "3  2JRlWH7ozsFUDU9aOrqeM0  \n",
       "4  2JRlWH7ozsFUDU9aOrqeM0  "
      ]
     },
     "execution_count": 130,
     "metadata": {},
     "output_type": "execute_result"
    }
   ],
   "source": [
    "_recents = list()\n",
    "for i in recents['items']:\n",
    "    t = i['track']\n",
    "    artists = \", \".join(x['name'] for x in t['artists'])\n",
    "    artist_ids = \",\".join(x['id'] for x in t['artists'])\n",
    "    name = t['name']\n",
    "    track_id = t['id']\n",
    "    popularity = t['popularity']\n",
    "    album_id = t['album']['id']\n",
    "    _recents.append({\n",
    "        \"Artists\": artists,\n",
    "        \"Artist IDs\": artist_ids,\n",
    "        \"Name\": name,\n",
    "        \"Track ID\": track_id,\n",
    "        \"Popularity\": popularity,\n",
    "        \"Album ID\": album_id\n",
    "    })\n",
    "\n",
    "recents = pd.DataFrame(_recents)\n",
    "recents.head()"
   ]
  },
  {
   "cell_type": "code",
   "execution_count": 131,
   "metadata": {},
   "outputs": [],
   "source": [
    "page_size = 50\n",
    "saved_songs_res = sp.current_user_saved_tracks(limit=page_size)\n",
    "saved_tracks = saved_songs_res['items']\n",
    "total = saved_songs_res['total']\n",
    "off = page_size\n",
    "while off < total + page_size:\n",
    "    next_res = sp.current_user_saved_tracks(offset=off, limit=page_size)\n",
    "    saved_tracks.extend(next_res['items'])\n",
    "    off += page_size"
   ]
  },
  {
   "cell_type": "code",
   "execution_count": 132,
   "metadata": {},
   "outputs": [
    {
     "data": {
      "text/html": [
       "<div>\n",
       "<style scoped>\n",
       "    .dataframe tbody tr th:only-of-type {\n",
       "        vertical-align: middle;\n",
       "    }\n",
       "\n",
       "    .dataframe tbody tr th {\n",
       "        vertical-align: top;\n",
       "    }\n",
       "\n",
       "    .dataframe thead th {\n",
       "        text-align: right;\n",
       "    }\n",
       "</style>\n",
       "<table border=\"1\" class=\"dataframe\">\n",
       "  <thead>\n",
       "    <tr style=\"text-align: right;\">\n",
       "      <th></th>\n",
       "      <th>Artists</th>\n",
       "      <th>Artist IDs</th>\n",
       "      <th>Name</th>\n",
       "      <th>Track ID</th>\n",
       "      <th>Popularity</th>\n",
       "      <th>Album ID</th>\n",
       "    </tr>\n",
       "  </thead>\n",
       "  <tbody>\n",
       "    <tr>\n",
       "      <th>0</th>\n",
       "      <td>Grum</td>\n",
       "      <td>3VEqFWRt47xQAZJMBF3duQ</td>\n",
       "      <td>Lose Control</td>\n",
       "      <td>0bqjS54zmDlYanW8mlx28k</td>\n",
       "      <td>54</td>\n",
       "      <td>52beQVaTRkEsdip6N4nWZo</td>\n",
       "    </tr>\n",
       "    <tr>\n",
       "      <th>1</th>\n",
       "      <td>KASHIWA Daisuke</td>\n",
       "      <td>5sGsy5o8hBSMmDUFTC5Q2P</td>\n",
       "      <td>april.#02</td>\n",
       "      <td>6P3bha1HLEaiwaDA5SlTRB</td>\n",
       "      <td>19</td>\n",
       "      <td>2Gl1cVFZAs3DX3uvaTHCHG</td>\n",
       "    </tr>\n",
       "    <tr>\n",
       "      <th>2</th>\n",
       "      <td>Memtrix</td>\n",
       "      <td>3bffaBH7akOhsSLsVJcJug</td>\n",
       "      <td>All You Are</td>\n",
       "      <td>1Pz2FNGmyvRYnlKd58ANEW</td>\n",
       "      <td>52</td>\n",
       "      <td>4CF7zjsdRMyUjjvQ2cvb6l</td>\n",
       "    </tr>\n",
       "    <tr>\n",
       "      <th>3</th>\n",
       "      <td>Sound Quelle, Matt Fax</td>\n",
       "      <td>5mdTuNl23tON1WlsVbvD18,1XgI1X3xjXCKRP1ZjhqgkV</td>\n",
       "      <td>Sunburst</td>\n",
       "      <td>67b4kyYW9PcSu9ChwywKYe</td>\n",
       "      <td>36</td>\n",
       "      <td>1MYWKh9RzeEcToi4chhpoC</td>\n",
       "    </tr>\n",
       "    <tr>\n",
       "      <th>4</th>\n",
       "      <td>Last Heroes, Satellite Empire</td>\n",
       "      <td>3HHfEn7yPOy3IiHS6CHG97,1DGpuIJ6KAI5bcaFGbJZJs</td>\n",
       "      <td>Take Your Time (feat. Satellite Empire)</td>\n",
       "      <td>2piFAX26ski1mMmhWGnZQ8</td>\n",
       "      <td>35</td>\n",
       "      <td>4oQg6odo4r4sOG1GbG5TDk</td>\n",
       "    </tr>\n",
       "  </tbody>\n",
       "</table>\n",
       "</div>"
      ],
      "text/plain": [
       "                         Artists  \\\n",
       "0                           Grum   \n",
       "1                KASHIWA Daisuke   \n",
       "2                        Memtrix   \n",
       "3         Sound Quelle, Matt Fax   \n",
       "4  Last Heroes, Satellite Empire   \n",
       "\n",
       "                                      Artist IDs  \\\n",
       "0                         3VEqFWRt47xQAZJMBF3duQ   \n",
       "1                         5sGsy5o8hBSMmDUFTC5Q2P   \n",
       "2                         3bffaBH7akOhsSLsVJcJug   \n",
       "3  5mdTuNl23tON1WlsVbvD18,1XgI1X3xjXCKRP1ZjhqgkV   \n",
       "4  3HHfEn7yPOy3IiHS6CHG97,1DGpuIJ6KAI5bcaFGbJZJs   \n",
       "\n",
       "                                      Name                Track ID  \\\n",
       "0                             Lose Control  0bqjS54zmDlYanW8mlx28k   \n",
       "1                                april.#02  6P3bha1HLEaiwaDA5SlTRB   \n",
       "2                              All You Are  1Pz2FNGmyvRYnlKd58ANEW   \n",
       "3                                 Sunburst  67b4kyYW9PcSu9ChwywKYe   \n",
       "4  Take Your Time (feat. Satellite Empire)  2piFAX26ski1mMmhWGnZQ8   \n",
       "\n",
       "   Popularity                Album ID  \n",
       "0          54  52beQVaTRkEsdip6N4nWZo  \n",
       "1          19  2Gl1cVFZAs3DX3uvaTHCHG  \n",
       "2          52  4CF7zjsdRMyUjjvQ2cvb6l  \n",
       "3          36  1MYWKh9RzeEcToi4chhpoC  \n",
       "4          35  4oQg6odo4r4sOG1GbG5TDk  "
      ]
     },
     "execution_count": 132,
     "metadata": {},
     "output_type": "execute_result"
    }
   ],
   "source": [
    "_saved_tracks = list()\n",
    "for i in saved_tracks:\n",
    "    t = i['track']\n",
    "    artists = \", \".join(x['name'] for x in t['artists'])\n",
    "    artist_ids = \",\".join(x['id'] for x in t['artists'])\n",
    "    name = t['name']\n",
    "    track_id = t['id']\n",
    "    popularity = t['popularity']\n",
    "    album_id = t['album']['id']\n",
    "    _saved_tracks.append({\n",
    "        \"Artists\": artists,\n",
    "        \"Artist IDs\": artist_ids,\n",
    "        \"Name\": name,\n",
    "        \"Track ID\": track_id,\n",
    "        \"Popularity\": popularity,\n",
    "        \"Album ID\": album_id\n",
    "    })\n",
    "\n",
    "saved_tracks = pd.DataFrame(_saved_tracks)\n",
    "saved_tracks.head()"
   ]
  },
  {
   "cell_type": "code",
   "execution_count": 133,
   "metadata": {},
   "outputs": [
    {
     "data": {
      "text/plain": [
       "(286, 6)"
      ]
     },
     "execution_count": 133,
     "metadata": {},
     "output_type": "execute_result"
    }
   ],
   "source": [
    "saved_tracks.shape"
   ]
  },
  {
   "cell_type": "markdown",
   "metadata": {},
   "source": [
    "## Audio features\n",
    "\n",
    "Now that we have basic track info, we can make more requests for some more granular track features. That's the data we _really_ want."
   ]
  },
  {
   "cell_type": "code",
   "execution_count": 134,
   "metadata": {},
   "outputs": [],
   "source": [
    "track_ids = saved_tracks['Track ID'].tolist()\n",
    "features = list()\n",
    "page_size = 100\n",
    "i = 0\n",
    "while i < len(track_ids) + page_size:\n",
    "    _features = sp.audio_features(track_ids[i:i + page_size])\n",
    "    features.extend(_features)\n",
    "    i += page_size"
   ]
  },
  {
   "cell_type": "markdown",
   "metadata": {},
   "source": [
    "Convert to a dataframe and take the interesting columns."
   ]
  },
  {
   "cell_type": "code",
   "execution_count": 135,
   "metadata": {},
   "outputs": [
    {
     "data": {
      "text/html": [
       "<div>\n",
       "<style scoped>\n",
       "    .dataframe tbody tr th:only-of-type {\n",
       "        vertical-align: middle;\n",
       "    }\n",
       "\n",
       "    .dataframe tbody tr th {\n",
       "        vertical-align: top;\n",
       "    }\n",
       "\n",
       "    .dataframe thead th {\n",
       "        text-align: right;\n",
       "    }\n",
       "</style>\n",
       "<table border=\"1\" class=\"dataframe\">\n",
       "  <thead>\n",
       "    <tr style=\"text-align: right;\">\n",
       "      <th></th>\n",
       "      <th>id</th>\n",
       "      <th>danceability</th>\n",
       "      <th>energy</th>\n",
       "      <th>key</th>\n",
       "      <th>loudness</th>\n",
       "      <th>mode</th>\n",
       "      <th>speechiness</th>\n",
       "      <th>acousticness</th>\n",
       "      <th>instrumentalness</th>\n",
       "      <th>liveness</th>\n",
       "      <th>valence</th>\n",
       "      <th>tempo</th>\n",
       "      <th>duration_ms</th>\n",
       "      <th>time_signature</th>\n",
       "    </tr>\n",
       "  </thead>\n",
       "  <tbody>\n",
       "    <tr>\n",
       "      <th>0</th>\n",
       "      <td>0bqjS54zmDlYanW8mlx28k</td>\n",
       "      <td>0.542</td>\n",
       "      <td>0.857</td>\n",
       "      <td>2</td>\n",
       "      <td>-6.133</td>\n",
       "      <td>0</td>\n",
       "      <td>0.0352</td>\n",
       "      <td>0.00113</td>\n",
       "      <td>0.571000</td>\n",
       "      <td>0.0779</td>\n",
       "      <td>0.1620</td>\n",
       "      <td>128.011</td>\n",
       "      <td>337500</td>\n",
       "      <td>4</td>\n",
       "    </tr>\n",
       "    <tr>\n",
       "      <th>1</th>\n",
       "      <td>6P3bha1HLEaiwaDA5SlTRB</td>\n",
       "      <td>0.387</td>\n",
       "      <td>0.470</td>\n",
       "      <td>0</td>\n",
       "      <td>-8.508</td>\n",
       "      <td>0</td>\n",
       "      <td>0.0476</td>\n",
       "      <td>0.61300</td>\n",
       "      <td>0.859000</td>\n",
       "      <td>0.1330</td>\n",
       "      <td>0.2190</td>\n",
       "      <td>119.950</td>\n",
       "      <td>1662987</td>\n",
       "      <td>4</td>\n",
       "    </tr>\n",
       "    <tr>\n",
       "      <th>2</th>\n",
       "      <td>1Pz2FNGmyvRYnlKd58ANEW</td>\n",
       "      <td>0.349</td>\n",
       "      <td>0.696</td>\n",
       "      <td>3</td>\n",
       "      <td>-3.274</td>\n",
       "      <td>0</td>\n",
       "      <td>0.0362</td>\n",
       "      <td>0.01370</td>\n",
       "      <td>0.004070</td>\n",
       "      <td>0.1160</td>\n",
       "      <td>0.0782</td>\n",
       "      <td>173.901</td>\n",
       "      <td>330862</td>\n",
       "      <td>4</td>\n",
       "    </tr>\n",
       "    <tr>\n",
       "      <th>3</th>\n",
       "      <td>67b4kyYW9PcSu9ChwywKYe</td>\n",
       "      <td>0.638</td>\n",
       "      <td>0.823</td>\n",
       "      <td>0</td>\n",
       "      <td>-9.170</td>\n",
       "      <td>1</td>\n",
       "      <td>0.0401</td>\n",
       "      <td>0.03790</td>\n",
       "      <td>0.902000</td>\n",
       "      <td>0.1870</td>\n",
       "      <td>0.0384</td>\n",
       "      <td>124.017</td>\n",
       "      <td>210968</td>\n",
       "      <td>4</td>\n",
       "    </tr>\n",
       "    <tr>\n",
       "      <th>4</th>\n",
       "      <td>2piFAX26ski1mMmhWGnZQ8</td>\n",
       "      <td>0.475</td>\n",
       "      <td>0.440</td>\n",
       "      <td>2</td>\n",
       "      <td>-7.699</td>\n",
       "      <td>1</td>\n",
       "      <td>0.0297</td>\n",
       "      <td>0.12600</td>\n",
       "      <td>0.000003</td>\n",
       "      <td>0.1070</td>\n",
       "      <td>0.0584</td>\n",
       "      <td>95.043</td>\n",
       "      <td>267790</td>\n",
       "      <td>4</td>\n",
       "    </tr>\n",
       "  </tbody>\n",
       "</table>\n",
       "</div>"
      ],
      "text/plain": [
       "                       id  danceability  energy  key  loudness  mode  \\\n",
       "0  0bqjS54zmDlYanW8mlx28k         0.542   0.857    2    -6.133     0   \n",
       "1  6P3bha1HLEaiwaDA5SlTRB         0.387   0.470    0    -8.508     0   \n",
       "2  1Pz2FNGmyvRYnlKd58ANEW         0.349   0.696    3    -3.274     0   \n",
       "3  67b4kyYW9PcSu9ChwywKYe         0.638   0.823    0    -9.170     1   \n",
       "4  2piFAX26ski1mMmhWGnZQ8         0.475   0.440    2    -7.699     1   \n",
       "\n",
       "   speechiness  acousticness  instrumentalness  liveness  valence    tempo  \\\n",
       "0       0.0352       0.00113          0.571000    0.0779   0.1620  128.011   \n",
       "1       0.0476       0.61300          0.859000    0.1330   0.2190  119.950   \n",
       "2       0.0362       0.01370          0.004070    0.1160   0.0782  173.901   \n",
       "3       0.0401       0.03790          0.902000    0.1870   0.0384  124.017   \n",
       "4       0.0297       0.12600          0.000003    0.1070   0.0584   95.043   \n",
       "\n",
       "   duration_ms  time_signature  \n",
       "0       337500               4  \n",
       "1      1662987               4  \n",
       "2       330862               4  \n",
       "3       210968               4  \n",
       "4       267790               4  "
      ]
     },
     "execution_count": 135,
     "metadata": {},
     "output_type": "execute_result"
    }
   ],
   "source": [
    "features_df = pd.DataFrame(features[:-1])\n",
    "features_df = features_df[['id', 'danceability', 'energy', 'key', 'loudness', 'mode', 'speechiness', 'acousticness', 'instrumentalness', 'liveness', 'valence', 'tempo', 'duration_ms', 'time_signature']]\n",
    "features_df.head()"
   ]
  },
  {
   "cell_type": "markdown",
   "metadata": {},
   "source": [
    "Do the same thing for the recent tracks."
   ]
  },
  {
   "cell_type": "code",
   "execution_count": 136,
   "metadata": {},
   "outputs": [
    {
     "data": {
      "text/html": [
       "<div>\n",
       "<style scoped>\n",
       "    .dataframe tbody tr th:only-of-type {\n",
       "        vertical-align: middle;\n",
       "    }\n",
       "\n",
       "    .dataframe tbody tr th {\n",
       "        vertical-align: top;\n",
       "    }\n",
       "\n",
       "    .dataframe thead th {\n",
       "        text-align: right;\n",
       "    }\n",
       "</style>\n",
       "<table border=\"1\" class=\"dataframe\">\n",
       "  <thead>\n",
       "    <tr style=\"text-align: right;\">\n",
       "      <th></th>\n",
       "      <th>id</th>\n",
       "      <th>danceability</th>\n",
       "      <th>energy</th>\n",
       "      <th>key</th>\n",
       "      <th>loudness</th>\n",
       "      <th>mode</th>\n",
       "      <th>speechiness</th>\n",
       "      <th>acousticness</th>\n",
       "      <th>instrumentalness</th>\n",
       "      <th>liveness</th>\n",
       "      <th>valence</th>\n",
       "      <th>tempo</th>\n",
       "      <th>duration_ms</th>\n",
       "      <th>time_signature</th>\n",
       "    </tr>\n",
       "  </thead>\n",
       "  <tbody>\n",
       "    <tr>\n",
       "      <th>0</th>\n",
       "      <td>13NCh4WiC6l7AGyWDMvLqh</td>\n",
       "      <td>0.363</td>\n",
       "      <td>0.893</td>\n",
       "      <td>1</td>\n",
       "      <td>-8.242</td>\n",
       "      <td>1</td>\n",
       "      <td>0.0309</td>\n",
       "      <td>0.001600</td>\n",
       "      <td>0.934000</td>\n",
       "      <td>0.355</td>\n",
       "      <td>0.0557</td>\n",
       "      <td>90.461</td>\n",
       "      <td>350000</td>\n",
       "      <td>4</td>\n",
       "    </tr>\n",
       "    <tr>\n",
       "      <th>1</th>\n",
       "      <td>54leWgkYwmwTGXf97IyQAZ</td>\n",
       "      <td>0.428</td>\n",
       "      <td>0.862</td>\n",
       "      <td>8</td>\n",
       "      <td>-7.327</td>\n",
       "      <td>1</td>\n",
       "      <td>0.0381</td>\n",
       "      <td>0.000074</td>\n",
       "      <td>0.010100</td>\n",
       "      <td>0.213</td>\n",
       "      <td>0.3250</td>\n",
       "      <td>89.500</td>\n",
       "      <td>281564</td>\n",
       "      <td>4</td>\n",
       "    </tr>\n",
       "    <tr>\n",
       "      <th>2</th>\n",
       "      <td>6Ig7e0deA3hFCuOQtPXjDk</td>\n",
       "      <td>0.174</td>\n",
       "      <td>0.635</td>\n",
       "      <td>11</td>\n",
       "      <td>-9.170</td>\n",
       "      <td>0</td>\n",
       "      <td>0.0281</td>\n",
       "      <td>0.001280</td>\n",
       "      <td>0.924000</td>\n",
       "      <td>0.142</td>\n",
       "      <td>0.1030</td>\n",
       "      <td>90.018</td>\n",
       "      <td>346750</td>\n",
       "      <td>4</td>\n",
       "    </tr>\n",
       "    <tr>\n",
       "      <th>3</th>\n",
       "      <td>0bWRGbQRGJeMZnTwryl09m</td>\n",
       "      <td>0.349</td>\n",
       "      <td>0.947</td>\n",
       "      <td>4</td>\n",
       "      <td>-7.222</td>\n",
       "      <td>0</td>\n",
       "      <td>0.0421</td>\n",
       "      <td>0.004140</td>\n",
       "      <td>0.803000</td>\n",
       "      <td>0.250</td>\n",
       "      <td>0.0437</td>\n",
       "      <td>178.028</td>\n",
       "      <td>350500</td>\n",
       "      <td>4</td>\n",
       "    </tr>\n",
       "    <tr>\n",
       "      <th>4</th>\n",
       "      <td>1njLPXRavhN7KTt7nRLO3X</td>\n",
       "      <td>0.487</td>\n",
       "      <td>0.710</td>\n",
       "      <td>2</td>\n",
       "      <td>-8.642</td>\n",
       "      <td>0</td>\n",
       "      <td>0.0314</td>\n",
       "      <td>0.013400</td>\n",
       "      <td>0.000023</td>\n",
       "      <td>0.114</td>\n",
       "      <td>0.1760</td>\n",
       "      <td>88.467</td>\n",
       "      <td>293000</td>\n",
       "      <td>4</td>\n",
       "    </tr>\n",
       "  </tbody>\n",
       "</table>\n",
       "</div>"
      ],
      "text/plain": [
       "                       id  danceability  energy  key  loudness  mode  \\\n",
       "0  13NCh4WiC6l7AGyWDMvLqh         0.363   0.893    1    -8.242     1   \n",
       "1  54leWgkYwmwTGXf97IyQAZ         0.428   0.862    8    -7.327     1   \n",
       "2  6Ig7e0deA3hFCuOQtPXjDk         0.174   0.635   11    -9.170     0   \n",
       "3  0bWRGbQRGJeMZnTwryl09m         0.349   0.947    4    -7.222     0   \n",
       "4  1njLPXRavhN7KTt7nRLO3X         0.487   0.710    2    -8.642     0   \n",
       "\n",
       "   speechiness  acousticness  instrumentalness  liveness  valence    tempo  \\\n",
       "0       0.0309      0.001600          0.934000     0.355   0.0557   90.461   \n",
       "1       0.0381      0.000074          0.010100     0.213   0.3250   89.500   \n",
       "2       0.0281      0.001280          0.924000     0.142   0.1030   90.018   \n",
       "3       0.0421      0.004140          0.803000     0.250   0.0437  178.028   \n",
       "4       0.0314      0.013400          0.000023     0.114   0.1760   88.467   \n",
       "\n",
       "   duration_ms  time_signature  \n",
       "0       350000               4  \n",
       "1       281564               4  \n",
       "2       346750               4  \n",
       "3       350500               4  \n",
       "4       293000               4  "
      ]
     },
     "execution_count": 136,
     "metadata": {},
     "output_type": "execute_result"
    }
   ],
   "source": [
    "track_ids = recents['Track ID']\n",
    "features = sp.audio_features(track_ids.tolist())\n",
    "recents_features_df = pd.DataFrame(features)[['id', 'danceability', 'energy', 'key', 'loudness', 'mode', 'speechiness', 'acousticness', 'instrumentalness', 'liveness', 'valence', 'tempo', 'duration_ms', 'time_signature']]\n",
    "recents_features_df.head()"
   ]
  },
  {
   "cell_type": "markdown",
   "metadata": {},
   "source": [
    "Combine the features from my library and my recents into one dataframe, and drop duplicates based on track ID."
   ]
  },
  {
   "cell_type": "code",
   "execution_count": 137,
   "metadata": {},
   "outputs": [],
   "source": [
    "master_features_df = pd.concat([features_df, recents_features_df])"
   ]
  },
  {
   "cell_type": "code",
   "execution_count": 138,
   "metadata": {},
   "outputs": [
    {
     "data": {
      "text/plain": [
       "(311, 14)"
      ]
     },
     "execution_count": 138,
     "metadata": {},
     "output_type": "execute_result"
    }
   ],
   "source": [
    "master_features_df = master_features_df.drop_duplicates(subset='id')\n",
    "master_features_df.shape"
   ]
  },
  {
   "cell_type": "markdown",
   "metadata": {},
   "source": [
    "Merge in the human-readable information (song name, artists' names, etc.)."
   ]
  },
  {
   "cell_type": "code",
   "execution_count": 139,
   "metadata": {},
   "outputs": [
    {
     "data": {
      "text/html": [
       "<div>\n",
       "<style scoped>\n",
       "    .dataframe tbody tr th:only-of-type {\n",
       "        vertical-align: middle;\n",
       "    }\n",
       "\n",
       "    .dataframe tbody tr th {\n",
       "        vertical-align: top;\n",
       "    }\n",
       "\n",
       "    .dataframe thead th {\n",
       "        text-align: right;\n",
       "    }\n",
       "</style>\n",
       "<table border=\"1\" class=\"dataframe\">\n",
       "  <thead>\n",
       "    <tr style=\"text-align: right;\">\n",
       "      <th></th>\n",
       "      <th>id</th>\n",
       "      <th>danceability</th>\n",
       "      <th>energy</th>\n",
       "      <th>key</th>\n",
       "      <th>loudness</th>\n",
       "      <th>mode</th>\n",
       "      <th>speechiness</th>\n",
       "      <th>acousticness</th>\n",
       "      <th>instrumentalness</th>\n",
       "      <th>liveness</th>\n",
       "      <th>...</th>\n",
       "      <th>tempo</th>\n",
       "      <th>duration_ms</th>\n",
       "      <th>time_signature</th>\n",
       "      <th>Artists</th>\n",
       "      <th>Artist IDs</th>\n",
       "      <th>Name</th>\n",
       "      <th>Track ID</th>\n",
       "      <th>Popularity</th>\n",
       "      <th>Album ID</th>\n",
       "      <th>hoverdata</th>\n",
       "    </tr>\n",
       "  </thead>\n",
       "  <tbody>\n",
       "    <tr>\n",
       "      <th>0</th>\n",
       "      <td>13NCh4WiC6l7AGyWDMvLqh</td>\n",
       "      <td>0.363</td>\n",
       "      <td>0.893</td>\n",
       "      <td>1</td>\n",
       "      <td>-8.242</td>\n",
       "      <td>1</td>\n",
       "      <td>0.0309</td>\n",
       "      <td>0.001600</td>\n",
       "      <td>0.934000</td>\n",
       "      <td>0.355</td>\n",
       "      <td>...</td>\n",
       "      <td>90.461</td>\n",
       "      <td>350000</td>\n",
       "      <td>4</td>\n",
       "      <td>Veeshy</td>\n",
       "      <td>4I9gvXHCMWMzarL8yOyjIL</td>\n",
       "      <td>Beverly Blues</td>\n",
       "      <td>13NCh4WiC6l7AGyWDMvLqh</td>\n",
       "      <td>20</td>\n",
       "      <td>2JRlWH7ozsFUDU9aOrqeM0</td>\n",
       "      <td>Veeshy - Beverly Blues</td>\n",
       "    </tr>\n",
       "    <tr>\n",
       "      <th>1</th>\n",
       "      <td>54leWgkYwmwTGXf97IyQAZ</td>\n",
       "      <td>0.428</td>\n",
       "      <td>0.862</td>\n",
       "      <td>8</td>\n",
       "      <td>-7.327</td>\n",
       "      <td>1</td>\n",
       "      <td>0.0381</td>\n",
       "      <td>0.000074</td>\n",
       "      <td>0.010100</td>\n",
       "      <td>0.213</td>\n",
       "      <td>...</td>\n",
       "      <td>89.500</td>\n",
       "      <td>281564</td>\n",
       "      <td>4</td>\n",
       "      <td>Veeshy, Phonic Youth</td>\n",
       "      <td>4I9gvXHCMWMzarL8yOyjIL,19j2mxQkCDl6jNS9s6bf3D</td>\n",
       "      <td>Sunset Strip</td>\n",
       "      <td>54leWgkYwmwTGXf97IyQAZ</td>\n",
       "      <td>35</td>\n",
       "      <td>2JRlWH7ozsFUDU9aOrqeM0</td>\n",
       "      <td>Veeshy, Phonic Youth - Sunset Strip</td>\n",
       "    </tr>\n",
       "    <tr>\n",
       "      <th>2</th>\n",
       "      <td>6Ig7e0deA3hFCuOQtPXjDk</td>\n",
       "      <td>0.174</td>\n",
       "      <td>0.635</td>\n",
       "      <td>11</td>\n",
       "      <td>-9.170</td>\n",
       "      <td>0</td>\n",
       "      <td>0.0281</td>\n",
       "      <td>0.001280</td>\n",
       "      <td>0.924000</td>\n",
       "      <td>0.142</td>\n",
       "      <td>...</td>\n",
       "      <td>90.018</td>\n",
       "      <td>346750</td>\n",
       "      <td>4</td>\n",
       "      <td>Veeshy</td>\n",
       "      <td>4I9gvXHCMWMzarL8yOyjIL</td>\n",
       "      <td>Re-L.A.X.</td>\n",
       "      <td>6Ig7e0deA3hFCuOQtPXjDk</td>\n",
       "      <td>20</td>\n",
       "      <td>2JRlWH7ozsFUDU9aOrqeM0</td>\n",
       "      <td>Veeshy - Re-L.A.X.</td>\n",
       "    </tr>\n",
       "    <tr>\n",
       "      <th>3</th>\n",
       "      <td>0bWRGbQRGJeMZnTwryl09m</td>\n",
       "      <td>0.349</td>\n",
       "      <td>0.947</td>\n",
       "      <td>4</td>\n",
       "      <td>-7.222</td>\n",
       "      <td>0</td>\n",
       "      <td>0.0421</td>\n",
       "      <td>0.004140</td>\n",
       "      <td>0.803000</td>\n",
       "      <td>0.250</td>\n",
       "      <td>...</td>\n",
       "      <td>178.028</td>\n",
       "      <td>350500</td>\n",
       "      <td>4</td>\n",
       "      <td>Veeshy</td>\n",
       "      <td>4I9gvXHCMWMzarL8yOyjIL</td>\n",
       "      <td>Mulholland Drive</td>\n",
       "      <td>0bWRGbQRGJeMZnTwryl09m</td>\n",
       "      <td>23</td>\n",
       "      <td>2JRlWH7ozsFUDU9aOrqeM0</td>\n",
       "      <td>Veeshy - Mulholland Drive</td>\n",
       "    </tr>\n",
       "    <tr>\n",
       "      <th>4</th>\n",
       "      <td>1njLPXRavhN7KTt7nRLO3X</td>\n",
       "      <td>0.487</td>\n",
       "      <td>0.710</td>\n",
       "      <td>2</td>\n",
       "      <td>-8.642</td>\n",
       "      <td>0</td>\n",
       "      <td>0.0314</td>\n",
       "      <td>0.013400</td>\n",
       "      <td>0.000023</td>\n",
       "      <td>0.114</td>\n",
       "      <td>...</td>\n",
       "      <td>88.467</td>\n",
       "      <td>293000</td>\n",
       "      <td>4</td>\n",
       "      <td>Veeshy, Brandon Mignacca</td>\n",
       "      <td>4I9gvXHCMWMzarL8yOyjIL,5k1EecpyjkutxtmZKlsBOj</td>\n",
       "      <td>Let Me Down</td>\n",
       "      <td>1njLPXRavhN7KTt7nRLO3X</td>\n",
       "      <td>27</td>\n",
       "      <td>2JRlWH7ozsFUDU9aOrqeM0</td>\n",
       "      <td>Veeshy, Brandon Mignacca - Let Me Down</td>\n",
       "    </tr>\n",
       "  </tbody>\n",
       "</table>\n",
       "<p>5 rows × 21 columns</p>\n",
       "</div>"
      ],
      "text/plain": [
       "                       id  danceability  energy  key  loudness  mode  \\\n",
       "0  13NCh4WiC6l7AGyWDMvLqh         0.363   0.893    1    -8.242     1   \n",
       "1  54leWgkYwmwTGXf97IyQAZ         0.428   0.862    8    -7.327     1   \n",
       "2  6Ig7e0deA3hFCuOQtPXjDk         0.174   0.635   11    -9.170     0   \n",
       "3  0bWRGbQRGJeMZnTwryl09m         0.349   0.947    4    -7.222     0   \n",
       "4  1njLPXRavhN7KTt7nRLO3X         0.487   0.710    2    -8.642     0   \n",
       "\n",
       "   speechiness  acousticness  instrumentalness  liveness  ...    tempo  \\\n",
       "0       0.0309      0.001600          0.934000     0.355  ...   90.461   \n",
       "1       0.0381      0.000074          0.010100     0.213  ...   89.500   \n",
       "2       0.0281      0.001280          0.924000     0.142  ...   90.018   \n",
       "3       0.0421      0.004140          0.803000     0.250  ...  178.028   \n",
       "4       0.0314      0.013400          0.000023     0.114  ...   88.467   \n",
       "\n",
       "   duration_ms  time_signature                   Artists  \\\n",
       "0       350000               4                    Veeshy   \n",
       "1       281564               4      Veeshy, Phonic Youth   \n",
       "2       346750               4                    Veeshy   \n",
       "3       350500               4                    Veeshy   \n",
       "4       293000               4  Veeshy, Brandon Mignacca   \n",
       "\n",
       "                                      Artist IDs              Name  \\\n",
       "0                         4I9gvXHCMWMzarL8yOyjIL     Beverly Blues   \n",
       "1  4I9gvXHCMWMzarL8yOyjIL,19j2mxQkCDl6jNS9s6bf3D      Sunset Strip   \n",
       "2                         4I9gvXHCMWMzarL8yOyjIL         Re-L.A.X.   \n",
       "3                         4I9gvXHCMWMzarL8yOyjIL  Mulholland Drive   \n",
       "4  4I9gvXHCMWMzarL8yOyjIL,5k1EecpyjkutxtmZKlsBOj       Let Me Down   \n",
       "\n",
       "                 Track ID Popularity                Album ID  \\\n",
       "0  13NCh4WiC6l7AGyWDMvLqh         20  2JRlWH7ozsFUDU9aOrqeM0   \n",
       "1  54leWgkYwmwTGXf97IyQAZ         35  2JRlWH7ozsFUDU9aOrqeM0   \n",
       "2  6Ig7e0deA3hFCuOQtPXjDk         20  2JRlWH7ozsFUDU9aOrqeM0   \n",
       "3  0bWRGbQRGJeMZnTwryl09m         23  2JRlWH7ozsFUDU9aOrqeM0   \n",
       "4  1njLPXRavhN7KTt7nRLO3X         27  2JRlWH7ozsFUDU9aOrqeM0   \n",
       "\n",
       "                                hoverdata  \n",
       "0                  Veeshy - Beverly Blues  \n",
       "1     Veeshy, Phonic Youth - Sunset Strip  \n",
       "2                      Veeshy - Re-L.A.X.  \n",
       "3               Veeshy - Mulholland Drive  \n",
       "4  Veeshy, Brandon Mignacca - Let Me Down  \n",
       "\n",
       "[5 rows x 21 columns]"
      ]
     },
     "execution_count": 139,
     "metadata": {},
     "output_type": "execute_result"
    }
   ],
   "source": [
    "human_song_info = pd.concat([recents, saved_tracks])\n",
    "master_df = master_features_df.merge(right=human_song_info, how='right', left_on='id', right_on='Track ID')\n",
    "master_df['hoverdata'] = master_df['Artists'] + \" - \" + master_df[\"Name\"]\n",
    "master_df.head()"
   ]
  },
  {
   "cell_type": "markdown",
   "metadata": {},
   "source": [
    "## Plotting the data\n",
    "\n",
    "Finally, let's make some cool graphs."
   ]
  },
  {
   "cell_type": "code",
   "execution_count": 140,
   "metadata": {},
   "outputs": [
    {
     "data": {
      "application/vnd.plotly.v1+json": {
       "config": {
        "plotlyServerURL": "https://plot.ly"
       },
       "data": [
        {
         "hovertemplate": "<b>%{hovertext}</b><br><br>danceability=%{x}<br>energy=%{y}<br>speechiness=%{z}<br>valence=%{marker.color}<extra></extra>",
         "hovertext": [
          "Veeshy - Beverly Blues",
          "Veeshy, Phonic Youth - Sunset Strip",
          "Veeshy - Re-L.A.X.",
          "Veeshy - Mulholland Drive",
          "Veeshy, Brandon Mignacca - Let Me Down",
          "Veeshy - Californian Dreams",
          "Veeshy, Phonic Youth - Arcade Highs",
          "Veeshy - Beverly Blues",
          "Veeshy, Phonic Youth - Sunset Strip",
          "Veeshy - Re-L.A.X.",
          "Veeshy - Mulholland Drive",
          "Veeshy, Brandon Mignacca - Let Me Down",
          "Veeshy - Californian Dreams",
          "Veeshy, Phonic Youth - Arcade Highs",
          "Veeshy - Beverly Blues",
          "Veeshy, Phonic Youth - Sunset Strip",
          "Veeshy - Re-L.A.X.",
          "Veeshy - Mulholland Drive",
          "Veeshy, Brandon Mignacca - Let Me Down",
          "FC Kahuna, Hafdís Huld, Nick Muir, John Digweed - Hayling - John Digweed & Nick Muir Reprise",
          "FC Kahuna, Hafdís Huld, Nick Muir, John Digweed - Hayling - John Digweed & Nick Muir Remix",
          "Arcade High - Full Hearts",
          "Vyva Melinkolya - Love's Easy Years (Nonbinary Heartbreak)",
          "Crystal Skies, RUNN - Feels Right (feat. RUNN)",
          "Sappheiros, Esoreni - Falling",
          "Satellite Empire, TwoWorldsApart, Ento, Matt Rysen - Let Me Drown - Matt Rysen & Ento Remix",
          "Sappheiros - Reaching Out",
          "Skrux - You & Me",
          "Satellite Empire, Yelhigh - Time - Yelhigh Remix",
          "Satellite Empire, Last Heroes - Thrones - Last Heroes Remix",
          "Crystal Skies, Derek Joel, Satellite Empire, Ben Walter - The Chasm - Ben Walter and Satellite Empire Remix",
          "Last Heroes, Satellite Empire - Take Your Time (feat. Satellite Empire)",
          "Satellite Empire, Last Heroes - Thrones - Last Heroes Remix",
          "Crystal Skies, Derek Joel, Satellite Empire, Ben Walter - The Chasm - Ben Walter and Satellite Empire Remix",
          "Last Heroes, Satellite Empire - Take Your Time (feat. Satellite Empire)",
          "KASHIWA Daisuke - april.#02",
          "KASHIWA Daisuke - april.#02",
          "Grum - Lose Control",
          "Lane 8, Fractures, Ben Böhmer - Hold On - Ben Böhmer Remix",
          "Elderbrook, Bob Moses - Inner Light",
          "Steand, Andy Kulter - Capri",
          "Sound Quelle - Ah Up",
          "Nikulcha - Ivory",
          "Sébastien Léger - Feel",
          "Tommy Baynen - Wave Behaviour",
          "Siskin - Electric Love",
          "Klur - Panorama",
          "Dekkai - Only One",
          "Klur - Chronology",
          "Memtrix - All You Are",
          "Grum - Lose Control",
          "KASHIWA Daisuke - april.#02",
          "Memtrix - All You Are",
          "Sound Quelle, Matt Fax - Sunburst",
          "Last Heroes, Satellite Empire - Take Your Time (feat. Satellite Empire)",
          "Crystal Skies, Derek Joel, Satellite Empire, Ben Walter - The Chasm - Ben Walter and Satellite Empire Remix",
          "Satellite Empire - Eternal Vespers",
          "Satellite Empire, Last Heroes - Thrones - Last Heroes Remix",
          "UNKLE, trentemøller - The Answer - Trentemøller Remix",
          "Billie Eilish - No Time To Die",
          "FC Kahuna, Hafdís Huld, Nick Muir, John Digweed - Hayling - John Digweed & Nick Muir Reprise",
          "FC Kahuna, Hafdís Huld, Nick Muir, John Digweed - Hayling - John Digweed & Nick Muir Remix",
          "Jesse Novak - Hallway",
          "Nobuo Uematsu - アリア",
          "Gigi D'Agostino - L'Amour Toujours",
          "Kero Kero Bonito - Break",
          "Kero Kero Bonito - Sick Beat",
          "Kero Kero Bonito - Trampoline",
          "Kero Kero Bonito - Flamingo",
          "Grimes - Realiti",
          "This Will Destroy You - Serpent Mound",
          "This Will Destroy You - God's Teeth",
          "Grimes - REALiTi - Demo",
          "Sungazer - Bird on the Wing",
          "Solipse - One Kind of Revolution",
          "Solipse - Overgrown Tomb",
          "Twenty One Pilots - Addict With A Pen",
          "David Holmes - Rodney Yates",
          "Nightmares On Wax - You Wish",
          "Pink Guy, Getter - Fried Noodles (Getter Remix)",
          "Varien, Andrew Zink - Can You Feel My Heart",
          "Gesaffelstein, The Weeknd - Lost in the Fire (feat. The Weeknd)",
          "pg.lost - The Headless Man",
          "M|O|O|N - Dust",
          "Drake, The Weeknd - Crew Love",
          "Grimes, HANA - We Appreciate Power",
          "HANA - Underwater",
          "In Fear And Faith - Last Man Stranded",
          "Paul The Kid - Palm Trees & Ciggies",
          "The Toxic Avenger - Home Call - From Road 96",
          "SEATBELTS - Gotta Knock a Little Harder",
          "This Will Destroy You - There Are Some Remedies Worse Than the Disease",
          "Grimes, i_o - Violence - Club Mix",
          "HANA - Chimera 2.0",
          "Grimes - 4ÆM",
          "Kim Petras - <demons>",
          "iamamiwhoami - Idle Talk",
          "NAVVI - Polychrome",
          "K/DA, Madison Beer, (G)I-DLE, Lexie Liu, Jaira Burns, Seraphine, League of Legends - MORE",
          "Electric Guest - Holes",
          "K/DA, Madison Beer, (G)I-DLE, Jaira Burns, League of Legends - POP/STARS",
          "The Weeknd - Blinding Lights",
          "K/DA, (G)I-DLE, Wolftyla, Bea Miller, League of Legends - THE BADDEST",
          "Sasha - View2",
          "Bonobo, Alex Banks, Andreya Triana - The Keeper - Alex Banks Remix",
          "SEATBELTS - SPOKEY DOKEY",
          "SEATBELTS - Piano Bar Ⅰ",
          "Runaway Droid - Careless Subroutines",
          "Gryff - Jessie",
          "M.K. Khan - Days in July",
          "Red Soda - On-Tape Romance",
          "Clubhouse, The Midnight - Kyra (The Midnight Remix)",
          "Froyo - Heart",
          "MF DOOM - Hoe Cakes",
          "Patrick Carney, Ralph Carney - BoJack's Theme (Full Length)",
          "Catherine Feeny - Mr Blue",
          "Scandroid - Oblivia",
          "Cloud Battalion - Outlaw",
          "Perturbator, Hayley Stewart - Sentient (feat. Hayley Stewart)",
          "Gunship, Carpenter Brut - Tech Noir - Carpenter Brut Remix",
          "Magic Sword - Legend of the Keeper",
          "Trevor Something - Enjoy the Silence",
          "Lucy In Disguise - 1987",
          "Com Truise - Data Kiss",
          "This Will Destroy You - Go Away Closer",
          "Two Steps from Hell, Michal Cielecki - Rebirth (No Vocal)",
          "阿保 剛 - GATE OF STEINER -Piano-",
          "Cocteau Twins - Heaven Or Las Vegas",
          "JAY-Z, Kanye West, Frank Ocean - Made In America",
          "St. Vincent - Los Ageless",
          "Courtney Barnett - Avant Gardener",
          "Chromatics - Tick Of The Clock (Extended Overdrive)",
          "Gentle Touch - The view",
          "Sidewalks and Skeletons - Leaving",
          "Zero 7, Sophie Barker - In The Waiting Line",
          "TR/ST - Bicep",
          "Big Data, Joywave - Dangerous (feat. Joywave)",
          "Trocadero - Half Life",
          "Cannons - Fire for You",
          "Scattle - Bloodline",
          "IAMTHEKIDYOUKNOWWHATIMEAN - Run",
          "Makeup And Vanity Set - A Glowing Light, a Promise",
          "StayLoose, Dream Fiend - Spaceship Gurl - Dream Fiend Remix",
          "Language Arts - Falling Out of View",
          "Cranes - Come This Far",
          "Vyva Melinkolya - Love's Easy Years (Nonbinary Heartbreak)",
          "Stay Ali - 97",
          "Fred Falke - Crepuscule",
          "Mitch Murder - Remember When",
          "Celebrine, Alien Delon - Tokyo",
          "Another Green World - Mosaic",
          "Home - We're Finally Landing",
          "Chromatics - Tick Of The Clock (Film Edit)",
          "Killstarr - Dreamscape",
          "Rayzd - Adieu",
          "Keith Jarrett, Charlie Haden - Where Can I Go Without You",
          "Jason Moran - Blue Blocks",
          "Blue Sky Black Death - Staring At The Sun",
          "Chrome Sparks - The Meaning Of Love",
          "Stumbleine - Be Tru",
          "Pastel Ghost, Sidewalks and Skeletons - Shadows - Sidewalks and Skeletons Remix",
          "Clark - Winter Linn",
          "DILLY DALLY - I Feel Free",
          "Billie Eilish - bellyache",
          "Post Malone, Swae Lee - Sunflower - Spider-Man: Into the Spider-Verse",
          "Erasure - A Little Respect",
          "Amon Tobin - Nightlife",
          "Shobaleader One, Squarepusher, Strobe Nazard, Company Laser, Arg Nution - The Swifty",
          "Failure - Stuck On You",
          "Ital Tek - Beyond Sight",
          "Hyperbubble - Supermarket Casanova",
          "Ladytron - Commodore Rock",
          "Nils Frahm - Says",
          "Crockett - The Stars Above",
          "Scandroid - Atom & E.E.V.",
          "Nine Inch Nails - Right Where It Belongs",
          "Nine Inch Nails - Beside You In Time",
          "Nine Inch Nails - All The Love In The World",
          "Scattle - Flatline",
          "Scattle - Inner Animal",
          "SkelOne - Milky Way",
          "Jasper Byrne - Hotline - Analogue Mix",
          "Perturbator - Miami Disco",
          "Jasper Byrne - Miami - Original Mix",
          "Herbie Hancock - Chameleon",
          "Absinth3, Occams Laser - Set Me Free",
          "Mitch Murder - Mirage",
          "Kavinsky - Nightcall",
          "Tommy - Tommy's Theme",
          "Throwing Snow - Aspera",
          "Highway Superstar - Dialtones",
          "Connect.Ohm - Fossil",
          "Jon Hopkins - Song One",
          "Rival Consoles, Peter Broderick - Daddy",
          "Arcade High - Full Hearts",
          "Le Cassette - I Will Show You",
          "Kanye West, Paul McCartney - Only One",
          "ESPRIT 空想 - Pizza Day",
          "Home - Resonance",
          "Father John Misty - Pure Comedy",
          "Nine Inch Nails - Gunshots by Computer - Saul Williams",
          "Sigur Rós, Alex Somers - End",
          "Felix Laband - The Savage Bush Hotel",
          "Danger, Vyle - 00:01",
          "Eminem, Dido - Stan",
          "Hushed - By Night",
          "Depeche Mode - Enjoy the Silence - 2006 Remaster",
          "Boards of Canada - Dayvan Cowboy",
          "Groove Armada - My Friend",
          "Shawn Lee, Nino Moschella - Kiss the sky",
          "Thievery Corporation - Sweet Tides",
          "Lights & Motion - Glow",
          "Fantasy Reborn - FFX - To Zanarkand",
          "Wax Tailor - Hypnosis Theme (Feat. Marina Quaisse)",
          "Metaform - Crush",
          "Vijay & Sofia Zlatko, Tania Zygar - Wildest Dreams",
          "Radiohead - No Surprises",
          "Haircuts for Men - 私はあなたの夢を見る",
          "Joakim - Samurai (Meditation Tunnel Remix)",
          "Balearic Paradise - Night in Ibiza - Lounge Cafe Mix",
          "I Monster - Daydream In Blue",
          "pg.lost - Ikaros",
          "Blank Banshee - B:/ Start Up",
          "The Disposable Heroes Of Hiphoprisy - Television The Drug Of The Nation",
          "Daft Punk, Paul Williams - Touch (feat. Paul Williams)",
          "Depeche Mode - Never Let Me Down Again - 2006 Remaster",
          "Mac DeMarco - On the Level",
          "Rival Consoles - Looming",
          "Beacon, Nitemoves - IM U - Nitemoves Remix",
          "Uppermost - Mistakes",
          "Soichi Terada - Saturday Love Sunday",
          "Disasterpeace - Forgotten",
          "Disasterpeace - Glitch",
          "Leech - Silent State Optimizer",
          "Nomad Soul - Murmuration",
          "Teebs, Lars Horntveth - Wavxxes",
          "Weval - I Don't Need It",
          "Groove Armada - At the River",
          "Kllo, Lone - Bolide - Lone Remix",
          "Populous - Vu (feat. Clap! Clap!)",
          "Miloux - Pocket",
          "Johan Agebjörn, Mikael Ögren, Sally Shapiro, Tommy '86 - Aurora over Odega - Johan Agebjörn & Mikael Ögren Remix",
          "COSIMA - To Build A House",
          "Lupe Fiasco, Jill Scott - Daydreamin' (feat. Jill Scott)",
          "Hieroglyphic Being - The Way Of The Tree Of Life",
          "Moonlit Sailor - Skydiver",
          "Trocadero - Faraway",
          "Trocadero, David Levy, Orville Johnson - Armonia (feat. Orville Johnson)",
          "Zero 7, José González - Last Light",
          "Ten Fé, UNKLE - Make Me Better - UNKLE Reconstruction",
          "NOFX - Dinosaurs Will Die",
          "Hans Zimmer - Time",
          "Abakus - Storm",
          "Walking Across Jupiter - The Truth Was Revealed",
          "Blue Wednesday - Apple Pies & Butterflies",
          "PrototypeRaptor - The King",
          "Oasis - Champagne Supernova (Brendan Lynch Mix) - Remastered",
          "Porter Robinson - Sea Of Voices",
          "Daft Punk, The Japanese Popstars - Arena - Remixed by The Japanese Popstars",
          "Radiohead - High And Dry",
          "Kanye West - Stronger",
          "Kanye West, DJ Premier - Everything I Am",
          "ODESZA - IPlayYouListen",
          "Tennyson - Lay-by",
          "re:plus - Solitude",
          "Pilotpriest - Archive Seven",
          "Flashworx - Odaiba Chase",
          "Original Broadway Cast of Hamilton - Who Lives, Who Dies, Who Tells Your Story",
          "missingNo. - Corridors Of Time",
          "streifig, Ivan Hakštok - Runnin' In Circles",
          "Arc Impulse - To Far Away Times",
          "The Rolling Stones, Soulwax - You Can't Always Get What You Want (Soulwax Remix)",
          "Sneaker Pimps - 6 Underground - Nellee Hooper Mix",
          "Rise Against - Architects",
          "Rise Against - Make It Stop (September's Children)",
          "Rise Against - Satellite",
          "Symbion Project, Geoffrey Klok - Such Letting Go Is Love",
          "Symbion Project - Only Girls Like To Gossip",
          "PrototypeRaptor - October Rust",
          "PrototypeRaptor - Timeless",
          "Uppermost - Beautiful Light",
          "Rise Against - Like the Angel",
          "The Glitch Mob - Fortune Days",
          "KOAN Sound - Sly Fox",
          "Snail's House - Ma Chouchoute",
          "Covant - Treasure Room - Original Mix",
          "Dream Theater - Octavarium",
          "Dream Theater - The Count of Tuscany",
          "FC Kahuna - Hayling",
          "The Glitch Mob - We Can Make The World Stop",
          "The Glitch Mob - Palace Of The Innocents",
          "The Glitch Mob - Warrior Concerto",
          "Leslie Odom Jr., Daveed Diggs, Okieriete Onaodowan, Lin-Manuel Miranda, Phillipa Soo, Christopher Jackson, Original Broadway Cast of Hamilton, Anthony Ramos - Alexander Hamilton",
          "Jonathan Groff, Original Broadway Cast of Hamilton - You'll Be Back",
          "Lin-Manuel Miranda, Daveed Diggs, Okieriete Onaodowan, Leslie Odom Jr., Original Broadway Cast of Hamilton, Anthony Ramos - My Shot",
          "Toh Kay - A Better Place, A Better Time",
          "Toh Kay - Sick And Sad",
          "Sian Area, Rhodz, Keyboard Kid, fusq - Iku - Original Mix",
          "Klimeks - Tokyo Train",
          "Streetlight Manifesto - Linoleum",
          "The Black Keys - Little Black Submarines - Radio Edit [radio edit]",
          "Streetlight Manifesto - The Blonde Lead the Blind",
          "Streetlight Manifesto - They Broke Him Down",
          "OK Go - The One Moment",
          "PrototypeRaptor - Our Last Words",
          "PrototypeRaptor - Days of Red",
          "PrototypeRaptor - Bring Back the Funk",
          "Trocadero - Funny Farm",
          "Banks & Steelz, Florence Welch - Wild Season (feat. Florence Welch)",
          "Jeff Williams, Nicole D'andrea - Now That We've Come So Far (feat. Nicole D'andrea)",
          "Trocadero, Meredith Hagan - Contact Redux (feat. Meredith Hagan)",
          "Trocadero, David Levy - Faraday (feat. David Levy)",
          "PrototypeRaptor - The Storm",
          "Eminem - Space Bound",
          "PrototypeRaptor - 8bit Is Just the Beginning",
          "PrototypeRaptor - Jurassic Snack Pack",
          "PrototypeRaptor - Drive Hard",
          "Seven Lions - Leaving Earth",
          "Skrux, Mona Moua - Hidden (feat. Mona Moua)",
          "Magic Sword - Sword of Truth",
          "Ulrich Schnauss, Jonas Munk - Sirocco",
          "Panda Eyes, Teminite - Highscore",
          "Inon Zur - Fallout 4 Main Theme",
          "Hybrid - Just For Today",
          "Ghosts Of Paraguay - Ember",
          "Submotion Orchestra - Finest Hour",
          "Coyote Kisses - Changing Guard - Original Mix",
          "PianoDreams - Gates Of Steiner - Steins;Gate OST",
          "Rocket Empire - Beijing",
          "TPR - To Far Away Times",
          "deadmau5, Kaskade - I Remember",
          "OK Go - Needing/Getting",
          "OK Go - I Won't Let You Down",
          "Digby Jones - Under the Sea",
          "Teddybears - Alma",
          "Sneaker Pimps - Half Life"
         ],
         "legendgroup": "",
         "marker": {
          "color": [
           0.0557,
           0.325,
           0.103,
           0.0437,
           0.176,
           0.444,
           0.0359,
           0.0557,
           0.325,
           0.103,
           0.0437,
           0.176,
           0.444,
           0.0359,
           0.0557,
           0.325,
           0.103,
           0.0437,
           0.176,
           0.0505,
           0.214,
           0.253,
           0.0389,
           0.225,
           0.0392,
           0.0398,
           0.0575,
           0.149,
           0.205,
           0.107,
           0.253,
           0.0584,
           0.107,
           0.253,
           0.0584,
           0.219,
           0.219,
           0.162,
           0.039,
           0.126,
           0.383,
           0.238,
           0.0719,
           0.65,
           0.255,
           0.0389,
           0.132,
           0.0391,
           0.133,
           0.0782,
           0.162,
           0.219,
           0.0782,
           0.0384,
           0.0584,
           0.253,
           0.244,
           0.107,
           0.0369,
           0.0517,
           0.0505,
           0.214,
           0.0379,
           0.0629,
           0.743,
           0.859,
           0.853,
           0.673,
           0.79,
           0.35,
           0.134,
           0.0551,
           0.725,
           0.625,
           0.539,
           0.517,
           0.298,
           0.973,
           0.47,
           0.231,
           0.321,
           0.166,
           0.0384,
           0.245,
           0.294,
           0.445,
           0.252,
           0.224,
           0.68,
           0.0964,
           0.296,
           0.1,
           0.112,
           0.0997,
           0.118,
           0.356,
           0.441,
           0.204,
           0.199,
           0.689,
           0.385,
           0.334,
           0.717,
           0.226,
           0.0968,
           0.247,
           0.378,
           0.623,
           0.253,
           0.328,
           0.331,
           0.129,
           0.366,
           0.95,
           0.747,
           0.612,
           0.0502,
           0.264,
           0.0398,
           0.522,
           0.102,
           0.462,
           0.324,
           0.21,
           0.272,
           0.0795,
           0.0965,
           0.401,
           0.549,
           0.331,
           0.746,
           0.0326,
           0.333,
           0.123,
           0.378,
           0.266,
           0.954,
           0.203,
           0.687,
           0.495,
           0.038,
           0.0335,
           0.281,
           0.361,
           0.625,
           0.0389,
           0.352,
           0.847,
           0.262,
           0.14,
           0.599,
           0.072,
           0.114,
           0.26,
           0.292,
           0.144,
           0.474,
           0.0388,
           0.115,
           0.1,
           0.1,
           0.371,
           0.0495,
           0.408,
           0.913,
           0.595,
           0.219,
           0.31,
           0.279,
           0.148,
           0.641,
           0.574,
           0.0742,
           0.231,
           0.408,
           0.223,
           0.13,
           0.623,
           0.035,
           0.908,
           0.17,
           0.396,
           0.94,
           0.152,
           0.808,
           0.272,
           0.126,
           0.399,
           0.0629,
           0.607,
           0.603,
           0.148,
           0.0981,
           0.0462,
           0.253,
           0.532,
           0.106,
           0.661,
           0.423,
           0.157,
           0.559,
           0.107,
           0.112,
           0.685,
           0.507,
           0.0615,
           0.22,
           0.0361,
           0.157,
           0.246,
           0.209,
           0.0344,
           0.126,
           0.589,
           0.405,
           0.177,
           0.118,
           0.443,
           0.588,
           0.308,
           0.367,
           0.04,
           0.0342,
           0.846,
           0.12,
           0.586,
           0.515,
           0.0272,
           0.231,
           0.436,
           0.157,
           0.0343,
           0.65,
           0.101,
           0.074,
           0.38,
           0.581,
           0.44,
           0.0376,
           0.0954,
           0.166,
           0.0342,
           0.059,
           0.617,
           0.218,
           0.16,
           0.0395,
           0.32,
           0.103,
           0.129,
           0.358,
           0.0401,
           0.192,
           0.46,
           0.606,
           0.525,
           0.449,
           0.0445,
           0.292,
           0.352,
           0.483,
           0.733,
           0.279,
           0.159,
           0.805,
           0.387,
           0.306,
           0.156,
           0.488,
           0.459,
           0.343,
           0.696,
           0.472,
           0.36,
           0.564,
           0.444,
           0.109,
           0.306,
           0.385,
           0.585,
           0.628,
           0.428,
           0.189,
           0.812,
           0.329,
           0.663,
           0.0726,
           0.0924,
           0.0393,
           0.154,
           0.279,
           0.113,
           0.552,
           0.434,
           0.568,
           0.609,
           0.854,
           0.27,
           0.207,
           0.806,
           0.247,
           0.436,
           0.717,
           0.377,
           0.25,
           0.373,
           0.67,
           0.312,
           0.252,
           0.732,
           0.128,
           0.0334,
           0.279,
           0.503,
           0.517,
           0.503,
           0.0684,
           0.0355,
           0.0786,
           0.342,
           0.0389,
           0.279,
           0.0611,
           0.0772,
           0.164,
           0.0436,
           0.0516,
           0.0871,
           0.0577,
           0.0655,
           0.602,
           0.239,
           0.7,
           0.476,
           0.0362,
           0.309
          ],
          "coloraxis": "coloraxis",
          "symbol": "circle"
         },
         "mode": "markers",
         "name": "",
         "scene": "scene",
         "showlegend": false,
         "type": "scatter3d",
         "x": [
          0.363,
          0.428,
          0.174,
          0.349,
          0.487,
          0.249,
          0.375,
          0.363,
          0.428,
          0.174,
          0.349,
          0.487,
          0.249,
          0.375,
          0.363,
          0.428,
          0.174,
          0.349,
          0.487,
          0.175,
          0.659,
          0.59,
          0.0752,
          0.474,
          0.609,
          0.274,
          0.578,
          0.335,
          0.564,
          0.246,
          0.342,
          0.475,
          0.246,
          0.342,
          0.475,
          0.387,
          0.387,
          0.542,
          0.53,
          0.651,
          0.552,
          0.533,
          0.608,
          0.811,
          0.494,
          0.391,
          0.549,
          0.655,
          0.653,
          0.349,
          0.542,
          0.387,
          0.349,
          0.638,
          0.475,
          0.342,
          0.543,
          0.246,
          0.234,
          0.38,
          0.175,
          0.659,
          0.469,
          0.214,
          0.638,
          0.848,
          0.747,
          0.856,
          0.788,
          0.639,
          0.219,
          0.196,
          0.721,
          0.714,
          0.601,
          0.36,
          0.553,
          0.577,
          0.769,
          0.524,
          0.258,
          0.658,
          0.171,
          0.418,
          0.418,
          0.54,
          0.175,
          0.382,
          0.774,
          0.454,
          0.348,
          0.255,
          0.453,
          0.7,
          0.483,
          0.604,
          0.423,
          0.441,
          0.66,
          0.703,
          0.566,
          0.514,
          0.676,
          0.692,
          0.434,
          0.409,
          0.632,
          0.5,
          0.57,
          0.5,
          0.522,
          0.529,
          0.57,
          0.511,
          0.615,
          0.456,
          0.371,
          0.389,
          0.494,
          0.58,
          0.412,
          0.554,
          0.67,
          0.437,
          0.187,
          0.408,
          0.51,
          0.215,
          0.705,
          0.527,
          0.443,
          0.555,
          0.725,
          0.361,
          0.561,
          0.634,
          0.757,
          0.498,
          0.737,
          0.571,
          0.457,
          0.572,
          0.591,
          0.537,
          0.612,
          0.0752,
          0.547,
          0.649,
          0.459,
          0.547,
          0.464,
          0.481,
          0.845,
          0.442,
          0.455,
          0.44,
          0.391,
          0.535,
          0.345,
          0.387,
          0.424,
          0.548,
          0.402,
          0.695,
          0.76,
          0.596,
          0.601,
          0.369,
          0.481,
          0.587,
          0.811,
          0.181,
          0.217,
          0.319,
          0.491,
          0.458,
          0.476,
          0.728,
          0.433,
          0.671,
          0.491,
          0.657,
          0.611,
          0.474,
          0.581,
          0.588,
          0.596,
          0.538,
          0.2,
          0.566,
          0.451,
          0.558,
          0.627,
          0.472,
          0.59,
          0.487,
          0.732,
          0.53,
          0.567,
          0.457,
          0.48,
          0.22,
          0.347,
          0.793,
          0.78,
          0.423,
          0.38,
          0.322,
          0.715,
          0.536,
          0.412,
          0.185,
          0.372,
          0.679,
          0.806,
          0.734,
          0.255,
          0.556,
          0.591,
          0.816,
          0.543,
          0.374,
          0.576,
          0.672,
          0.29,
          0.581,
          0.573,
          0.457,
          0.663,
          0.484,
          0.85,
          0.212,
          0.595,
          0.435,
          0.187,
          0.506,
          0.379,
          0.697,
          0.351,
          0.523,
          0.603,
          0.224,
          0.491,
          0.533,
          0.638,
          0.262,
          0.381,
          0.6,
          0.392,
          0.538,
          0.383,
          0.221,
          0.633,
          0.524,
          0.846,
          0.792,
          0.477,
          0.215,
          0.517,
          0.418,
          0.625,
          0.587,
          0.577,
          0.312,
          0.644,
          0.512,
          0.679,
          0.353,
          0.661,
          0.456,
          0.424,
          0.619,
          0.586,
          0.183,
          0.407,
          0.387,
          0.592,
          0.677,
          0.659,
          0.706,
          0.565,
          0.512,
          0.598,
          0.557,
          0.376,
          0.466,
          0.309,
          0.239,
          0.56,
          0.563,
          0.399,
          0.525,
          0.609,
          0.607,
          0.698,
          0.559,
          0.668,
          0.591,
          0.615,
          0.789,
          0.299,
          0.568,
          0.401,
          0.509,
          0.596,
          0.545,
          0.808,
          0.447,
          0.406,
          0.449,
          0.296,
          0.606,
          0.725,
          0.668,
          0.606,
          0.837,
          0.701,
          0.155,
          0.353,
          0.589,
          0.34,
          0.603,
          0.37,
          0.479,
          0.589,
          0.424,
          0.441,
          0.43,
          0.518,
          0.348,
          0.813,
          0.492,
          0.755,
          0.435,
          0.259,
          0.517
         ],
         "y": [
          0.893,
          0.862,
          0.635,
          0.947,
          0.71,
          0.847,
          0.757,
          0.893,
          0.862,
          0.635,
          0.947,
          0.71,
          0.847,
          0.757,
          0.893,
          0.862,
          0.635,
          0.947,
          0.71,
          0.351,
          0.571,
          0.782,
          0.915,
          0.714,
          0.389,
          0.51,
          0.437,
          0.888,
          0.842,
          0.551,
          0.798,
          0.44,
          0.551,
          0.798,
          0.44,
          0.47,
          0.47,
          0.857,
          0.727,
          0.709,
          0.848,
          0.818,
          0.682,
          0.684,
          0.876,
          0.905,
          0.602,
          0.845,
          0.439,
          0.696,
          0.857,
          0.47,
          0.696,
          0.823,
          0.44,
          0.798,
          0.466,
          0.551,
          0.26,
          0.219,
          0.351,
          0.571,
          0.6,
          0.263,
          0.877,
          0.734,
          0.681,
          0.863,
          0.49,
          0.632,
          0.358,
          0.113,
          0.668,
          0.689,
          0.605,
          0.822,
          0.787,
          0.672,
          0.281,
          0.791,
          0.747,
          0.671,
          0.465,
          0.66,
          0.546,
          0.926,
          0.678,
          0.819,
          0.664,
          0.689,
          0.708,
          0.576,
          0.807,
          0.657,
          0.905,
          0.851,
          0.672,
          0.771,
          0.787,
          0.446,
          0.769,
          0.73,
          0.857,
          0.257,
          0.488,
          0.185,
          0.135,
          0.455,
          0.828,
          0.498,
          0.636,
          0.704,
          0.607,
          0.614,
          0.592,
          0.386,
          0.858,
          0.753,
          0.79,
          0.728,
          0.672,
          0.692,
          0.604,
          0.418,
          0.608,
          0.702,
          0.274,
          0.801,
          0.729,
          0.716,
          0.737,
          0.147,
          0.807,
          0.441,
          0.33,
          0.869,
          0.578,
          0.447,
          0.678,
          0.935,
          0.58,
          0.958,
          0.843,
          0.53,
          0.602,
          0.915,
          0.738,
          0.829,
          0.539,
          0.828,
          0.671,
          0.546,
          0.398,
          0.463,
          0.224,
          0.0455,
          0.513,
          0.484,
          0.71,
          0.523,
          0.496,
          0.799,
          0.83,
          0.573,
          0.479,
          0.598,
          0.548,
          0.4,
          0.618,
          0.649,
          0.689,
          0.942,
          0.23,
          0.722,
          0.856,
          0.362,
          0.543,
          0.637,
          0.244,
          0.929,
          0.762,
          0.842,
          0.942,
          0.646,
          0.672,
          0.336,
          0.19,
          0.857,
          0.38,
          0.585,
          0.828,
          0.32,
          0.471,
          0.657,
          0.782,
          0.627,
          0.243,
          0.913,
          0.743,
          0.259,
          0.96,
          0.218,
          0.416,
          0.79,
          0.768,
          0.232,
          0.591,
          0.615,
          0.899,
          0.702,
          0.595,
          0.297,
          0.0195,
          0.724,
          0.428,
          0.618,
          0.393,
          0.602,
          0.673,
          0.386,
          0.508,
          0.751,
          0.737,
          0.762,
          0.412,
          0.886,
          0.473,
          0.668,
          0.864,
          0.764,
          0.396,
          0.0681,
          0.912,
          0.648,
          0.505,
          0.634,
          0.653,
          0.514,
          0.631,
          0.525,
          0.39,
          0.496,
          0.307,
          0.739,
          0.898,
          0.683,
          0.349,
          0.663,
          0.35,
          0.726,
          0.93,
          0.0879,
          0.631,
          0.634,
          0.377,
          0.924,
          0.763,
          0.437,
          0.796,
          0.383,
          0.726,
          0.631,
          0.748,
          0.465,
          0.747,
          0.688,
          0.873,
          0.326,
          0.574,
          0.677,
          0.616,
          0.896,
          0.685,
          0.984,
          0.975,
          0.94,
          0.391,
          0.566,
          0.759,
          0.827,
          0.806,
          0.976,
          0.67,
          0.704,
          0.594,
          0.777,
          0.745,
          0.761,
          0.305,
          0.836,
          0.645,
          0.749,
          0.435,
          0.466,
          0.649,
          0.292,
          0.31,
          0.738,
          0.6,
          0.671,
          0.706,
          0.87,
          0.954,
          0.811,
          0.752,
          0.655,
          0.96,
          0.558,
          0.832,
          0.963,
          0.226,
          0.626,
          0.931,
          0.886,
          0.874,
          0.736,
          0.777,
          0.472,
          0.619,
          0.717,
          0.747,
          0.854,
          0.219,
          0.717,
          0.503,
          0.417,
          0.729,
          0.133,
          0.411,
          0.0598,
          0.513,
          0.908,
          0.915,
          0.473,
          0.569,
          0.666
         ],
         "z": [
          0.0309,
          0.0381,
          0.0281,
          0.0421,
          0.0314,
          0.037,
          0.033,
          0.0309,
          0.0381,
          0.0281,
          0.0421,
          0.0314,
          0.037,
          0.033,
          0.0309,
          0.0381,
          0.0281,
          0.0421,
          0.0314,
          0.0374,
          0.0283,
          0.0586,
          0.0754,
          0.0343,
          0.031,
          0.0354,
          0.0372,
          0.0887,
          0.0445,
          0.0501,
          0.054,
          0.0297,
          0.0501,
          0.054,
          0.0297,
          0.0476,
          0.0476,
          0.0352,
          0.049,
          0.037,
          0.0326,
          0.0312,
          0.0324,
          0.063,
          0.0354,
          0.0448,
          0.0377,
          0.0365,
          0.0396,
          0.0362,
          0.0352,
          0.0476,
          0.0362,
          0.0401,
          0.0297,
          0.054,
          0.037,
          0.0501,
          0.035,
          0.0358,
          0.0374,
          0.0283,
          0.0566,
          0.0353,
          0.0302,
          0.0506,
          0.117,
          0.057,
          0.511,
          0.029,
          0.0512,
          0.0452,
          0.0322,
          0.0455,
          0.0267,
          0.0381,
          0.0931,
          0.0343,
          0.0289,
          0.387,
          0.0417,
          0.0363,
          0.0402,
          0.0447,
          0.238,
          0.0526,
          0.0646,
          0.0495,
          0.0301,
          0.0362,
          0.0827,
          0.0323,
          0.0665,
          0.15,
          0.0417,
          0.107,
          0.0475,
          0.0371,
          0.032,
          0.143,
          0.0872,
          0.0598,
          0.0438,
          0.0545,
          0.0411,
          0.0588,
          0.0933,
          0.0243,
          0.0384,
          0.0289,
          0.0306,
          0.028,
          0.0285,
          0.322,
          0.0443,
          0.032,
          0.039,
          0.0343,
          0.0338,
          0.0336,
          0.0713,
          0.0512,
          0.0311,
          0.0323,
          0.044,
          0.0468,
          0.0348,
          0.0379,
          0.221,
          0.0616,
          0.0293,
          0.0701,
          0.0266,
          0.0285,
          0.0268,
          0.0383,
          0.0386,
          0.0323,
          0.0953,
          0.0275,
          0.096,
          0.047,
          0.0299,
          0.0309,
          0.0252,
          0.0754,
          0.0623,
          0.0455,
          0.0287,
          0.0562,
          0.0434,
          0.0723,
          0.0948,
          0.03,
          0.03,
          0.0478,
          0.0328,
          0.0332,
          0.0857,
          0.035,
          0.032,
          0.0606,
          0.054,
          0.106,
          0.0466,
          0.0268,
          0.089,
          0.0443,
          0.0271,
          0.0448,
          0.0628,
          0.25,
          0.0324,
          0.0399,
          0.0308,
          0.0305,
          0.0481,
          0.0461,
          0.0344,
          0.0342,
          0.0335,
          0.0344,
          0.101,
          0.0325,
          0.0602,
          0.036,
          0.0324,
          0.0535,
          0.0347,
          0.0502,
          0.035,
          0.0309,
          0.0378,
          0.0401,
          0.0586,
          0.0259,
          0.0435,
          0.0444,
          0.0626,
          0.0397,
          0.114,
          0.0383,
          0.0317,
          0.0497,
          0.238,
          0.0362,
          0.0321,
          0.0427,
          0.111,
          0.0284,
          0.0276,
          0.0353,
          0.0661,
          0.078,
          0.058,
          0.0278,
          0.0278,
          0.0313,
          0.0319,
          0.0338,
          0.0282,
          0.0611,
          0.0641,
          0.25,
          0.0458,
          0.0324,
          0.0268,
          0.0458,
          0.0528,
          0.0479,
          0.132,
          0.0408,
          0.0734,
          0.0339,
          0.0369,
          0.0332,
          0.0431,
          0.0286,
          0.0353,
          0.0417,
          0.031,
          0.03,
          0.0363,
          0.0602,
          0.128,
          0.0332,
          0.0419,
          0.0283,
          0.0281,
          0.0337,
          0.0621,
          0.0381,
          0.0469,
          0.0376,
          0.169,
          0.101,
          0.0319,
          0.0309,
          0.0433,
          0.0257,
          0.155,
          0.308,
          0.0357,
          0.0342,
          0.0282,
          0.0382,
          0.0277,
          0.0901,
          0.0272,
          0.0285,
          0.0316,
          0.114,
          0.0493,
          0.186,
          0.0779,
          0.0528,
          0.0265,
          0.185,
          0.0701,
          0.0359,
          0.109,
          0.0861,
          0.095,
          0.145,
          0.096,
          0.0863,
          0.0462,
          0.0354,
          0.0278,
          0.0357,
          0.0531,
          0.0863,
          0.285,
          0.0578,
          0.415,
          0.0523,
          0.0555,
          0.293,
          0.0344,
          0.0344,
          0.0687,
          0.0778,
          0.0966,
          0.0547,
          0.0323,
          0.0284,
          0.424,
          0.0244,
          0.107,
          0.0558,
          0.0321,
          0.0503,
          0.0651,
          0.117,
          0.0416,
          0.126,
          0.0634,
          0.0347,
          0.0366,
          0.033,
          0.0452,
          0.0422,
          0.0384,
          0.0434,
          0.035,
          0.0283,
          0.0358,
          0.0566,
          0.0358,
          0.0333,
          0.0464,
          0.0651,
          0.105,
          0.0513,
          0.0386,
          0.042
         ]
        }
       ],
       "layout": {
        "coloraxis": {
         "colorbar": {
          "title": {
           "text": "valence"
          }
         },
         "colorscale": [
          [
           0,
           "#ff0000"
          ],
          [
           1,
           "#0000ff"
          ]
         ]
        },
        "height": 600,
        "legend": {
         "tracegroupgap": 0
        },
        "margin": {
         "b": 0,
         "l": 0,
         "r": 0,
         "t": 50
        },
        "scene": {
         "camera": {
          "center": {
           "z": -0.25
          },
          "eye": {
           "x": 1.3,
           "y": 1.3,
           "z": 1.3
          }
         },
         "domain": {
          "x": [
           0,
           1
          ],
          "y": [
           0,
           1
          ]
         },
         "xaxis": {
          "title": {
           "text": "danceability"
          }
         },
         "yaxis": {
          "title": {
           "text": "energy"
          }
         },
         "zaxis": {
          "title": {
           "text": "speechiness"
          }
         }
        },
        "template": {
         "data": {
          "bar": [
           {
            "error_x": {
             "color": "#2a3f5f"
            },
            "error_y": {
             "color": "#2a3f5f"
            },
            "marker": {
             "line": {
              "color": "#E5ECF6",
              "width": 0.5
             },
             "pattern": {
              "fillmode": "overlay",
              "size": 10,
              "solidity": 0.2
             }
            },
            "type": "bar"
           }
          ],
          "barpolar": [
           {
            "marker": {
             "line": {
              "color": "#E5ECF6",
              "width": 0.5
             },
             "pattern": {
              "fillmode": "overlay",
              "size": 10,
              "solidity": 0.2
             }
            },
            "type": "barpolar"
           }
          ],
          "carpet": [
           {
            "aaxis": {
             "endlinecolor": "#2a3f5f",
             "gridcolor": "white",
             "linecolor": "white",
             "minorgridcolor": "white",
             "startlinecolor": "#2a3f5f"
            },
            "baxis": {
             "endlinecolor": "#2a3f5f",
             "gridcolor": "white",
             "linecolor": "white",
             "minorgridcolor": "white",
             "startlinecolor": "#2a3f5f"
            },
            "type": "carpet"
           }
          ],
          "choropleth": [
           {
            "colorbar": {
             "outlinewidth": 0,
             "ticks": ""
            },
            "type": "choropleth"
           }
          ],
          "contour": [
           {
            "colorbar": {
             "outlinewidth": 0,
             "ticks": ""
            },
            "colorscale": [
             [
              0,
              "#0d0887"
             ],
             [
              0.1111111111111111,
              "#46039f"
             ],
             [
              0.2222222222222222,
              "#7201a8"
             ],
             [
              0.3333333333333333,
              "#9c179e"
             ],
             [
              0.4444444444444444,
              "#bd3786"
             ],
             [
              0.5555555555555556,
              "#d8576b"
             ],
             [
              0.6666666666666666,
              "#ed7953"
             ],
             [
              0.7777777777777778,
              "#fb9f3a"
             ],
             [
              0.8888888888888888,
              "#fdca26"
             ],
             [
              1,
              "#f0f921"
             ]
            ],
            "type": "contour"
           }
          ],
          "contourcarpet": [
           {
            "colorbar": {
             "outlinewidth": 0,
             "ticks": ""
            },
            "type": "contourcarpet"
           }
          ],
          "heatmap": [
           {
            "colorbar": {
             "outlinewidth": 0,
             "ticks": ""
            },
            "colorscale": [
             [
              0,
              "#0d0887"
             ],
             [
              0.1111111111111111,
              "#46039f"
             ],
             [
              0.2222222222222222,
              "#7201a8"
             ],
             [
              0.3333333333333333,
              "#9c179e"
             ],
             [
              0.4444444444444444,
              "#bd3786"
             ],
             [
              0.5555555555555556,
              "#d8576b"
             ],
             [
              0.6666666666666666,
              "#ed7953"
             ],
             [
              0.7777777777777778,
              "#fb9f3a"
             ],
             [
              0.8888888888888888,
              "#fdca26"
             ],
             [
              1,
              "#f0f921"
             ]
            ],
            "type": "heatmap"
           }
          ],
          "heatmapgl": [
           {
            "colorbar": {
             "outlinewidth": 0,
             "ticks": ""
            },
            "colorscale": [
             [
              0,
              "#0d0887"
             ],
             [
              0.1111111111111111,
              "#46039f"
             ],
             [
              0.2222222222222222,
              "#7201a8"
             ],
             [
              0.3333333333333333,
              "#9c179e"
             ],
             [
              0.4444444444444444,
              "#bd3786"
             ],
             [
              0.5555555555555556,
              "#d8576b"
             ],
             [
              0.6666666666666666,
              "#ed7953"
             ],
             [
              0.7777777777777778,
              "#fb9f3a"
             ],
             [
              0.8888888888888888,
              "#fdca26"
             ],
             [
              1,
              "#f0f921"
             ]
            ],
            "type": "heatmapgl"
           }
          ],
          "histogram": [
           {
            "marker": {
             "pattern": {
              "fillmode": "overlay",
              "size": 10,
              "solidity": 0.2
             }
            },
            "type": "histogram"
           }
          ],
          "histogram2d": [
           {
            "colorbar": {
             "outlinewidth": 0,
             "ticks": ""
            },
            "colorscale": [
             [
              0,
              "#0d0887"
             ],
             [
              0.1111111111111111,
              "#46039f"
             ],
             [
              0.2222222222222222,
              "#7201a8"
             ],
             [
              0.3333333333333333,
              "#9c179e"
             ],
             [
              0.4444444444444444,
              "#bd3786"
             ],
             [
              0.5555555555555556,
              "#d8576b"
             ],
             [
              0.6666666666666666,
              "#ed7953"
             ],
             [
              0.7777777777777778,
              "#fb9f3a"
             ],
             [
              0.8888888888888888,
              "#fdca26"
             ],
             [
              1,
              "#f0f921"
             ]
            ],
            "type": "histogram2d"
           }
          ],
          "histogram2dcontour": [
           {
            "colorbar": {
             "outlinewidth": 0,
             "ticks": ""
            },
            "colorscale": [
             [
              0,
              "#0d0887"
             ],
             [
              0.1111111111111111,
              "#46039f"
             ],
             [
              0.2222222222222222,
              "#7201a8"
             ],
             [
              0.3333333333333333,
              "#9c179e"
             ],
             [
              0.4444444444444444,
              "#bd3786"
             ],
             [
              0.5555555555555556,
              "#d8576b"
             ],
             [
              0.6666666666666666,
              "#ed7953"
             ],
             [
              0.7777777777777778,
              "#fb9f3a"
             ],
             [
              0.8888888888888888,
              "#fdca26"
             ],
             [
              1,
              "#f0f921"
             ]
            ],
            "type": "histogram2dcontour"
           }
          ],
          "mesh3d": [
           {
            "colorbar": {
             "outlinewidth": 0,
             "ticks": ""
            },
            "type": "mesh3d"
           }
          ],
          "parcoords": [
           {
            "line": {
             "colorbar": {
              "outlinewidth": 0,
              "ticks": ""
             }
            },
            "type": "parcoords"
           }
          ],
          "pie": [
           {
            "automargin": true,
            "type": "pie"
           }
          ],
          "scatter": [
           {
            "marker": {
             "colorbar": {
              "outlinewidth": 0,
              "ticks": ""
             }
            },
            "type": "scatter"
           }
          ],
          "scatter3d": [
           {
            "line": {
             "colorbar": {
              "outlinewidth": 0,
              "ticks": ""
             }
            },
            "marker": {
             "colorbar": {
              "outlinewidth": 0,
              "ticks": ""
             }
            },
            "type": "scatter3d"
           }
          ],
          "scattercarpet": [
           {
            "marker": {
             "colorbar": {
              "outlinewidth": 0,
              "ticks": ""
             }
            },
            "type": "scattercarpet"
           }
          ],
          "scattergeo": [
           {
            "marker": {
             "colorbar": {
              "outlinewidth": 0,
              "ticks": ""
             }
            },
            "type": "scattergeo"
           }
          ],
          "scattergl": [
           {
            "marker": {
             "colorbar": {
              "outlinewidth": 0,
              "ticks": ""
             }
            },
            "type": "scattergl"
           }
          ],
          "scattermapbox": [
           {
            "marker": {
             "colorbar": {
              "outlinewidth": 0,
              "ticks": ""
             }
            },
            "type": "scattermapbox"
           }
          ],
          "scatterpolar": [
           {
            "marker": {
             "colorbar": {
              "outlinewidth": 0,
              "ticks": ""
             }
            },
            "type": "scatterpolar"
           }
          ],
          "scatterpolargl": [
           {
            "marker": {
             "colorbar": {
              "outlinewidth": 0,
              "ticks": ""
             }
            },
            "type": "scatterpolargl"
           }
          ],
          "scatterternary": [
           {
            "marker": {
             "colorbar": {
              "outlinewidth": 0,
              "ticks": ""
             }
            },
            "type": "scatterternary"
           }
          ],
          "surface": [
           {
            "colorbar": {
             "outlinewidth": 0,
             "ticks": ""
            },
            "colorscale": [
             [
              0,
              "#0d0887"
             ],
             [
              0.1111111111111111,
              "#46039f"
             ],
             [
              0.2222222222222222,
              "#7201a8"
             ],
             [
              0.3333333333333333,
              "#9c179e"
             ],
             [
              0.4444444444444444,
              "#bd3786"
             ],
             [
              0.5555555555555556,
              "#d8576b"
             ],
             [
              0.6666666666666666,
              "#ed7953"
             ],
             [
              0.7777777777777778,
              "#fb9f3a"
             ],
             [
              0.8888888888888888,
              "#fdca26"
             ],
             [
              1,
              "#f0f921"
             ]
            ],
            "type": "surface"
           }
          ],
          "table": [
           {
            "cells": {
             "fill": {
              "color": "#EBF0F8"
             },
             "line": {
              "color": "white"
             }
            },
            "header": {
             "fill": {
              "color": "#C8D4E3"
             },
             "line": {
              "color": "white"
             }
            },
            "type": "table"
           }
          ]
         },
         "layout": {
          "annotationdefaults": {
           "arrowcolor": "#2a3f5f",
           "arrowhead": 0,
           "arrowwidth": 1
          },
          "autotypenumbers": "strict",
          "coloraxis": {
           "colorbar": {
            "outlinewidth": 0,
            "ticks": ""
           }
          },
          "colorscale": {
           "diverging": [
            [
             0,
             "#8e0152"
            ],
            [
             0.1,
             "#c51b7d"
            ],
            [
             0.2,
             "#de77ae"
            ],
            [
             0.3,
             "#f1b6da"
            ],
            [
             0.4,
             "#fde0ef"
            ],
            [
             0.5,
             "#f7f7f7"
            ],
            [
             0.6,
             "#e6f5d0"
            ],
            [
             0.7,
             "#b8e186"
            ],
            [
             0.8,
             "#7fbc41"
            ],
            [
             0.9,
             "#4d9221"
            ],
            [
             1,
             "#276419"
            ]
           ],
           "sequential": [
            [
             0,
             "#0d0887"
            ],
            [
             0.1111111111111111,
             "#46039f"
            ],
            [
             0.2222222222222222,
             "#7201a8"
            ],
            [
             0.3333333333333333,
             "#9c179e"
            ],
            [
             0.4444444444444444,
             "#bd3786"
            ],
            [
             0.5555555555555556,
             "#d8576b"
            ],
            [
             0.6666666666666666,
             "#ed7953"
            ],
            [
             0.7777777777777778,
             "#fb9f3a"
            ],
            [
             0.8888888888888888,
             "#fdca26"
            ],
            [
             1,
             "#f0f921"
            ]
           ],
           "sequentialminus": [
            [
             0,
             "#0d0887"
            ],
            [
             0.1111111111111111,
             "#46039f"
            ],
            [
             0.2222222222222222,
             "#7201a8"
            ],
            [
             0.3333333333333333,
             "#9c179e"
            ],
            [
             0.4444444444444444,
             "#bd3786"
            ],
            [
             0.5555555555555556,
             "#d8576b"
            ],
            [
             0.6666666666666666,
             "#ed7953"
            ],
            [
             0.7777777777777778,
             "#fb9f3a"
            ],
            [
             0.8888888888888888,
             "#fdca26"
            ],
            [
             1,
             "#f0f921"
            ]
           ]
          },
          "colorway": [
           "#636efa",
           "#EF553B",
           "#00cc96",
           "#ab63fa",
           "#FFA15A",
           "#19d3f3",
           "#FF6692",
           "#B6E880",
           "#FF97FF",
           "#FECB52"
          ],
          "font": {
           "color": "#2a3f5f"
          },
          "geo": {
           "bgcolor": "white",
           "lakecolor": "white",
           "landcolor": "#E5ECF6",
           "showlakes": true,
           "showland": true,
           "subunitcolor": "white"
          },
          "hoverlabel": {
           "align": "left"
          },
          "hovermode": "closest",
          "mapbox": {
           "style": "light"
          },
          "paper_bgcolor": "white",
          "plot_bgcolor": "#E5ECF6",
          "polar": {
           "angularaxis": {
            "gridcolor": "white",
            "linecolor": "white",
            "ticks": ""
           },
           "bgcolor": "#E5ECF6",
           "radialaxis": {
            "gridcolor": "white",
            "linecolor": "white",
            "ticks": ""
           }
          },
          "scene": {
           "xaxis": {
            "backgroundcolor": "#E5ECF6",
            "gridcolor": "white",
            "gridwidth": 2,
            "linecolor": "white",
            "showbackground": true,
            "ticks": "",
            "zerolinecolor": "white"
           },
           "yaxis": {
            "backgroundcolor": "#E5ECF6",
            "gridcolor": "white",
            "gridwidth": 2,
            "linecolor": "white",
            "showbackground": true,
            "ticks": "",
            "zerolinecolor": "white"
           },
           "zaxis": {
            "backgroundcolor": "#E5ECF6",
            "gridcolor": "white",
            "gridwidth": 2,
            "linecolor": "white",
            "showbackground": true,
            "ticks": "",
            "zerolinecolor": "white"
           }
          },
          "shapedefaults": {
           "line": {
            "color": "#2a3f5f"
           }
          },
          "ternary": {
           "aaxis": {
            "gridcolor": "white",
            "linecolor": "white",
            "ticks": ""
           },
           "baxis": {
            "gridcolor": "white",
            "linecolor": "white",
            "ticks": ""
           },
           "bgcolor": "#E5ECF6",
           "caxis": {
            "gridcolor": "white",
            "linecolor": "white",
            "ticks": ""
           }
          },
          "title": {
           "x": 0.05
          },
          "xaxis": {
           "automargin": true,
           "gridcolor": "white",
           "linecolor": "white",
           "ticks": "",
           "title": {
            "standoff": 15
           },
           "zerolinecolor": "white",
           "zerolinewidth": 2
          },
          "yaxis": {
           "automargin": true,
           "gridcolor": "white",
           "linecolor": "white",
           "ticks": "",
           "title": {
            "standoff": 15
           },
           "zerolinecolor": "white",
           "zerolinewidth": 2
          }
         }
        },
        "title": {
         "text": "Speechiness, Energy, and Danceability of saved tracks and most recent 50 tracks"
        },
        "width": 800
       }
      }
     },
     "metadata": {},
     "output_type": "display_data"
    }
   ],
   "source": [
    "color_scheme = ['#ff0000', '#0000ff']\n",
    "fig = px.scatter_3d(master_df, x='danceability', y='energy', z='speechiness', width=800, height=600, color='valence', color_continuous_scale=color_scheme, hover_name='hoverdata')\n",
    "zoom_level = 1.3\n",
    "camera = dict(\n",
    "    eye=dict(x=zoom_level, y=zoom_level, z=zoom_level),\n",
    "    center_z=-0.25\n",
    ")\n",
    "fig.update_layout(scene_camera=camera, title='Speechiness, Energy, and Danceability of saved tracks and most recent 50 tracks', margin=dict(b=0, l=0, r=0, t=50))\n",
    "fig.show()"
   ]
  },
  {
   "cell_type": "code",
   "execution_count": 141,
   "metadata": {},
   "outputs": [
    {
     "data": {
      "application/vnd.plotly.v1+json": {
       "config": {
        "plotlyServerURL": "https://plot.ly"
       },
       "data": [
        {
         "coloraxis": "coloraxis",
         "hovertemplate": "danceability=%{x}<br>energy=%{y}<br>count=%{z}<extra></extra>",
         "name": "",
         "nbinsx": 20,
         "nbinsy": 20,
         "type": "histogram2d",
         "x": [
          0.363,
          0.428,
          0.174,
          0.349,
          0.487,
          0.249,
          0.375,
          0.363,
          0.428,
          0.174,
          0.349,
          0.487,
          0.249,
          0.375,
          0.363,
          0.428,
          0.174,
          0.349,
          0.487,
          0.175,
          0.659,
          0.59,
          0.0752,
          0.474,
          0.609,
          0.274,
          0.578,
          0.335,
          0.564,
          0.246,
          0.342,
          0.475,
          0.246,
          0.342,
          0.475,
          0.387,
          0.387,
          0.542,
          0.53,
          0.651,
          0.552,
          0.533,
          0.608,
          0.811,
          0.494,
          0.391,
          0.549,
          0.655,
          0.653,
          0.349,
          0.542,
          0.387,
          0.349,
          0.638,
          0.475,
          0.342,
          0.543,
          0.246,
          0.234,
          0.38,
          0.175,
          0.659,
          0.469,
          0.214,
          0.638,
          0.848,
          0.747,
          0.856,
          0.788,
          0.639,
          0.219,
          0.196,
          0.721,
          0.714,
          0.601,
          0.36,
          0.553,
          0.577,
          0.769,
          0.524,
          0.258,
          0.658,
          0.171,
          0.418,
          0.418,
          0.54,
          0.175,
          0.382,
          0.774,
          0.454,
          0.348,
          0.255,
          0.453,
          0.7,
          0.483,
          0.604,
          0.423,
          0.441,
          0.66,
          0.703,
          0.566,
          0.514,
          0.676,
          0.692,
          0.434,
          0.409,
          0.632,
          0.5,
          0.57,
          0.5,
          0.522,
          0.529,
          0.57,
          0.511,
          0.615,
          0.456,
          0.371,
          0.389,
          0.494,
          0.58,
          0.412,
          0.554,
          0.67,
          0.437,
          0.187,
          0.408,
          0.51,
          0.215,
          0.705,
          0.527,
          0.443,
          0.555,
          0.725,
          0.361,
          0.561,
          0.634,
          0.757,
          0.498,
          0.737,
          0.571,
          0.457,
          0.572,
          0.591,
          0.537,
          0.612,
          0.0752,
          0.547,
          0.649,
          0.459,
          0.547,
          0.464,
          0.481,
          0.845,
          0.442,
          0.455,
          0.44,
          0.391,
          0.535,
          0.345,
          0.387,
          0.424,
          0.548,
          0.402,
          0.695,
          0.76,
          0.596,
          0.601,
          0.369,
          0.481,
          0.587,
          0.811,
          0.181,
          0.217,
          0.319,
          0.491,
          0.458,
          0.476,
          0.728,
          0.433,
          0.671,
          0.491,
          0.657,
          0.611,
          0.474,
          0.581,
          0.588,
          0.596,
          0.538,
          0.2,
          0.566,
          0.451,
          0.558,
          0.627,
          0.472,
          0.59,
          0.487,
          0.732,
          0.53,
          0.567,
          0.457,
          0.48,
          0.22,
          0.347,
          0.793,
          0.78,
          0.423,
          0.38,
          0.322,
          0.715,
          0.536,
          0.412,
          0.185,
          0.372,
          0.679,
          0.806,
          0.734,
          0.255,
          0.556,
          0.591,
          0.816,
          0.543,
          0.374,
          0.576,
          0.672,
          0.29,
          0.581,
          0.573,
          0.457,
          0.663,
          0.484,
          0.85,
          0.212,
          0.595,
          0.435,
          0.187,
          0.506,
          0.379,
          0.697,
          0.351,
          0.523,
          0.603,
          0.224,
          0.491,
          0.533,
          0.638,
          0.262,
          0.381,
          0.6,
          0.392,
          0.538,
          0.383,
          0.221,
          0.633,
          0.524,
          0.846,
          0.792,
          0.477,
          0.215,
          0.517,
          0.418,
          0.625,
          0.587,
          0.577,
          0.312,
          0.644,
          0.512,
          0.679,
          0.353,
          0.661,
          0.456,
          0.424,
          0.619,
          0.586,
          0.183,
          0.407,
          0.387,
          0.592,
          0.677,
          0.659,
          0.706,
          0.565,
          0.512,
          0.598,
          0.557,
          0.376,
          0.466,
          0.309,
          0.239,
          0.56,
          0.563,
          0.399,
          0.525,
          0.609,
          0.607,
          0.698,
          0.559,
          0.668,
          0.591,
          0.615,
          0.789,
          0.299,
          0.568,
          0.401,
          0.509,
          0.596,
          0.545,
          0.808,
          0.447,
          0.406,
          0.449,
          0.296,
          0.606,
          0.725,
          0.668,
          0.606,
          0.837,
          0.701,
          0.155,
          0.353,
          0.589,
          0.34,
          0.603,
          0.37,
          0.479,
          0.589,
          0.424,
          0.441,
          0.43,
          0.518,
          0.348,
          0.813,
          0.492,
          0.755,
          0.435,
          0.259,
          0.517
         ],
         "xaxis": "x",
         "xbingroup": "x",
         "y": [
          0.893,
          0.862,
          0.635,
          0.947,
          0.71,
          0.847,
          0.757,
          0.893,
          0.862,
          0.635,
          0.947,
          0.71,
          0.847,
          0.757,
          0.893,
          0.862,
          0.635,
          0.947,
          0.71,
          0.351,
          0.571,
          0.782,
          0.915,
          0.714,
          0.389,
          0.51,
          0.437,
          0.888,
          0.842,
          0.551,
          0.798,
          0.44,
          0.551,
          0.798,
          0.44,
          0.47,
          0.47,
          0.857,
          0.727,
          0.709,
          0.848,
          0.818,
          0.682,
          0.684,
          0.876,
          0.905,
          0.602,
          0.845,
          0.439,
          0.696,
          0.857,
          0.47,
          0.696,
          0.823,
          0.44,
          0.798,
          0.466,
          0.551,
          0.26,
          0.219,
          0.351,
          0.571,
          0.6,
          0.263,
          0.877,
          0.734,
          0.681,
          0.863,
          0.49,
          0.632,
          0.358,
          0.113,
          0.668,
          0.689,
          0.605,
          0.822,
          0.787,
          0.672,
          0.281,
          0.791,
          0.747,
          0.671,
          0.465,
          0.66,
          0.546,
          0.926,
          0.678,
          0.819,
          0.664,
          0.689,
          0.708,
          0.576,
          0.807,
          0.657,
          0.905,
          0.851,
          0.672,
          0.771,
          0.787,
          0.446,
          0.769,
          0.73,
          0.857,
          0.257,
          0.488,
          0.185,
          0.135,
          0.455,
          0.828,
          0.498,
          0.636,
          0.704,
          0.607,
          0.614,
          0.592,
          0.386,
          0.858,
          0.753,
          0.79,
          0.728,
          0.672,
          0.692,
          0.604,
          0.418,
          0.608,
          0.702,
          0.274,
          0.801,
          0.729,
          0.716,
          0.737,
          0.147,
          0.807,
          0.441,
          0.33,
          0.869,
          0.578,
          0.447,
          0.678,
          0.935,
          0.58,
          0.958,
          0.843,
          0.53,
          0.602,
          0.915,
          0.738,
          0.829,
          0.539,
          0.828,
          0.671,
          0.546,
          0.398,
          0.463,
          0.224,
          0.0455,
          0.513,
          0.484,
          0.71,
          0.523,
          0.496,
          0.799,
          0.83,
          0.573,
          0.479,
          0.598,
          0.548,
          0.4,
          0.618,
          0.649,
          0.689,
          0.942,
          0.23,
          0.722,
          0.856,
          0.362,
          0.543,
          0.637,
          0.244,
          0.929,
          0.762,
          0.842,
          0.942,
          0.646,
          0.672,
          0.336,
          0.19,
          0.857,
          0.38,
          0.585,
          0.828,
          0.32,
          0.471,
          0.657,
          0.782,
          0.627,
          0.243,
          0.913,
          0.743,
          0.259,
          0.96,
          0.218,
          0.416,
          0.79,
          0.768,
          0.232,
          0.591,
          0.615,
          0.899,
          0.702,
          0.595,
          0.297,
          0.0195,
          0.724,
          0.428,
          0.618,
          0.393,
          0.602,
          0.673,
          0.386,
          0.508,
          0.751,
          0.737,
          0.762,
          0.412,
          0.886,
          0.473,
          0.668,
          0.864,
          0.764,
          0.396,
          0.0681,
          0.912,
          0.648,
          0.505,
          0.634,
          0.653,
          0.514,
          0.631,
          0.525,
          0.39,
          0.496,
          0.307,
          0.739,
          0.898,
          0.683,
          0.349,
          0.663,
          0.35,
          0.726,
          0.93,
          0.0879,
          0.631,
          0.634,
          0.377,
          0.924,
          0.763,
          0.437,
          0.796,
          0.383,
          0.726,
          0.631,
          0.748,
          0.465,
          0.747,
          0.688,
          0.873,
          0.326,
          0.574,
          0.677,
          0.616,
          0.896,
          0.685,
          0.984,
          0.975,
          0.94,
          0.391,
          0.566,
          0.759,
          0.827,
          0.806,
          0.976,
          0.67,
          0.704,
          0.594,
          0.777,
          0.745,
          0.761,
          0.305,
          0.836,
          0.645,
          0.749,
          0.435,
          0.466,
          0.649,
          0.292,
          0.31,
          0.738,
          0.6,
          0.671,
          0.706,
          0.87,
          0.954,
          0.811,
          0.752,
          0.655,
          0.96,
          0.558,
          0.832,
          0.963,
          0.226,
          0.626,
          0.931,
          0.886,
          0.874,
          0.736,
          0.777,
          0.472,
          0.619,
          0.717,
          0.747,
          0.854,
          0.219,
          0.717,
          0.503,
          0.417,
          0.729,
          0.133,
          0.411,
          0.0598,
          0.513,
          0.908,
          0.915,
          0.473,
          0.569,
          0.666
         ],
         "yaxis": "y",
         "ybingroup": "y"
        }
       ],
       "layout": {
        "coloraxis": {
         "colorbar": {
          "title": {
           "text": "count"
          }
         },
         "colorscale": [
          [
           0,
           "#ff0000"
          ],
          [
           1,
           "#0000ff"
          ]
         ]
        },
        "height": 800,
        "legend": {
         "tracegroupgap": 0
        },
        "margin": {
         "t": 60
        },
        "template": {
         "data": {
          "bar": [
           {
            "error_x": {
             "color": "#2a3f5f"
            },
            "error_y": {
             "color": "#2a3f5f"
            },
            "marker": {
             "line": {
              "color": "#E5ECF6",
              "width": 0.5
             },
             "pattern": {
              "fillmode": "overlay",
              "size": 10,
              "solidity": 0.2
             }
            },
            "type": "bar"
           }
          ],
          "barpolar": [
           {
            "marker": {
             "line": {
              "color": "#E5ECF6",
              "width": 0.5
             },
             "pattern": {
              "fillmode": "overlay",
              "size": 10,
              "solidity": 0.2
             }
            },
            "type": "barpolar"
           }
          ],
          "carpet": [
           {
            "aaxis": {
             "endlinecolor": "#2a3f5f",
             "gridcolor": "white",
             "linecolor": "white",
             "minorgridcolor": "white",
             "startlinecolor": "#2a3f5f"
            },
            "baxis": {
             "endlinecolor": "#2a3f5f",
             "gridcolor": "white",
             "linecolor": "white",
             "minorgridcolor": "white",
             "startlinecolor": "#2a3f5f"
            },
            "type": "carpet"
           }
          ],
          "choropleth": [
           {
            "colorbar": {
             "outlinewidth": 0,
             "ticks": ""
            },
            "type": "choropleth"
           }
          ],
          "contour": [
           {
            "colorbar": {
             "outlinewidth": 0,
             "ticks": ""
            },
            "colorscale": [
             [
              0,
              "#0d0887"
             ],
             [
              0.1111111111111111,
              "#46039f"
             ],
             [
              0.2222222222222222,
              "#7201a8"
             ],
             [
              0.3333333333333333,
              "#9c179e"
             ],
             [
              0.4444444444444444,
              "#bd3786"
             ],
             [
              0.5555555555555556,
              "#d8576b"
             ],
             [
              0.6666666666666666,
              "#ed7953"
             ],
             [
              0.7777777777777778,
              "#fb9f3a"
             ],
             [
              0.8888888888888888,
              "#fdca26"
             ],
             [
              1,
              "#f0f921"
             ]
            ],
            "type": "contour"
           }
          ],
          "contourcarpet": [
           {
            "colorbar": {
             "outlinewidth": 0,
             "ticks": ""
            },
            "type": "contourcarpet"
           }
          ],
          "heatmap": [
           {
            "colorbar": {
             "outlinewidth": 0,
             "ticks": ""
            },
            "colorscale": [
             [
              0,
              "#0d0887"
             ],
             [
              0.1111111111111111,
              "#46039f"
             ],
             [
              0.2222222222222222,
              "#7201a8"
             ],
             [
              0.3333333333333333,
              "#9c179e"
             ],
             [
              0.4444444444444444,
              "#bd3786"
             ],
             [
              0.5555555555555556,
              "#d8576b"
             ],
             [
              0.6666666666666666,
              "#ed7953"
             ],
             [
              0.7777777777777778,
              "#fb9f3a"
             ],
             [
              0.8888888888888888,
              "#fdca26"
             ],
             [
              1,
              "#f0f921"
             ]
            ],
            "type": "heatmap"
           }
          ],
          "heatmapgl": [
           {
            "colorbar": {
             "outlinewidth": 0,
             "ticks": ""
            },
            "colorscale": [
             [
              0,
              "#0d0887"
             ],
             [
              0.1111111111111111,
              "#46039f"
             ],
             [
              0.2222222222222222,
              "#7201a8"
             ],
             [
              0.3333333333333333,
              "#9c179e"
             ],
             [
              0.4444444444444444,
              "#bd3786"
             ],
             [
              0.5555555555555556,
              "#d8576b"
             ],
             [
              0.6666666666666666,
              "#ed7953"
             ],
             [
              0.7777777777777778,
              "#fb9f3a"
             ],
             [
              0.8888888888888888,
              "#fdca26"
             ],
             [
              1,
              "#f0f921"
             ]
            ],
            "type": "heatmapgl"
           }
          ],
          "histogram": [
           {
            "marker": {
             "pattern": {
              "fillmode": "overlay",
              "size": 10,
              "solidity": 0.2
             }
            },
            "type": "histogram"
           }
          ],
          "histogram2d": [
           {
            "colorbar": {
             "outlinewidth": 0,
             "ticks": ""
            },
            "colorscale": [
             [
              0,
              "#0d0887"
             ],
             [
              0.1111111111111111,
              "#46039f"
             ],
             [
              0.2222222222222222,
              "#7201a8"
             ],
             [
              0.3333333333333333,
              "#9c179e"
             ],
             [
              0.4444444444444444,
              "#bd3786"
             ],
             [
              0.5555555555555556,
              "#d8576b"
             ],
             [
              0.6666666666666666,
              "#ed7953"
             ],
             [
              0.7777777777777778,
              "#fb9f3a"
             ],
             [
              0.8888888888888888,
              "#fdca26"
             ],
             [
              1,
              "#f0f921"
             ]
            ],
            "type": "histogram2d"
           }
          ],
          "histogram2dcontour": [
           {
            "colorbar": {
             "outlinewidth": 0,
             "ticks": ""
            },
            "colorscale": [
             [
              0,
              "#0d0887"
             ],
             [
              0.1111111111111111,
              "#46039f"
             ],
             [
              0.2222222222222222,
              "#7201a8"
             ],
             [
              0.3333333333333333,
              "#9c179e"
             ],
             [
              0.4444444444444444,
              "#bd3786"
             ],
             [
              0.5555555555555556,
              "#d8576b"
             ],
             [
              0.6666666666666666,
              "#ed7953"
             ],
             [
              0.7777777777777778,
              "#fb9f3a"
             ],
             [
              0.8888888888888888,
              "#fdca26"
             ],
             [
              1,
              "#f0f921"
             ]
            ],
            "type": "histogram2dcontour"
           }
          ],
          "mesh3d": [
           {
            "colorbar": {
             "outlinewidth": 0,
             "ticks": ""
            },
            "type": "mesh3d"
           }
          ],
          "parcoords": [
           {
            "line": {
             "colorbar": {
              "outlinewidth": 0,
              "ticks": ""
             }
            },
            "type": "parcoords"
           }
          ],
          "pie": [
           {
            "automargin": true,
            "type": "pie"
           }
          ],
          "scatter": [
           {
            "marker": {
             "colorbar": {
              "outlinewidth": 0,
              "ticks": ""
             }
            },
            "type": "scatter"
           }
          ],
          "scatter3d": [
           {
            "line": {
             "colorbar": {
              "outlinewidth": 0,
              "ticks": ""
             }
            },
            "marker": {
             "colorbar": {
              "outlinewidth": 0,
              "ticks": ""
             }
            },
            "type": "scatter3d"
           }
          ],
          "scattercarpet": [
           {
            "marker": {
             "colorbar": {
              "outlinewidth": 0,
              "ticks": ""
             }
            },
            "type": "scattercarpet"
           }
          ],
          "scattergeo": [
           {
            "marker": {
             "colorbar": {
              "outlinewidth": 0,
              "ticks": ""
             }
            },
            "type": "scattergeo"
           }
          ],
          "scattergl": [
           {
            "marker": {
             "colorbar": {
              "outlinewidth": 0,
              "ticks": ""
             }
            },
            "type": "scattergl"
           }
          ],
          "scattermapbox": [
           {
            "marker": {
             "colorbar": {
              "outlinewidth": 0,
              "ticks": ""
             }
            },
            "type": "scattermapbox"
           }
          ],
          "scatterpolar": [
           {
            "marker": {
             "colorbar": {
              "outlinewidth": 0,
              "ticks": ""
             }
            },
            "type": "scatterpolar"
           }
          ],
          "scatterpolargl": [
           {
            "marker": {
             "colorbar": {
              "outlinewidth": 0,
              "ticks": ""
             }
            },
            "type": "scatterpolargl"
           }
          ],
          "scatterternary": [
           {
            "marker": {
             "colorbar": {
              "outlinewidth": 0,
              "ticks": ""
             }
            },
            "type": "scatterternary"
           }
          ],
          "surface": [
           {
            "colorbar": {
             "outlinewidth": 0,
             "ticks": ""
            },
            "colorscale": [
             [
              0,
              "#0d0887"
             ],
             [
              0.1111111111111111,
              "#46039f"
             ],
             [
              0.2222222222222222,
              "#7201a8"
             ],
             [
              0.3333333333333333,
              "#9c179e"
             ],
             [
              0.4444444444444444,
              "#bd3786"
             ],
             [
              0.5555555555555556,
              "#d8576b"
             ],
             [
              0.6666666666666666,
              "#ed7953"
             ],
             [
              0.7777777777777778,
              "#fb9f3a"
             ],
             [
              0.8888888888888888,
              "#fdca26"
             ],
             [
              1,
              "#f0f921"
             ]
            ],
            "type": "surface"
           }
          ],
          "table": [
           {
            "cells": {
             "fill": {
              "color": "#EBF0F8"
             },
             "line": {
              "color": "white"
             }
            },
            "header": {
             "fill": {
              "color": "#C8D4E3"
             },
             "line": {
              "color": "white"
             }
            },
            "type": "table"
           }
          ]
         },
         "layout": {
          "annotationdefaults": {
           "arrowcolor": "#2a3f5f",
           "arrowhead": 0,
           "arrowwidth": 1
          },
          "autotypenumbers": "strict",
          "coloraxis": {
           "colorbar": {
            "outlinewidth": 0,
            "ticks": ""
           }
          },
          "colorscale": {
           "diverging": [
            [
             0,
             "#8e0152"
            ],
            [
             0.1,
             "#c51b7d"
            ],
            [
             0.2,
             "#de77ae"
            ],
            [
             0.3,
             "#f1b6da"
            ],
            [
             0.4,
             "#fde0ef"
            ],
            [
             0.5,
             "#f7f7f7"
            ],
            [
             0.6,
             "#e6f5d0"
            ],
            [
             0.7,
             "#b8e186"
            ],
            [
             0.8,
             "#7fbc41"
            ],
            [
             0.9,
             "#4d9221"
            ],
            [
             1,
             "#276419"
            ]
           ],
           "sequential": [
            [
             0,
             "#0d0887"
            ],
            [
             0.1111111111111111,
             "#46039f"
            ],
            [
             0.2222222222222222,
             "#7201a8"
            ],
            [
             0.3333333333333333,
             "#9c179e"
            ],
            [
             0.4444444444444444,
             "#bd3786"
            ],
            [
             0.5555555555555556,
             "#d8576b"
            ],
            [
             0.6666666666666666,
             "#ed7953"
            ],
            [
             0.7777777777777778,
             "#fb9f3a"
            ],
            [
             0.8888888888888888,
             "#fdca26"
            ],
            [
             1,
             "#f0f921"
            ]
           ],
           "sequentialminus": [
            [
             0,
             "#0d0887"
            ],
            [
             0.1111111111111111,
             "#46039f"
            ],
            [
             0.2222222222222222,
             "#7201a8"
            ],
            [
             0.3333333333333333,
             "#9c179e"
            ],
            [
             0.4444444444444444,
             "#bd3786"
            ],
            [
             0.5555555555555556,
             "#d8576b"
            ],
            [
             0.6666666666666666,
             "#ed7953"
            ],
            [
             0.7777777777777778,
             "#fb9f3a"
            ],
            [
             0.8888888888888888,
             "#fdca26"
            ],
            [
             1,
             "#f0f921"
            ]
           ]
          },
          "colorway": [
           "#636efa",
           "#EF553B",
           "#00cc96",
           "#ab63fa",
           "#FFA15A",
           "#19d3f3",
           "#FF6692",
           "#B6E880",
           "#FF97FF",
           "#FECB52"
          ],
          "font": {
           "color": "#2a3f5f"
          },
          "geo": {
           "bgcolor": "white",
           "lakecolor": "white",
           "landcolor": "#E5ECF6",
           "showlakes": true,
           "showland": true,
           "subunitcolor": "white"
          },
          "hoverlabel": {
           "align": "left"
          },
          "hovermode": "closest",
          "mapbox": {
           "style": "light"
          },
          "paper_bgcolor": "white",
          "plot_bgcolor": "#E5ECF6",
          "polar": {
           "angularaxis": {
            "gridcolor": "white",
            "linecolor": "white",
            "ticks": ""
           },
           "bgcolor": "#E5ECF6",
           "radialaxis": {
            "gridcolor": "white",
            "linecolor": "white",
            "ticks": ""
           }
          },
          "scene": {
           "xaxis": {
            "backgroundcolor": "#E5ECF6",
            "gridcolor": "white",
            "gridwidth": 2,
            "linecolor": "white",
            "showbackground": true,
            "ticks": "",
            "zerolinecolor": "white"
           },
           "yaxis": {
            "backgroundcolor": "#E5ECF6",
            "gridcolor": "white",
            "gridwidth": 2,
            "linecolor": "white",
            "showbackground": true,
            "ticks": "",
            "zerolinecolor": "white"
           },
           "zaxis": {
            "backgroundcolor": "#E5ECF6",
            "gridcolor": "white",
            "gridwidth": 2,
            "linecolor": "white",
            "showbackground": true,
            "ticks": "",
            "zerolinecolor": "white"
           }
          },
          "shapedefaults": {
           "line": {
            "color": "#2a3f5f"
           }
          },
          "ternary": {
           "aaxis": {
            "gridcolor": "white",
            "linecolor": "white",
            "ticks": ""
           },
           "baxis": {
            "gridcolor": "white",
            "linecolor": "white",
            "ticks": ""
           },
           "bgcolor": "#E5ECF6",
           "caxis": {
            "gridcolor": "white",
            "linecolor": "white",
            "ticks": ""
           }
          },
          "title": {
           "x": 0.05
          },
          "xaxis": {
           "automargin": true,
           "gridcolor": "white",
           "linecolor": "white",
           "ticks": "",
           "title": {
            "standoff": 15
           },
           "zerolinecolor": "white",
           "zerolinewidth": 2
          },
          "yaxis": {
           "automargin": true,
           "gridcolor": "white",
           "linecolor": "white",
           "ticks": "",
           "title": {
            "standoff": 15
           },
           "zerolinecolor": "white",
           "zerolinewidth": 2
          }
         }
        },
        "title": {
         "text": "Danceability and energy histogram of saved tracks and most recent 50 tracks"
        },
        "width": 800,
        "xaxis": {
         "anchor": "y",
         "domain": [
          0,
          1
         ],
         "title": {
          "text": "danceability"
         }
        },
        "yaxis": {
         "anchor": "x",
         "domain": [
          0,
          1
         ],
         "title": {
          "text": "energy"
         }
        }
       }
      }
     },
     "metadata": {},
     "output_type": "display_data"
    }
   ],
   "source": [
    "fig = px.density_heatmap(master_df, x='danceability', y='energy', width=800, height=800, nbinsx=20, nbinsy=20, color_continuous_scale=color_scheme)\n",
    "fig.update_layout(title='Danceability and energy histogram of saved tracks and most recent 50 tracks')\n",
    "fig.show()"
   ]
  },
  {
   "cell_type": "code",
   "execution_count": 142,
   "metadata": {},
   "outputs": [
    {
     "data": {
      "application/vnd.plotly.v1+json": {
       "config": {
        "plotlyServerURL": "https://plot.ly"
       },
       "data": [
        {
         "alignmentgroup": "True",
         "bingroup": "x",
         "hovertemplate": "tempo=%{x}<br>count=%{y}<extra></extra>",
         "legendgroup": "",
         "marker": {
          "color": "#636efa",
          "pattern": {
           "shape": ""
          }
         },
         "name": "",
         "offsetgroup": "",
         "orientation": "v",
         "showlegend": false,
         "type": "histogram",
         "x": [
          90.461,
          89.5,
          90.018,
          178.028,
          88.467,
          175.957,
          87.476,
          90.461,
          89.5,
          90.018,
          178.028,
          88.467,
          175.957,
          87.476,
          90.461,
          89.5,
          90.018,
          178.028,
          88.467,
          119.778,
          119.969,
          104.016,
          210.065,
          139.984,
          125.027,
          140.054,
          103.861,
          139.77,
          145.99,
          84.662,
          134.713,
          95.043,
          84.662,
          134.713,
          95.043,
          119.95,
          119.95,
          128.011,
          123.969,
          121.02,
          120.011,
          111.979,
          122.98,
          122.008,
          120.014,
          124.006,
          121.004,
          121.003,
          119.021,
          173.901,
          128.011,
          119.95,
          173.901,
          124.017,
          95.043,
          134.713,
          134.896,
          84.662,
          172.52,
          73.537,
          119.778,
          119.969,
          99.871,
          141.791,
          139.052,
          96.009,
          98.978,
          124.998,
          177.865,
          114.993,
          119.608,
          68.065,
          115.029,
          107.971,
          104.992,
          151.922,
          139.841,
          149.991,
          103.494,
          139.946,
          120.619,
          100.966,
          119.908,
          100.007,
          160.152,
          108.02,
          81.403,
          135.026,
          108.002,
          88.058,
          171.457,
          132.025,
          199.937,
          123.022,
          92.992,
          199.975,
          79.955,
          171.966,
          142.018,
          77.064,
          170.036,
          171.005,
          149.981,
          171.936,
          97.914,
          79.191,
          117.569,
          78.007,
          117.985,
          159.975,
          139.994,
          98.017,
          91.006,
          92.184,
          89.829,
          165.733,
          179.988,
          84.012,
          120.006,
          102.989,
          117.989,
          109.998,
          105,
          166.063,
          61.848,
          120.004,
          75.974,
          180.09,
          165.901,
          99.426,
          115.277,
          100.515,
          120.014,
          110.065,
          79.01,
          108.002,
          102.96,
          78.044,
          102.045,
          140.015,
          180.051,
          101.009,
          111.971,
          80.008,
          94.537,
          210.065,
          194.028,
          112.834,
          187.981,
          92.197,
          110,
          180.047,
          100.549,
          172.036,
          120.846,
          109.966,
          92.734,
          128.954,
          82.667,
          87.489,
          129.984,
          90.01,
          116.95,
          99.939,
          89.911,
          113.825,
          82.488,
          147.808,
          142.076,
          91.98,
          140.006,
          173.817,
          149.76,
          199.881,
          159.959,
          139.879,
          119.919,
          119.987,
          100.129,
          122.013,
          130.027,
          109.977,
          120.004,
          95.025,
          111.154,
          95.999,
          130.266,
          91.039,
          114.834,
          169.981,
          179.979,
          139.994,
          140.014,
          134.925,
          104.016,
          180.025,
          102.087,
          146.301,
          170.083,
          133.115,
          171.961,
          138.253,
          107.979,
          113.002,
          80.063,
          133.973,
          113.003,
          167.95,
          94.091,
          85.247,
          157.981,
          95.97,
          83.239,
          143.925,
          100.137,
          122.008,
          76.426,
          147.022,
          107.001,
          106.989,
          153.745,
          137.967,
          139.982,
          87.059,
          90.539,
          106.067,
          77.494,
          131.006,
          115.003,
          89.041,
          103.555,
          114.753,
          151.953,
          129.992,
          74.273,
          146.966,
          119.133,
          136.071,
          130.01,
          146.002,
          140.045,
          81.962,
          72.552,
          81.37,
          128.028,
          99.977,
          119.972,
          104.809,
          84.094,
          99.993,
          122.564,
          126.622,
          89.994,
          110.029,
          100.028,
          124.992,
          150.664,
          127.595,
          124.99,
          87.773,
          103.98,
          80.108,
          124.71,
          175.514,
          84.018,
          170.017,
          129.995,
          75.5,
          107.967,
          107.908,
          132.066,
          93.236,
          169.938,
          182.41,
          154.486,
          134.876,
          124.02,
          170.009,
          105.025,
          128.01,
          91.976,
          95.465,
          104.964,
          201.922,
          173.923,
          139.957,
          127.928,
          98.009,
          139.953,
          105.006,
          179.759,
          103.113,
          131.995,
          121.741,
          180.466,
          120.445,
          165.929,
          130.116,
          135.5,
          94.972,
          94.263,
          137.909,
          189.921,
          124.001,
          108.979,
          159.976,
          128.048,
          92.051,
          83.708,
          175.003,
          101.892,
          119.986,
          130.036,
          142.002,
          127.992,
          129.989,
          128.031,
          185.992,
          140.024,
          123.985,
          174.038,
          109.978,
          127.982,
          135.989,
          140.042,
          140.064,
          157.009,
          146.129,
          128.018,
          211.763,
          128.004,
          94.955,
          113.986,
          82.413,
          176.154,
          77.678
         ],
         "xaxis": "x",
         "yaxis": "y"
        }
       ],
       "layout": {
        "barmode": "relative",
        "height": 800,
        "legend": {
         "tracegroupgap": 0
        },
        "margin": {
         "t": 60
        },
        "template": {
         "data": {
          "bar": [
           {
            "error_x": {
             "color": "#2a3f5f"
            },
            "error_y": {
             "color": "#2a3f5f"
            },
            "marker": {
             "line": {
              "color": "#E5ECF6",
              "width": 0.5
             },
             "pattern": {
              "fillmode": "overlay",
              "size": 10,
              "solidity": 0.2
             }
            },
            "type": "bar"
           }
          ],
          "barpolar": [
           {
            "marker": {
             "line": {
              "color": "#E5ECF6",
              "width": 0.5
             },
             "pattern": {
              "fillmode": "overlay",
              "size": 10,
              "solidity": 0.2
             }
            },
            "type": "barpolar"
           }
          ],
          "carpet": [
           {
            "aaxis": {
             "endlinecolor": "#2a3f5f",
             "gridcolor": "white",
             "linecolor": "white",
             "minorgridcolor": "white",
             "startlinecolor": "#2a3f5f"
            },
            "baxis": {
             "endlinecolor": "#2a3f5f",
             "gridcolor": "white",
             "linecolor": "white",
             "minorgridcolor": "white",
             "startlinecolor": "#2a3f5f"
            },
            "type": "carpet"
           }
          ],
          "choropleth": [
           {
            "colorbar": {
             "outlinewidth": 0,
             "ticks": ""
            },
            "type": "choropleth"
           }
          ],
          "contour": [
           {
            "colorbar": {
             "outlinewidth": 0,
             "ticks": ""
            },
            "colorscale": [
             [
              0,
              "#0d0887"
             ],
             [
              0.1111111111111111,
              "#46039f"
             ],
             [
              0.2222222222222222,
              "#7201a8"
             ],
             [
              0.3333333333333333,
              "#9c179e"
             ],
             [
              0.4444444444444444,
              "#bd3786"
             ],
             [
              0.5555555555555556,
              "#d8576b"
             ],
             [
              0.6666666666666666,
              "#ed7953"
             ],
             [
              0.7777777777777778,
              "#fb9f3a"
             ],
             [
              0.8888888888888888,
              "#fdca26"
             ],
             [
              1,
              "#f0f921"
             ]
            ],
            "type": "contour"
           }
          ],
          "contourcarpet": [
           {
            "colorbar": {
             "outlinewidth": 0,
             "ticks": ""
            },
            "type": "contourcarpet"
           }
          ],
          "heatmap": [
           {
            "colorbar": {
             "outlinewidth": 0,
             "ticks": ""
            },
            "colorscale": [
             [
              0,
              "#0d0887"
             ],
             [
              0.1111111111111111,
              "#46039f"
             ],
             [
              0.2222222222222222,
              "#7201a8"
             ],
             [
              0.3333333333333333,
              "#9c179e"
             ],
             [
              0.4444444444444444,
              "#bd3786"
             ],
             [
              0.5555555555555556,
              "#d8576b"
             ],
             [
              0.6666666666666666,
              "#ed7953"
             ],
             [
              0.7777777777777778,
              "#fb9f3a"
             ],
             [
              0.8888888888888888,
              "#fdca26"
             ],
             [
              1,
              "#f0f921"
             ]
            ],
            "type": "heatmap"
           }
          ],
          "heatmapgl": [
           {
            "colorbar": {
             "outlinewidth": 0,
             "ticks": ""
            },
            "colorscale": [
             [
              0,
              "#0d0887"
             ],
             [
              0.1111111111111111,
              "#46039f"
             ],
             [
              0.2222222222222222,
              "#7201a8"
             ],
             [
              0.3333333333333333,
              "#9c179e"
             ],
             [
              0.4444444444444444,
              "#bd3786"
             ],
             [
              0.5555555555555556,
              "#d8576b"
             ],
             [
              0.6666666666666666,
              "#ed7953"
             ],
             [
              0.7777777777777778,
              "#fb9f3a"
             ],
             [
              0.8888888888888888,
              "#fdca26"
             ],
             [
              1,
              "#f0f921"
             ]
            ],
            "type": "heatmapgl"
           }
          ],
          "histogram": [
           {
            "marker": {
             "pattern": {
              "fillmode": "overlay",
              "size": 10,
              "solidity": 0.2
             }
            },
            "type": "histogram"
           }
          ],
          "histogram2d": [
           {
            "colorbar": {
             "outlinewidth": 0,
             "ticks": ""
            },
            "colorscale": [
             [
              0,
              "#0d0887"
             ],
             [
              0.1111111111111111,
              "#46039f"
             ],
             [
              0.2222222222222222,
              "#7201a8"
             ],
             [
              0.3333333333333333,
              "#9c179e"
             ],
             [
              0.4444444444444444,
              "#bd3786"
             ],
             [
              0.5555555555555556,
              "#d8576b"
             ],
             [
              0.6666666666666666,
              "#ed7953"
             ],
             [
              0.7777777777777778,
              "#fb9f3a"
             ],
             [
              0.8888888888888888,
              "#fdca26"
             ],
             [
              1,
              "#f0f921"
             ]
            ],
            "type": "histogram2d"
           }
          ],
          "histogram2dcontour": [
           {
            "colorbar": {
             "outlinewidth": 0,
             "ticks": ""
            },
            "colorscale": [
             [
              0,
              "#0d0887"
             ],
             [
              0.1111111111111111,
              "#46039f"
             ],
             [
              0.2222222222222222,
              "#7201a8"
             ],
             [
              0.3333333333333333,
              "#9c179e"
             ],
             [
              0.4444444444444444,
              "#bd3786"
             ],
             [
              0.5555555555555556,
              "#d8576b"
             ],
             [
              0.6666666666666666,
              "#ed7953"
             ],
             [
              0.7777777777777778,
              "#fb9f3a"
             ],
             [
              0.8888888888888888,
              "#fdca26"
             ],
             [
              1,
              "#f0f921"
             ]
            ],
            "type": "histogram2dcontour"
           }
          ],
          "mesh3d": [
           {
            "colorbar": {
             "outlinewidth": 0,
             "ticks": ""
            },
            "type": "mesh3d"
           }
          ],
          "parcoords": [
           {
            "line": {
             "colorbar": {
              "outlinewidth": 0,
              "ticks": ""
             }
            },
            "type": "parcoords"
           }
          ],
          "pie": [
           {
            "automargin": true,
            "type": "pie"
           }
          ],
          "scatter": [
           {
            "marker": {
             "colorbar": {
              "outlinewidth": 0,
              "ticks": ""
             }
            },
            "type": "scatter"
           }
          ],
          "scatter3d": [
           {
            "line": {
             "colorbar": {
              "outlinewidth": 0,
              "ticks": ""
             }
            },
            "marker": {
             "colorbar": {
              "outlinewidth": 0,
              "ticks": ""
             }
            },
            "type": "scatter3d"
           }
          ],
          "scattercarpet": [
           {
            "marker": {
             "colorbar": {
              "outlinewidth": 0,
              "ticks": ""
             }
            },
            "type": "scattercarpet"
           }
          ],
          "scattergeo": [
           {
            "marker": {
             "colorbar": {
              "outlinewidth": 0,
              "ticks": ""
             }
            },
            "type": "scattergeo"
           }
          ],
          "scattergl": [
           {
            "marker": {
             "colorbar": {
              "outlinewidth": 0,
              "ticks": ""
             }
            },
            "type": "scattergl"
           }
          ],
          "scattermapbox": [
           {
            "marker": {
             "colorbar": {
              "outlinewidth": 0,
              "ticks": ""
             }
            },
            "type": "scattermapbox"
           }
          ],
          "scatterpolar": [
           {
            "marker": {
             "colorbar": {
              "outlinewidth": 0,
              "ticks": ""
             }
            },
            "type": "scatterpolar"
           }
          ],
          "scatterpolargl": [
           {
            "marker": {
             "colorbar": {
              "outlinewidth": 0,
              "ticks": ""
             }
            },
            "type": "scatterpolargl"
           }
          ],
          "scatterternary": [
           {
            "marker": {
             "colorbar": {
              "outlinewidth": 0,
              "ticks": ""
             }
            },
            "type": "scatterternary"
           }
          ],
          "surface": [
           {
            "colorbar": {
             "outlinewidth": 0,
             "ticks": ""
            },
            "colorscale": [
             [
              0,
              "#0d0887"
             ],
             [
              0.1111111111111111,
              "#46039f"
             ],
             [
              0.2222222222222222,
              "#7201a8"
             ],
             [
              0.3333333333333333,
              "#9c179e"
             ],
             [
              0.4444444444444444,
              "#bd3786"
             ],
             [
              0.5555555555555556,
              "#d8576b"
             ],
             [
              0.6666666666666666,
              "#ed7953"
             ],
             [
              0.7777777777777778,
              "#fb9f3a"
             ],
             [
              0.8888888888888888,
              "#fdca26"
             ],
             [
              1,
              "#f0f921"
             ]
            ],
            "type": "surface"
           }
          ],
          "table": [
           {
            "cells": {
             "fill": {
              "color": "#EBF0F8"
             },
             "line": {
              "color": "white"
             }
            },
            "header": {
             "fill": {
              "color": "#C8D4E3"
             },
             "line": {
              "color": "white"
             }
            },
            "type": "table"
           }
          ]
         },
         "layout": {
          "annotationdefaults": {
           "arrowcolor": "#2a3f5f",
           "arrowhead": 0,
           "arrowwidth": 1
          },
          "autotypenumbers": "strict",
          "coloraxis": {
           "colorbar": {
            "outlinewidth": 0,
            "ticks": ""
           }
          },
          "colorscale": {
           "diverging": [
            [
             0,
             "#8e0152"
            ],
            [
             0.1,
             "#c51b7d"
            ],
            [
             0.2,
             "#de77ae"
            ],
            [
             0.3,
             "#f1b6da"
            ],
            [
             0.4,
             "#fde0ef"
            ],
            [
             0.5,
             "#f7f7f7"
            ],
            [
             0.6,
             "#e6f5d0"
            ],
            [
             0.7,
             "#b8e186"
            ],
            [
             0.8,
             "#7fbc41"
            ],
            [
             0.9,
             "#4d9221"
            ],
            [
             1,
             "#276419"
            ]
           ],
           "sequential": [
            [
             0,
             "#0d0887"
            ],
            [
             0.1111111111111111,
             "#46039f"
            ],
            [
             0.2222222222222222,
             "#7201a8"
            ],
            [
             0.3333333333333333,
             "#9c179e"
            ],
            [
             0.4444444444444444,
             "#bd3786"
            ],
            [
             0.5555555555555556,
             "#d8576b"
            ],
            [
             0.6666666666666666,
             "#ed7953"
            ],
            [
             0.7777777777777778,
             "#fb9f3a"
            ],
            [
             0.8888888888888888,
             "#fdca26"
            ],
            [
             1,
             "#f0f921"
            ]
           ],
           "sequentialminus": [
            [
             0,
             "#0d0887"
            ],
            [
             0.1111111111111111,
             "#46039f"
            ],
            [
             0.2222222222222222,
             "#7201a8"
            ],
            [
             0.3333333333333333,
             "#9c179e"
            ],
            [
             0.4444444444444444,
             "#bd3786"
            ],
            [
             0.5555555555555556,
             "#d8576b"
            ],
            [
             0.6666666666666666,
             "#ed7953"
            ],
            [
             0.7777777777777778,
             "#fb9f3a"
            ],
            [
             0.8888888888888888,
             "#fdca26"
            ],
            [
             1,
             "#f0f921"
            ]
           ]
          },
          "colorway": [
           "#636efa",
           "#EF553B",
           "#00cc96",
           "#ab63fa",
           "#FFA15A",
           "#19d3f3",
           "#FF6692",
           "#B6E880",
           "#FF97FF",
           "#FECB52"
          ],
          "font": {
           "color": "#2a3f5f"
          },
          "geo": {
           "bgcolor": "white",
           "lakecolor": "white",
           "landcolor": "#E5ECF6",
           "showlakes": true,
           "showland": true,
           "subunitcolor": "white"
          },
          "hoverlabel": {
           "align": "left"
          },
          "hovermode": "closest",
          "mapbox": {
           "style": "light"
          },
          "paper_bgcolor": "white",
          "plot_bgcolor": "#E5ECF6",
          "polar": {
           "angularaxis": {
            "gridcolor": "white",
            "linecolor": "white",
            "ticks": ""
           },
           "bgcolor": "#E5ECF6",
           "radialaxis": {
            "gridcolor": "white",
            "linecolor": "white",
            "ticks": ""
           }
          },
          "scene": {
           "xaxis": {
            "backgroundcolor": "#E5ECF6",
            "gridcolor": "white",
            "gridwidth": 2,
            "linecolor": "white",
            "showbackground": true,
            "ticks": "",
            "zerolinecolor": "white"
           },
           "yaxis": {
            "backgroundcolor": "#E5ECF6",
            "gridcolor": "white",
            "gridwidth": 2,
            "linecolor": "white",
            "showbackground": true,
            "ticks": "",
            "zerolinecolor": "white"
           },
           "zaxis": {
            "backgroundcolor": "#E5ECF6",
            "gridcolor": "white",
            "gridwidth": 2,
            "linecolor": "white",
            "showbackground": true,
            "ticks": "",
            "zerolinecolor": "white"
           }
          },
          "shapedefaults": {
           "line": {
            "color": "#2a3f5f"
           }
          },
          "ternary": {
           "aaxis": {
            "gridcolor": "white",
            "linecolor": "white",
            "ticks": ""
           },
           "baxis": {
            "gridcolor": "white",
            "linecolor": "white",
            "ticks": ""
           },
           "bgcolor": "#E5ECF6",
           "caxis": {
            "gridcolor": "white",
            "linecolor": "white",
            "ticks": ""
           }
          },
          "title": {
           "x": 0.05
          },
          "xaxis": {
           "automargin": true,
           "gridcolor": "white",
           "linecolor": "white",
           "ticks": "",
           "title": {
            "standoff": 15
           },
           "zerolinecolor": "white",
           "zerolinewidth": 2
          },
          "yaxis": {
           "automargin": true,
           "gridcolor": "white",
           "linecolor": "white",
           "ticks": "",
           "title": {
            "standoff": 15
           },
           "zerolinecolor": "white",
           "zerolinewidth": 2
          }
         }
        },
        "title": {
         "text": "Tempo histogram of saved tracks and most recent 50 tracks"
        },
        "width": 800,
        "xaxis": {
         "anchor": "y",
         "domain": [
          0,
          1
         ],
         "title": {
          "text": "tempo"
         }
        },
        "yaxis": {
         "anchor": "x",
         "domain": [
          0,
          1
         ],
         "title": {
          "text": "count"
         }
        }
       }
      }
     },
     "metadata": {},
     "output_type": "display_data"
    }
   ],
   "source": [
    "fig = px.histogram(master_df, x='tempo', width=800, height=800)\n",
    "fig.update_layout(title='Tempo histogram of saved tracks and most recent 50 tracks')\n",
    "fig.show()"
   ]
  },
  {
   "cell_type": "markdown",
   "metadata": {},
   "source": [
    "## Playlists\n",
    "\n",
    "Let's generate the same plots, but this time for a specific playlist, and see how it compares."
   ]
  },
  {
   "cell_type": "code",
   "execution_count": 143,
   "metadata": {},
   "outputs": [],
   "source": [
    "playlist_id = '2fYyFd58VaANjZ1uDAOsfZ'"
   ]
  },
  {
   "cell_type": "code",
   "execution_count": 144,
   "metadata": {},
   "outputs": [
    {
     "data": {
      "text/html": [
       "<div>\n",
       "<style scoped>\n",
       "    .dataframe tbody tr th:only-of-type {\n",
       "        vertical-align: middle;\n",
       "    }\n",
       "\n",
       "    .dataframe tbody tr th {\n",
       "        vertical-align: top;\n",
       "    }\n",
       "\n",
       "    .dataframe thead th {\n",
       "        text-align: right;\n",
       "    }\n",
       "</style>\n",
       "<table border=\"1\" class=\"dataframe\">\n",
       "  <thead>\n",
       "    <tr style=\"text-align: right;\">\n",
       "      <th></th>\n",
       "      <th>Artists</th>\n",
       "      <th>Artist IDs</th>\n",
       "      <th>Name</th>\n",
       "      <th>Track ID</th>\n",
       "      <th>Popularity</th>\n",
       "      <th>Album ID</th>\n",
       "    </tr>\n",
       "  </thead>\n",
       "  <tbody>\n",
       "    <tr>\n",
       "      <th>0</th>\n",
       "      <td>Matt Fax, Jack Dawson</td>\n",
       "      <td>1XgI1X3xjXCKRP1ZjhqgkV,2UrCf8LmvXFfXAR0HtGkSx</td>\n",
       "      <td>Close My Eyes</td>\n",
       "      <td>2eQfD774357Ymh9NzCl5T2</td>\n",
       "      <td>44</td>\n",
       "      <td>3NPt95B03k5zZptWmquiJu</td>\n",
       "    </tr>\n",
       "    <tr>\n",
       "      <th>1</th>\n",
       "      <td>Anyma, Meg Myers</td>\n",
       "      <td>4iBwchw0U0GZv5RfVYSMxN,0W8xe7IqAPlnBRMUpWOUuJ</td>\n",
       "      <td>Running (feat. Meg Myers) - Extended Mix</td>\n",
       "      <td>2T5lAs95i1Gx6FjYYJZ1zr</td>\n",
       "      <td>31</td>\n",
       "      <td>16Kon7rTm0D4jOwEu2me2c</td>\n",
       "    </tr>\n",
       "    <tr>\n",
       "      <th>2</th>\n",
       "      <td>Lipless, Blue Noir</td>\n",
       "      <td>0XmmX4fE4SiRMu3ICsP5sA,5N4aUAJA011nkAumBGSeAN</td>\n",
       "      <td>Cimmerian</td>\n",
       "      <td>0dmXGQ2zRVOm6N60S0UdHK</td>\n",
       "      <td>47</td>\n",
       "      <td>1a0g4P7lv4e9Mw9IjNxNLf</td>\n",
       "    </tr>\n",
       "    <tr>\n",
       "      <th>3</th>\n",
       "      <td>Nora En Pure</td>\n",
       "      <td>24DO0PijjITGIEWsO8XaPs</td>\n",
       "      <td>Reminiscing</td>\n",
       "      <td>1jCfoQwzEeIuawlCbhM1Kp</td>\n",
       "      <td>55</td>\n",
       "      <td>1qBiRuMAIssv7uT0xGksv3</td>\n",
       "    </tr>\n",
       "    <tr>\n",
       "      <th>4</th>\n",
       "      <td>Klur</td>\n",
       "      <td>5Y1YwWzFX7BIxBbdAOXOEJ</td>\n",
       "      <td>Between</td>\n",
       "      <td>4ZJXmXQeC0qL1nPVAWNRGd</td>\n",
       "      <td>39</td>\n",
       "      <td>6yMAZmRCZjavW98B0aF9Of</td>\n",
       "    </tr>\n",
       "  </tbody>\n",
       "</table>\n",
       "</div>"
      ],
      "text/plain": [
       "                 Artists                                     Artist IDs  \\\n",
       "0  Matt Fax, Jack Dawson  1XgI1X3xjXCKRP1ZjhqgkV,2UrCf8LmvXFfXAR0HtGkSx   \n",
       "1       Anyma, Meg Myers  4iBwchw0U0GZv5RfVYSMxN,0W8xe7IqAPlnBRMUpWOUuJ   \n",
       "2     Lipless, Blue Noir  0XmmX4fE4SiRMu3ICsP5sA,5N4aUAJA011nkAumBGSeAN   \n",
       "3           Nora En Pure                         24DO0PijjITGIEWsO8XaPs   \n",
       "4                   Klur                         5Y1YwWzFX7BIxBbdAOXOEJ   \n",
       "\n",
       "                                       Name                Track ID  \\\n",
       "0                             Close My Eyes  2eQfD774357Ymh9NzCl5T2   \n",
       "1  Running (feat. Meg Myers) - Extended Mix  2T5lAs95i1Gx6FjYYJZ1zr   \n",
       "2                                 Cimmerian  0dmXGQ2zRVOm6N60S0UdHK   \n",
       "3                               Reminiscing  1jCfoQwzEeIuawlCbhM1Kp   \n",
       "4                                   Between  4ZJXmXQeC0qL1nPVAWNRGd   \n",
       "\n",
       "   Popularity                Album ID  \n",
       "0          44  3NPt95B03k5zZptWmquiJu  \n",
       "1          31  16Kon7rTm0D4jOwEu2me2c  \n",
       "2          47  1a0g4P7lv4e9Mw9IjNxNLf  \n",
       "3          55  1qBiRuMAIssv7uT0xGksv3  \n",
       "4          39  6yMAZmRCZjavW98B0aF9Of  "
      ]
     },
     "execution_count": 144,
     "metadata": {},
     "output_type": "execute_result"
    }
   ],
   "source": [
    "pl = sp.playlist(playlist_id)\n",
    "_playlist_tracks = list()\n",
    "for i in pl['tracks']['items']:\n",
    "    t = i['track']\n",
    "    artists = \", \".join(x['name'] for x in t['artists'])\n",
    "    artist_ids = \",\".join(x['id'] for x in t['artists'])\n",
    "    name = t['name']\n",
    "    track_id = t['id']\n",
    "    popularity = t['popularity']\n",
    "    album_id = t['album']['id']\n",
    "    _playlist_tracks.append({\n",
    "        \"Artists\": artists,\n",
    "        \"Artist IDs\": artist_ids,\n",
    "        \"Name\": name,\n",
    "        \"Track ID\": track_id,\n",
    "        \"Popularity\": popularity,\n",
    "        \"Album ID\": album_id\n",
    "    })\n",
    "\n",
    "pl_df = pd.DataFrame(_playlist_tracks)\n",
    "pl_df.head()"
   ]
  },
  {
   "cell_type": "code",
   "execution_count": 145,
   "metadata": {},
   "outputs": [
    {
     "data": {
      "text/plain": [
       "(80, 6)"
      ]
     },
     "execution_count": 145,
     "metadata": {},
     "output_type": "execute_result"
    }
   ],
   "source": [
    "pl_df.shape"
   ]
  },
  {
   "cell_type": "code",
   "execution_count": 146,
   "metadata": {},
   "outputs": [
    {
     "data": {
      "text/html": [
       "<div>\n",
       "<style scoped>\n",
       "    .dataframe tbody tr th:only-of-type {\n",
       "        vertical-align: middle;\n",
       "    }\n",
       "\n",
       "    .dataframe tbody tr th {\n",
       "        vertical-align: top;\n",
       "    }\n",
       "\n",
       "    .dataframe thead th {\n",
       "        text-align: right;\n",
       "    }\n",
       "</style>\n",
       "<table border=\"1\" class=\"dataframe\">\n",
       "  <thead>\n",
       "    <tr style=\"text-align: right;\">\n",
       "      <th></th>\n",
       "      <th>id</th>\n",
       "      <th>danceability</th>\n",
       "      <th>energy</th>\n",
       "      <th>key</th>\n",
       "      <th>loudness</th>\n",
       "      <th>mode</th>\n",
       "      <th>speechiness</th>\n",
       "      <th>acousticness</th>\n",
       "      <th>instrumentalness</th>\n",
       "      <th>liveness</th>\n",
       "      <th>valence</th>\n",
       "      <th>tempo</th>\n",
       "      <th>duration_ms</th>\n",
       "      <th>time_signature</th>\n",
       "    </tr>\n",
       "  </thead>\n",
       "  <tbody>\n",
       "    <tr>\n",
       "      <th>0</th>\n",
       "      <td>2eQfD774357Ymh9NzCl5T2</td>\n",
       "      <td>0.434</td>\n",
       "      <td>0.841</td>\n",
       "      <td>10</td>\n",
       "      <td>-6.182</td>\n",
       "      <td>0</td>\n",
       "      <td>0.0382</td>\n",
       "      <td>0.000664</td>\n",
       "      <td>0.000006</td>\n",
       "      <td>0.115</td>\n",
       "      <td>0.2330</td>\n",
       "      <td>123.899</td>\n",
       "      <td>222581</td>\n",
       "      <td>4</td>\n",
       "    </tr>\n",
       "    <tr>\n",
       "      <th>1</th>\n",
       "      <td>2T5lAs95i1Gx6FjYYJZ1zr</td>\n",
       "      <td>0.699</td>\n",
       "      <td>0.803</td>\n",
       "      <td>9</td>\n",
       "      <td>-7.437</td>\n",
       "      <td>0</td>\n",
       "      <td>0.0435</td>\n",
       "      <td>0.034700</td>\n",
       "      <td>0.693000</td>\n",
       "      <td>0.115</td>\n",
       "      <td>0.0289</td>\n",
       "      <td>124.979</td>\n",
       "      <td>385437</td>\n",
       "      <td>4</td>\n",
       "    </tr>\n",
       "    <tr>\n",
       "      <th>2</th>\n",
       "      <td>0dmXGQ2zRVOm6N60S0UdHK</td>\n",
       "      <td>0.702</td>\n",
       "      <td>0.875</td>\n",
       "      <td>4</td>\n",
       "      <td>-6.652</td>\n",
       "      <td>1</td>\n",
       "      <td>0.0435</td>\n",
       "      <td>0.215000</td>\n",
       "      <td>0.922000</td>\n",
       "      <td>0.102</td>\n",
       "      <td>0.0509</td>\n",
       "      <td>120.998</td>\n",
       "      <td>216198</td>\n",
       "      <td>4</td>\n",
       "    </tr>\n",
       "    <tr>\n",
       "      <th>3</th>\n",
       "      <td>1jCfoQwzEeIuawlCbhM1Kp</td>\n",
       "      <td>0.612</td>\n",
       "      <td>0.848</td>\n",
       "      <td>0</td>\n",
       "      <td>-7.733</td>\n",
       "      <td>0</td>\n",
       "      <td>0.0587</td>\n",
       "      <td>0.129000</td>\n",
       "      <td>0.917000</td>\n",
       "      <td>0.275</td>\n",
       "      <td>0.0383</td>\n",
       "      <td>123.063</td>\n",
       "      <td>258537</td>\n",
       "      <td>4</td>\n",
       "    </tr>\n",
       "    <tr>\n",
       "      <th>4</th>\n",
       "      <td>4ZJXmXQeC0qL1nPVAWNRGd</td>\n",
       "      <td>0.674</td>\n",
       "      <td>0.606</td>\n",
       "      <td>10</td>\n",
       "      <td>-10.777</td>\n",
       "      <td>1</td>\n",
       "      <td>0.0354</td>\n",
       "      <td>0.359000</td>\n",
       "      <td>0.802000</td>\n",
       "      <td>0.108</td>\n",
       "      <td>0.2380</td>\n",
       "      <td>122.011</td>\n",
       "      <td>302184</td>\n",
       "      <td>4</td>\n",
       "    </tr>\n",
       "  </tbody>\n",
       "</table>\n",
       "</div>"
      ],
      "text/plain": [
       "                       id  danceability  energy  key  loudness  mode  \\\n",
       "0  2eQfD774357Ymh9NzCl5T2         0.434   0.841   10    -6.182     0   \n",
       "1  2T5lAs95i1Gx6FjYYJZ1zr         0.699   0.803    9    -7.437     0   \n",
       "2  0dmXGQ2zRVOm6N60S0UdHK         0.702   0.875    4    -6.652     1   \n",
       "3  1jCfoQwzEeIuawlCbhM1Kp         0.612   0.848    0    -7.733     0   \n",
       "4  4ZJXmXQeC0qL1nPVAWNRGd         0.674   0.606   10   -10.777     1   \n",
       "\n",
       "   speechiness  acousticness  instrumentalness  liveness  valence    tempo  \\\n",
       "0       0.0382      0.000664          0.000006     0.115   0.2330  123.899   \n",
       "1       0.0435      0.034700          0.693000     0.115   0.0289  124.979   \n",
       "2       0.0435      0.215000          0.922000     0.102   0.0509  120.998   \n",
       "3       0.0587      0.129000          0.917000     0.275   0.0383  123.063   \n",
       "4       0.0354      0.359000          0.802000     0.108   0.2380  122.011   \n",
       "\n",
       "   duration_ms  time_signature  \n",
       "0       222581               4  \n",
       "1       385437               4  \n",
       "2       216198               4  \n",
       "3       258537               4  \n",
       "4       302184               4  "
      ]
     },
     "execution_count": 146,
     "metadata": {},
     "output_type": "execute_result"
    }
   ],
   "source": [
    "pl_track_ids = pl_df['Track ID'].tolist()\n",
    "pl_track_features = sp.audio_features(pl_track_ids)[:-1]\n",
    "pl_features_df = pd.DataFrame(pl_track_features)[['id', 'danceability', 'energy', 'key', 'loudness', 'mode', 'speechiness', 'acousticness', 'instrumentalness', 'liveness', 'valence', 'tempo', 'duration_ms', 'time_signature']]\n",
    "pl_features_df.head()"
   ]
  },
  {
   "cell_type": "code",
   "execution_count": 147,
   "metadata": {},
   "outputs": [
    {
     "data": {
      "text/html": [
       "<div>\n",
       "<style scoped>\n",
       "    .dataframe tbody tr th:only-of-type {\n",
       "        vertical-align: middle;\n",
       "    }\n",
       "\n",
       "    .dataframe tbody tr th {\n",
       "        vertical-align: top;\n",
       "    }\n",
       "\n",
       "    .dataframe thead th {\n",
       "        text-align: right;\n",
       "    }\n",
       "</style>\n",
       "<table border=\"1\" class=\"dataframe\">\n",
       "  <thead>\n",
       "    <tr style=\"text-align: right;\">\n",
       "      <th></th>\n",
       "      <th>id</th>\n",
       "      <th>danceability</th>\n",
       "      <th>energy</th>\n",
       "      <th>key</th>\n",
       "      <th>loudness</th>\n",
       "      <th>mode</th>\n",
       "      <th>speechiness</th>\n",
       "      <th>acousticness</th>\n",
       "      <th>instrumentalness</th>\n",
       "      <th>liveness</th>\n",
       "      <th>...</th>\n",
       "      <th>tempo</th>\n",
       "      <th>duration_ms</th>\n",
       "      <th>time_signature</th>\n",
       "      <th>Artists</th>\n",
       "      <th>Artist IDs</th>\n",
       "      <th>Name</th>\n",
       "      <th>Track ID</th>\n",
       "      <th>Popularity</th>\n",
       "      <th>Album ID</th>\n",
       "      <th>hoverdata</th>\n",
       "    </tr>\n",
       "  </thead>\n",
       "  <tbody>\n",
       "    <tr>\n",
       "      <th>0</th>\n",
       "      <td>2eQfD774357Ymh9NzCl5T2</td>\n",
       "      <td>0.434</td>\n",
       "      <td>0.841</td>\n",
       "      <td>10</td>\n",
       "      <td>-6.182</td>\n",
       "      <td>0</td>\n",
       "      <td>0.0382</td>\n",
       "      <td>0.000664</td>\n",
       "      <td>0.000006</td>\n",
       "      <td>0.115</td>\n",
       "      <td>...</td>\n",
       "      <td>123.899</td>\n",
       "      <td>222581</td>\n",
       "      <td>4</td>\n",
       "      <td>Matt Fax, Jack Dawson</td>\n",
       "      <td>1XgI1X3xjXCKRP1ZjhqgkV,2UrCf8LmvXFfXAR0HtGkSx</td>\n",
       "      <td>Close My Eyes</td>\n",
       "      <td>2eQfD774357Ymh9NzCl5T2</td>\n",
       "      <td>44</td>\n",
       "      <td>3NPt95B03k5zZptWmquiJu</td>\n",
       "      <td>Matt Fax, Jack Dawson - Close My Eyes</td>\n",
       "    </tr>\n",
       "    <tr>\n",
       "      <th>1</th>\n",
       "      <td>2T5lAs95i1Gx6FjYYJZ1zr</td>\n",
       "      <td>0.699</td>\n",
       "      <td>0.803</td>\n",
       "      <td>9</td>\n",
       "      <td>-7.437</td>\n",
       "      <td>0</td>\n",
       "      <td>0.0435</td>\n",
       "      <td>0.034700</td>\n",
       "      <td>0.693000</td>\n",
       "      <td>0.115</td>\n",
       "      <td>...</td>\n",
       "      <td>124.979</td>\n",
       "      <td>385437</td>\n",
       "      <td>4</td>\n",
       "      <td>Anyma, Meg Myers</td>\n",
       "      <td>4iBwchw0U0GZv5RfVYSMxN,0W8xe7IqAPlnBRMUpWOUuJ</td>\n",
       "      <td>Running (feat. Meg Myers) - Extended Mix</td>\n",
       "      <td>2T5lAs95i1Gx6FjYYJZ1zr</td>\n",
       "      <td>31</td>\n",
       "      <td>16Kon7rTm0D4jOwEu2me2c</td>\n",
       "      <td>Anyma, Meg Myers - Running (feat. Meg Myers) -...</td>\n",
       "    </tr>\n",
       "    <tr>\n",
       "      <th>2</th>\n",
       "      <td>0dmXGQ2zRVOm6N60S0UdHK</td>\n",
       "      <td>0.702</td>\n",
       "      <td>0.875</td>\n",
       "      <td>4</td>\n",
       "      <td>-6.652</td>\n",
       "      <td>1</td>\n",
       "      <td>0.0435</td>\n",
       "      <td>0.215000</td>\n",
       "      <td>0.922000</td>\n",
       "      <td>0.102</td>\n",
       "      <td>...</td>\n",
       "      <td>120.998</td>\n",
       "      <td>216198</td>\n",
       "      <td>4</td>\n",
       "      <td>Lipless, Blue Noir</td>\n",
       "      <td>0XmmX4fE4SiRMu3ICsP5sA,5N4aUAJA011nkAumBGSeAN</td>\n",
       "      <td>Cimmerian</td>\n",
       "      <td>0dmXGQ2zRVOm6N60S0UdHK</td>\n",
       "      <td>47</td>\n",
       "      <td>1a0g4P7lv4e9Mw9IjNxNLf</td>\n",
       "      <td>Lipless, Blue Noir - Cimmerian</td>\n",
       "    </tr>\n",
       "    <tr>\n",
       "      <th>3</th>\n",
       "      <td>1jCfoQwzEeIuawlCbhM1Kp</td>\n",
       "      <td>0.612</td>\n",
       "      <td>0.848</td>\n",
       "      <td>0</td>\n",
       "      <td>-7.733</td>\n",
       "      <td>0</td>\n",
       "      <td>0.0587</td>\n",
       "      <td>0.129000</td>\n",
       "      <td>0.917000</td>\n",
       "      <td>0.275</td>\n",
       "      <td>...</td>\n",
       "      <td>123.063</td>\n",
       "      <td>258537</td>\n",
       "      <td>4</td>\n",
       "      <td>Nora En Pure</td>\n",
       "      <td>24DO0PijjITGIEWsO8XaPs</td>\n",
       "      <td>Reminiscing</td>\n",
       "      <td>1jCfoQwzEeIuawlCbhM1Kp</td>\n",
       "      <td>55</td>\n",
       "      <td>1qBiRuMAIssv7uT0xGksv3</td>\n",
       "      <td>Nora En Pure - Reminiscing</td>\n",
       "    </tr>\n",
       "    <tr>\n",
       "      <th>4</th>\n",
       "      <td>4ZJXmXQeC0qL1nPVAWNRGd</td>\n",
       "      <td>0.674</td>\n",
       "      <td>0.606</td>\n",
       "      <td>10</td>\n",
       "      <td>-10.777</td>\n",
       "      <td>1</td>\n",
       "      <td>0.0354</td>\n",
       "      <td>0.359000</td>\n",
       "      <td>0.802000</td>\n",
       "      <td>0.108</td>\n",
       "      <td>...</td>\n",
       "      <td>122.011</td>\n",
       "      <td>302184</td>\n",
       "      <td>4</td>\n",
       "      <td>Klur</td>\n",
       "      <td>5Y1YwWzFX7BIxBbdAOXOEJ</td>\n",
       "      <td>Between</td>\n",
       "      <td>4ZJXmXQeC0qL1nPVAWNRGd</td>\n",
       "      <td>39</td>\n",
       "      <td>6yMAZmRCZjavW98B0aF9Of</td>\n",
       "      <td>Klur - Between</td>\n",
       "    </tr>\n",
       "  </tbody>\n",
       "</table>\n",
       "<p>5 rows × 21 columns</p>\n",
       "</div>"
      ],
      "text/plain": [
       "                       id  danceability  energy  key  loudness  mode  \\\n",
       "0  2eQfD774357Ymh9NzCl5T2         0.434   0.841   10    -6.182     0   \n",
       "1  2T5lAs95i1Gx6FjYYJZ1zr         0.699   0.803    9    -7.437     0   \n",
       "2  0dmXGQ2zRVOm6N60S0UdHK         0.702   0.875    4    -6.652     1   \n",
       "3  1jCfoQwzEeIuawlCbhM1Kp         0.612   0.848    0    -7.733     0   \n",
       "4  4ZJXmXQeC0qL1nPVAWNRGd         0.674   0.606   10   -10.777     1   \n",
       "\n",
       "   speechiness  acousticness  instrumentalness  liveness  ...    tempo  \\\n",
       "0       0.0382      0.000664          0.000006     0.115  ...  123.899   \n",
       "1       0.0435      0.034700          0.693000     0.115  ...  124.979   \n",
       "2       0.0435      0.215000          0.922000     0.102  ...  120.998   \n",
       "3       0.0587      0.129000          0.917000     0.275  ...  123.063   \n",
       "4       0.0354      0.359000          0.802000     0.108  ...  122.011   \n",
       "\n",
       "   duration_ms  time_signature                Artists  \\\n",
       "0       222581               4  Matt Fax, Jack Dawson   \n",
       "1       385437               4       Anyma, Meg Myers   \n",
       "2       216198               4     Lipless, Blue Noir   \n",
       "3       258537               4           Nora En Pure   \n",
       "4       302184               4                   Klur   \n",
       "\n",
       "                                      Artist IDs  \\\n",
       "0  1XgI1X3xjXCKRP1ZjhqgkV,2UrCf8LmvXFfXAR0HtGkSx   \n",
       "1  4iBwchw0U0GZv5RfVYSMxN,0W8xe7IqAPlnBRMUpWOUuJ   \n",
       "2  0XmmX4fE4SiRMu3ICsP5sA,5N4aUAJA011nkAumBGSeAN   \n",
       "3                         24DO0PijjITGIEWsO8XaPs   \n",
       "4                         5Y1YwWzFX7BIxBbdAOXOEJ   \n",
       "\n",
       "                                       Name                Track ID  \\\n",
       "0                             Close My Eyes  2eQfD774357Ymh9NzCl5T2   \n",
       "1  Running (feat. Meg Myers) - Extended Mix  2T5lAs95i1Gx6FjYYJZ1zr   \n",
       "2                                 Cimmerian  0dmXGQ2zRVOm6N60S0UdHK   \n",
       "3                               Reminiscing  1jCfoQwzEeIuawlCbhM1Kp   \n",
       "4                                   Between  4ZJXmXQeC0qL1nPVAWNRGd   \n",
       "\n",
       "  Popularity                Album ID  \\\n",
       "0         44  3NPt95B03k5zZptWmquiJu   \n",
       "1         31  16Kon7rTm0D4jOwEu2me2c   \n",
       "2         47  1a0g4P7lv4e9Mw9IjNxNLf   \n",
       "3         55  1qBiRuMAIssv7uT0xGksv3   \n",
       "4         39  6yMAZmRCZjavW98B0aF9Of   \n",
       "\n",
       "                                           hoverdata  \n",
       "0              Matt Fax, Jack Dawson - Close My Eyes  \n",
       "1  Anyma, Meg Myers - Running (feat. Meg Myers) -...  \n",
       "2                     Lipless, Blue Noir - Cimmerian  \n",
       "3                         Nora En Pure - Reminiscing  \n",
       "4                                     Klur - Between  \n",
       "\n",
       "[5 rows x 21 columns]"
      ]
     },
     "execution_count": 147,
     "metadata": {},
     "output_type": "execute_result"
    }
   ],
   "source": [
    "pl_master_df = pl_features_df.merge(right=pl_df, left_on='id', right_on='Track ID')\n",
    "pl_master_df['hoverdata'] = pl_master_df['Artists'] + \" - \" + pl_master_df[\"Name\"]\n",
    "pl_master_df.head()"
   ]
  },
  {
   "cell_type": "code",
   "execution_count": 148,
   "metadata": {},
   "outputs": [
    {
     "data": {
      "application/vnd.plotly.v1+json": {
       "config": {
        "plotlyServerURL": "https://plot.ly"
       },
       "data": [
        {
         "hovertemplate": "<b>%{hovertext}</b><br><br>danceability=%{x}<br>energy=%{y}<br>speechiness=%{z}<br>valence=%{marker.color}<extra></extra>",
         "hovertext": [
          "Matt Fax, Jack Dawson - Close My Eyes",
          "Anyma, Meg Myers - Running (feat. Meg Myers) - Extended Mix",
          "Lipless, Blue Noir - Cimmerian",
          "Nora En Pure - Reminiscing",
          "Klur - Between",
          "Reflekt, Cristoph, delline bass - Need To Feel Loved - Cristoph Remix",
          "Estiva, Diana Miro - The Tale",
          "Lane 8, Channy Leaneagh, Sultan + Shepard - Survive - Sultan + Shepard Remix",
          "Tritonal, HALIENE, djimboh - Losing My Mind - djimboh Remix",
          "Miss Monique - Land of Sunshine",
          "Klur - Entangled",
          "Bandēs - Time",
          "Motorcycle, Cristoph - As The Rush Comes - Cristoph Remix",
          "Matt Fax, Boxer - Higher",
          "Jordin Post - Jupiter",
          "Stephan Bodzin, Marc Romboy, Ben Böhmer - Callisto - Ben Böhmer Remix",
          "Alex Breitling - Heaven",
          "PRAANA, Liel Kolet - Waterfall",
          "Bandēs - Floating",
          "YATRA - Leaving Ghara",
          "Eugene Becker - Let's Forget",
          "Jake Kaiser - Green Spaces",
          "Rokazer - Menkent",
          "Kaiyan - Eau De Vie",
          "Paige, Nihil Young - Lonely Night",
          "Into The Ether, Lewyn - Never A Sunday",
          "TOMB - Blue Sky",
          "Klur - Chronology",
          "Modera - Valhalla",
          "Eugene Becker - Nihilism",
          "Bound to Divide, Lewyn - The Night Before",
          "Rokazer - Subra",
          "Shahin Shantiaei, Lauren L'aimant - Close To Me",
          "Tritonal, Codeko, OCULA - Superhuman - OCULA Remix",
          "djimboh, Lumynesynth - Up Here",
          "Passenger 10 - Microban",
          "Estiva - Tempus Delirium",
          "Tinlicker, Hero Baldwin - Rebirth",
          "Braxton - Spaces",
          "Nora En Pure - Sign of the Times",
          "Lipless - Wishing Well",
          "Ben Böhmer, Nils Hoffmann, Malou - Breathing",
          "Fløa, Furcloud - The Illusion Of Impression",
          "Paige, Nihil Young - Peaceful Warrior",
          "ARTBAT, Dino Lenny - Keep Calm - Edit",
          "Zone+ - Hello",
          "Kasablanca - Immunity",
          "Siskin - Fly Away",
          "RIKO, GUGGA [BR] - Into The Light",
          "Che Jose, Jodie Knight - Freedom",
          "Heard Right, Jope - Runner",
          "Trilucid, Esque - To The End",
          "Ilan Bluestone, Giuseppe De Luca, OCULA - Hopeless Dreamer - OCULA Remix",
          "Kaiyan - Freedom Of Light",
          "Neon Cassettes - If Only for a Night",
          "Simon Doty - Solstice",
          "PRAANA - Becoming Earth",
          "Kozua - Desire",
          "York, Au/Ra, Archaellum - Golden Hour - Archaellum Remix",
          "Jackarta - Invincible",
          "Sultan + Shepard, Angela McCluskey - More Than You Ever Know",
          "Demmo - Paramount",
          "Fløa, Furcloud - Stellar",
          "UOAK, Ceci - Scent of Wood",
          "Dezza, Demmo - Coastline",
          "djimboh - Yours",
          "Matt Fax, Richard Walters - Here With Me",
          "ANUQRAM - Overseas",
          "Kozua - Sunshine",
          "Analog Sol - Medano",
          "Sons Of Maria - Close to Me",
          "Lane 8 - Reviver",
          "L.GU. - Afterlife",
          "The White Arrow, Deeparture - Cielo Medicina (Deeparture Remix)",
          "Tom Zeta, Kellerkind, Berenice Van Leer - Personal Space - Kellerkind Remix",
          "Morgin Madison, Motives - Reach",
          "Deeparture - Destination",
          "Bound to Divide, Lewyn - Coming Home",
          "Trilucid - One Day At A Time"
         ],
         "legendgroup": "",
         "marker": {
          "color": [
           0.233,
           0.0289,
           0.0509,
           0.0383,
           0.238,
           0.0648,
           0.151,
           0.384,
           0.0979,
           0.12,
           0.143,
           0.05,
           0.142,
           0.0344,
           0.078,
           0.0735,
           0.037,
           0.0622,
           0.17,
           0.226,
           0.0542,
           0.0892,
           0.0968,
           0.292,
           0.0826,
           0.218,
           0.0377,
           0.133,
           0.0865,
           0.165,
           0.0617,
           0.273,
           0.0713,
           0.174,
           0.0336,
           0.0396,
           0.198,
           0.026,
           0.117,
           0.057,
           0.275,
           0.0385,
           0.0391,
           0.282,
           0.198,
           0.413,
           0.0918,
           0.0393,
           0.0386,
           0.0851,
           0.208,
           0.123,
           0.0394,
           0.253,
           0.0471,
           0.721,
           0.0467,
           0.0397,
           0.198,
           0.0392,
           0.0674,
           0.0354,
           0.0495,
           0.117,
           0.0744,
           0.0351,
           0.0378,
           0.0327,
           0.0628,
           0.0773,
           0.0398,
           0.231,
           0.0692,
           0.462,
           0.115,
           0.197,
           0.0657,
           0.0765,
           0.314
          ],
          "coloraxis": "coloraxis",
          "symbol": "circle"
         },
         "mode": "markers",
         "name": "",
         "scene": "scene",
         "showlegend": false,
         "type": "scatter3d",
         "x": [
          0.434,
          0.699,
          0.702,
          0.612,
          0.674,
          0.716,
          0.666,
          0.651,
          0.583,
          0.606,
          0.576,
          0.641,
          0.575,
          0.55,
          0.654,
          0.672,
          0.585,
          0.582,
          0.642,
          0.609,
          0.726,
          0.621,
          0.608,
          0.601,
          0.599,
          0.71,
          0.585,
          0.653,
          0.571,
          0.657,
          0.448,
          0.53,
          0.641,
          0.651,
          0.678,
          0.62,
          0.581,
          0.541,
          0.599,
          0.537,
          0.658,
          0.598,
          0.522,
          0.656,
          0.668,
          0.81,
          0.419,
          0.593,
          0.211,
          0.604,
          0.583,
          0.713,
          0.568,
          0.559,
          0.574,
          0.656,
          0.556,
          0.55,
          0.583,
          0.519,
          0.629,
          0.593,
          0.571,
          0.581,
          0.743,
          0.645,
          0.557,
          0.66,
          0.391,
          0.639,
          0.676,
          0.286,
          0.521,
          0.682,
          0.801,
          0.606,
          0.647,
          0.586,
          0.684
         ],
         "y": [
          0.841,
          0.803,
          0.875,
          0.848,
          0.606,
          0.636,
          0.85,
          0.75,
          0.698,
          0.901,
          0.589,
          0.67,
          0.961,
          0.892,
          0.912,
          0.716,
          0.805,
          0.864,
          0.832,
          0.937,
          0.868,
          0.762,
          0.937,
          0.88,
          0.769,
          0.818,
          0.882,
          0.439,
          0.457,
          0.747,
          0.744,
          0.954,
          0.895,
          0.677,
          0.912,
          0.938,
          0.934,
          0.911,
          0.788,
          0.782,
          0.789,
          0.561,
          0.806,
          0.706,
          0.703,
          0.501,
          0.897,
          0.92,
          0.96,
          0.467,
          0.936,
          0.664,
          0.645,
          0.916,
          0.665,
          0.765,
          0.852,
          0.579,
          0.685,
          0.946,
          0.739,
          0.835,
          0.917,
          0.819,
          0.88,
          0.844,
          0.796,
          0.856,
          0.696,
          0.882,
          0.778,
          0.722,
          0.879,
          0.812,
          0.598,
          0.872,
          0.883,
          0.774,
          0.859
         ],
         "z": [
          0.0382,
          0.0435,
          0.0435,
          0.0587,
          0.0354,
          0.0507,
          0.0434,
          0.0308,
          0.0317,
          0.0315,
          0.0475,
          0.0294,
          0.0431,
          0.0354,
          0.0409,
          0.0419,
          0.0318,
          0.0448,
          0.0342,
          0.0411,
          0.0363,
          0.0327,
          0.0363,
          0.0381,
          0.0406,
          0.115,
          0.036,
          0.0396,
          0.0378,
          0.0361,
          0.0414,
          0.0393,
          0.0377,
          0.0307,
          0.0459,
          0.0372,
          0.0329,
          0.0556,
          0.0296,
          0.0801,
          0.0332,
          0.0511,
          0.0334,
          0.0377,
          0.0422,
          0.104,
          0.0396,
          0.0368,
          0.0506,
          0.0354,
          0.0339,
          0.0339,
          0.0263,
          0.041,
          0.0293,
          0.0377,
          0.0381,
          0.0359,
          0.0381,
          0.0416,
          0.0357,
          0.0395,
          0.0363,
          0.0557,
          0.0396,
          0.0346,
          0.04,
          0.0405,
          0.0479,
          0.0376,
          0.0388,
          0.0592,
          0.0304,
          0.0349,
          0.0487,
          0.0447,
          0.0396,
          0.0325,
          0.0346
         ]
        }
       ],
       "layout": {
        "coloraxis": {
         "colorbar": {
          "title": {
           "text": "valence"
          }
         },
         "colorscale": [
          [
           0,
           "#ff0000"
          ],
          [
           1,
           "#0000ff"
          ]
         ]
        },
        "height": 600,
        "legend": {
         "tracegroupgap": 0
        },
        "margin": {
         "b": 0,
         "l": 0,
         "r": 0,
         "t": 50
        },
        "scene": {
         "camera": {
          "center": {
           "z": -0.25
          },
          "eye": {
           "x": 1.3,
           "y": 1.3,
           "z": 1.3
          }
         },
         "domain": {
          "x": [
           0,
           1
          ],
          "y": [
           0,
           1
          ]
         },
         "xaxis": {
          "title": {
           "text": "danceability"
          }
         },
         "yaxis": {
          "title": {
           "text": "energy"
          }
         },
         "zaxis": {
          "title": {
           "text": "speechiness"
          }
         }
        },
        "template": {
         "data": {
          "bar": [
           {
            "error_x": {
             "color": "#2a3f5f"
            },
            "error_y": {
             "color": "#2a3f5f"
            },
            "marker": {
             "line": {
              "color": "#E5ECF6",
              "width": 0.5
             },
             "pattern": {
              "fillmode": "overlay",
              "size": 10,
              "solidity": 0.2
             }
            },
            "type": "bar"
           }
          ],
          "barpolar": [
           {
            "marker": {
             "line": {
              "color": "#E5ECF6",
              "width": 0.5
             },
             "pattern": {
              "fillmode": "overlay",
              "size": 10,
              "solidity": 0.2
             }
            },
            "type": "barpolar"
           }
          ],
          "carpet": [
           {
            "aaxis": {
             "endlinecolor": "#2a3f5f",
             "gridcolor": "white",
             "linecolor": "white",
             "minorgridcolor": "white",
             "startlinecolor": "#2a3f5f"
            },
            "baxis": {
             "endlinecolor": "#2a3f5f",
             "gridcolor": "white",
             "linecolor": "white",
             "minorgridcolor": "white",
             "startlinecolor": "#2a3f5f"
            },
            "type": "carpet"
           }
          ],
          "choropleth": [
           {
            "colorbar": {
             "outlinewidth": 0,
             "ticks": ""
            },
            "type": "choropleth"
           }
          ],
          "contour": [
           {
            "colorbar": {
             "outlinewidth": 0,
             "ticks": ""
            },
            "colorscale": [
             [
              0,
              "#0d0887"
             ],
             [
              0.1111111111111111,
              "#46039f"
             ],
             [
              0.2222222222222222,
              "#7201a8"
             ],
             [
              0.3333333333333333,
              "#9c179e"
             ],
             [
              0.4444444444444444,
              "#bd3786"
             ],
             [
              0.5555555555555556,
              "#d8576b"
             ],
             [
              0.6666666666666666,
              "#ed7953"
             ],
             [
              0.7777777777777778,
              "#fb9f3a"
             ],
             [
              0.8888888888888888,
              "#fdca26"
             ],
             [
              1,
              "#f0f921"
             ]
            ],
            "type": "contour"
           }
          ],
          "contourcarpet": [
           {
            "colorbar": {
             "outlinewidth": 0,
             "ticks": ""
            },
            "type": "contourcarpet"
           }
          ],
          "heatmap": [
           {
            "colorbar": {
             "outlinewidth": 0,
             "ticks": ""
            },
            "colorscale": [
             [
              0,
              "#0d0887"
             ],
             [
              0.1111111111111111,
              "#46039f"
             ],
             [
              0.2222222222222222,
              "#7201a8"
             ],
             [
              0.3333333333333333,
              "#9c179e"
             ],
             [
              0.4444444444444444,
              "#bd3786"
             ],
             [
              0.5555555555555556,
              "#d8576b"
             ],
             [
              0.6666666666666666,
              "#ed7953"
             ],
             [
              0.7777777777777778,
              "#fb9f3a"
             ],
             [
              0.8888888888888888,
              "#fdca26"
             ],
             [
              1,
              "#f0f921"
             ]
            ],
            "type": "heatmap"
           }
          ],
          "heatmapgl": [
           {
            "colorbar": {
             "outlinewidth": 0,
             "ticks": ""
            },
            "colorscale": [
             [
              0,
              "#0d0887"
             ],
             [
              0.1111111111111111,
              "#46039f"
             ],
             [
              0.2222222222222222,
              "#7201a8"
             ],
             [
              0.3333333333333333,
              "#9c179e"
             ],
             [
              0.4444444444444444,
              "#bd3786"
             ],
             [
              0.5555555555555556,
              "#d8576b"
             ],
             [
              0.6666666666666666,
              "#ed7953"
             ],
             [
              0.7777777777777778,
              "#fb9f3a"
             ],
             [
              0.8888888888888888,
              "#fdca26"
             ],
             [
              1,
              "#f0f921"
             ]
            ],
            "type": "heatmapgl"
           }
          ],
          "histogram": [
           {
            "marker": {
             "pattern": {
              "fillmode": "overlay",
              "size": 10,
              "solidity": 0.2
             }
            },
            "type": "histogram"
           }
          ],
          "histogram2d": [
           {
            "colorbar": {
             "outlinewidth": 0,
             "ticks": ""
            },
            "colorscale": [
             [
              0,
              "#0d0887"
             ],
             [
              0.1111111111111111,
              "#46039f"
             ],
             [
              0.2222222222222222,
              "#7201a8"
             ],
             [
              0.3333333333333333,
              "#9c179e"
             ],
             [
              0.4444444444444444,
              "#bd3786"
             ],
             [
              0.5555555555555556,
              "#d8576b"
             ],
             [
              0.6666666666666666,
              "#ed7953"
             ],
             [
              0.7777777777777778,
              "#fb9f3a"
             ],
             [
              0.8888888888888888,
              "#fdca26"
             ],
             [
              1,
              "#f0f921"
             ]
            ],
            "type": "histogram2d"
           }
          ],
          "histogram2dcontour": [
           {
            "colorbar": {
             "outlinewidth": 0,
             "ticks": ""
            },
            "colorscale": [
             [
              0,
              "#0d0887"
             ],
             [
              0.1111111111111111,
              "#46039f"
             ],
             [
              0.2222222222222222,
              "#7201a8"
             ],
             [
              0.3333333333333333,
              "#9c179e"
             ],
             [
              0.4444444444444444,
              "#bd3786"
             ],
             [
              0.5555555555555556,
              "#d8576b"
             ],
             [
              0.6666666666666666,
              "#ed7953"
             ],
             [
              0.7777777777777778,
              "#fb9f3a"
             ],
             [
              0.8888888888888888,
              "#fdca26"
             ],
             [
              1,
              "#f0f921"
             ]
            ],
            "type": "histogram2dcontour"
           }
          ],
          "mesh3d": [
           {
            "colorbar": {
             "outlinewidth": 0,
             "ticks": ""
            },
            "type": "mesh3d"
           }
          ],
          "parcoords": [
           {
            "line": {
             "colorbar": {
              "outlinewidth": 0,
              "ticks": ""
             }
            },
            "type": "parcoords"
           }
          ],
          "pie": [
           {
            "automargin": true,
            "type": "pie"
           }
          ],
          "scatter": [
           {
            "marker": {
             "colorbar": {
              "outlinewidth": 0,
              "ticks": ""
             }
            },
            "type": "scatter"
           }
          ],
          "scatter3d": [
           {
            "line": {
             "colorbar": {
              "outlinewidth": 0,
              "ticks": ""
             }
            },
            "marker": {
             "colorbar": {
              "outlinewidth": 0,
              "ticks": ""
             }
            },
            "type": "scatter3d"
           }
          ],
          "scattercarpet": [
           {
            "marker": {
             "colorbar": {
              "outlinewidth": 0,
              "ticks": ""
             }
            },
            "type": "scattercarpet"
           }
          ],
          "scattergeo": [
           {
            "marker": {
             "colorbar": {
              "outlinewidth": 0,
              "ticks": ""
             }
            },
            "type": "scattergeo"
           }
          ],
          "scattergl": [
           {
            "marker": {
             "colorbar": {
              "outlinewidth": 0,
              "ticks": ""
             }
            },
            "type": "scattergl"
           }
          ],
          "scattermapbox": [
           {
            "marker": {
             "colorbar": {
              "outlinewidth": 0,
              "ticks": ""
             }
            },
            "type": "scattermapbox"
           }
          ],
          "scatterpolar": [
           {
            "marker": {
             "colorbar": {
              "outlinewidth": 0,
              "ticks": ""
             }
            },
            "type": "scatterpolar"
           }
          ],
          "scatterpolargl": [
           {
            "marker": {
             "colorbar": {
              "outlinewidth": 0,
              "ticks": ""
             }
            },
            "type": "scatterpolargl"
           }
          ],
          "scatterternary": [
           {
            "marker": {
             "colorbar": {
              "outlinewidth": 0,
              "ticks": ""
             }
            },
            "type": "scatterternary"
           }
          ],
          "surface": [
           {
            "colorbar": {
             "outlinewidth": 0,
             "ticks": ""
            },
            "colorscale": [
             [
              0,
              "#0d0887"
             ],
             [
              0.1111111111111111,
              "#46039f"
             ],
             [
              0.2222222222222222,
              "#7201a8"
             ],
             [
              0.3333333333333333,
              "#9c179e"
             ],
             [
              0.4444444444444444,
              "#bd3786"
             ],
             [
              0.5555555555555556,
              "#d8576b"
             ],
             [
              0.6666666666666666,
              "#ed7953"
             ],
             [
              0.7777777777777778,
              "#fb9f3a"
             ],
             [
              0.8888888888888888,
              "#fdca26"
             ],
             [
              1,
              "#f0f921"
             ]
            ],
            "type": "surface"
           }
          ],
          "table": [
           {
            "cells": {
             "fill": {
              "color": "#EBF0F8"
             },
             "line": {
              "color": "white"
             }
            },
            "header": {
             "fill": {
              "color": "#C8D4E3"
             },
             "line": {
              "color": "white"
             }
            },
            "type": "table"
           }
          ]
         },
         "layout": {
          "annotationdefaults": {
           "arrowcolor": "#2a3f5f",
           "arrowhead": 0,
           "arrowwidth": 1
          },
          "autotypenumbers": "strict",
          "coloraxis": {
           "colorbar": {
            "outlinewidth": 0,
            "ticks": ""
           }
          },
          "colorscale": {
           "diverging": [
            [
             0,
             "#8e0152"
            ],
            [
             0.1,
             "#c51b7d"
            ],
            [
             0.2,
             "#de77ae"
            ],
            [
             0.3,
             "#f1b6da"
            ],
            [
             0.4,
             "#fde0ef"
            ],
            [
             0.5,
             "#f7f7f7"
            ],
            [
             0.6,
             "#e6f5d0"
            ],
            [
             0.7,
             "#b8e186"
            ],
            [
             0.8,
             "#7fbc41"
            ],
            [
             0.9,
             "#4d9221"
            ],
            [
             1,
             "#276419"
            ]
           ],
           "sequential": [
            [
             0,
             "#0d0887"
            ],
            [
             0.1111111111111111,
             "#46039f"
            ],
            [
             0.2222222222222222,
             "#7201a8"
            ],
            [
             0.3333333333333333,
             "#9c179e"
            ],
            [
             0.4444444444444444,
             "#bd3786"
            ],
            [
             0.5555555555555556,
             "#d8576b"
            ],
            [
             0.6666666666666666,
             "#ed7953"
            ],
            [
             0.7777777777777778,
             "#fb9f3a"
            ],
            [
             0.8888888888888888,
             "#fdca26"
            ],
            [
             1,
             "#f0f921"
            ]
           ],
           "sequentialminus": [
            [
             0,
             "#0d0887"
            ],
            [
             0.1111111111111111,
             "#46039f"
            ],
            [
             0.2222222222222222,
             "#7201a8"
            ],
            [
             0.3333333333333333,
             "#9c179e"
            ],
            [
             0.4444444444444444,
             "#bd3786"
            ],
            [
             0.5555555555555556,
             "#d8576b"
            ],
            [
             0.6666666666666666,
             "#ed7953"
            ],
            [
             0.7777777777777778,
             "#fb9f3a"
            ],
            [
             0.8888888888888888,
             "#fdca26"
            ],
            [
             1,
             "#f0f921"
            ]
           ]
          },
          "colorway": [
           "#636efa",
           "#EF553B",
           "#00cc96",
           "#ab63fa",
           "#FFA15A",
           "#19d3f3",
           "#FF6692",
           "#B6E880",
           "#FF97FF",
           "#FECB52"
          ],
          "font": {
           "color": "#2a3f5f"
          },
          "geo": {
           "bgcolor": "white",
           "lakecolor": "white",
           "landcolor": "#E5ECF6",
           "showlakes": true,
           "showland": true,
           "subunitcolor": "white"
          },
          "hoverlabel": {
           "align": "left"
          },
          "hovermode": "closest",
          "mapbox": {
           "style": "light"
          },
          "paper_bgcolor": "white",
          "plot_bgcolor": "#E5ECF6",
          "polar": {
           "angularaxis": {
            "gridcolor": "white",
            "linecolor": "white",
            "ticks": ""
           },
           "bgcolor": "#E5ECF6",
           "radialaxis": {
            "gridcolor": "white",
            "linecolor": "white",
            "ticks": ""
           }
          },
          "scene": {
           "xaxis": {
            "backgroundcolor": "#E5ECF6",
            "gridcolor": "white",
            "gridwidth": 2,
            "linecolor": "white",
            "showbackground": true,
            "ticks": "",
            "zerolinecolor": "white"
           },
           "yaxis": {
            "backgroundcolor": "#E5ECF6",
            "gridcolor": "white",
            "gridwidth": 2,
            "linecolor": "white",
            "showbackground": true,
            "ticks": "",
            "zerolinecolor": "white"
           },
           "zaxis": {
            "backgroundcolor": "#E5ECF6",
            "gridcolor": "white",
            "gridwidth": 2,
            "linecolor": "white",
            "showbackground": true,
            "ticks": "",
            "zerolinecolor": "white"
           }
          },
          "shapedefaults": {
           "line": {
            "color": "#2a3f5f"
           }
          },
          "ternary": {
           "aaxis": {
            "gridcolor": "white",
            "linecolor": "white",
            "ticks": ""
           },
           "baxis": {
            "gridcolor": "white",
            "linecolor": "white",
            "ticks": ""
           },
           "bgcolor": "#E5ECF6",
           "caxis": {
            "gridcolor": "white",
            "linecolor": "white",
            "ticks": ""
           }
          },
          "title": {
           "x": 0.05
          },
          "xaxis": {
           "automargin": true,
           "gridcolor": "white",
           "linecolor": "white",
           "ticks": "",
           "title": {
            "standoff": 15
           },
           "zerolinecolor": "white",
           "zerolinewidth": 2
          },
          "yaxis": {
           "automargin": true,
           "gridcolor": "white",
           "linecolor": "white",
           "ticks": "",
           "title": {
            "standoff": 15
           },
           "zerolinecolor": "white",
           "zerolinewidth": 2
          }
         }
        },
        "title": {
         "text": "Speechiness, Energy, and Danceability of playlist"
        },
        "width": 800
       }
      }
     },
     "metadata": {},
     "output_type": "display_data"
    }
   ],
   "source": [
    "fig = px.scatter_3d(pl_master_df, x='danceability', y='energy', z='speechiness', width=800, height=600, color='valence', color_continuous_scale=color_scheme, hover_name='hoverdata')\n",
    "zoom_level = 1.3\n",
    "camera = dict(\n",
    "    eye=dict(x=zoom_level, y=zoom_level, z=zoom_level),\n",
    "    center_z=-0.25\n",
    ")\n",
    "fig.update_layout(scene_camera=camera, title='Speechiness, Energy, and Danceability of playlist', margin=dict(b=0, l=0, r=0, t=50))\n",
    "fig.show()"
   ]
  },
  {
   "cell_type": "code",
   "execution_count": 149,
   "metadata": {},
   "outputs": [
    {
     "data": {
      "application/vnd.plotly.v1+json": {
       "config": {
        "plotlyServerURL": "https://plot.ly"
       },
       "data": [
        {
         "coloraxis": "coloraxis",
         "hovertemplate": "danceability=%{x}<br>energy=%{y}<br>count=%{z}<extra></extra>",
         "name": "",
         "type": "histogram2d",
         "x": [
          0.434,
          0.699,
          0.702,
          0.612,
          0.674,
          0.716,
          0.666,
          0.651,
          0.583,
          0.606,
          0.576,
          0.641,
          0.575,
          0.55,
          0.654,
          0.672,
          0.585,
          0.582,
          0.642,
          0.609,
          0.726,
          0.621,
          0.608,
          0.601,
          0.599,
          0.71,
          0.585,
          0.653,
          0.571,
          0.657,
          0.448,
          0.53,
          0.641,
          0.651,
          0.678,
          0.62,
          0.581,
          0.541,
          0.599,
          0.537,
          0.658,
          0.598,
          0.522,
          0.656,
          0.668,
          0.81,
          0.419,
          0.593,
          0.211,
          0.604,
          0.583,
          0.713,
          0.568,
          0.559,
          0.574,
          0.656,
          0.556,
          0.55,
          0.583,
          0.519,
          0.629,
          0.593,
          0.571,
          0.581,
          0.743,
          0.645,
          0.557,
          0.66,
          0.391,
          0.639,
          0.676,
          0.286,
          0.521,
          0.682,
          0.801,
          0.606,
          0.647,
          0.586,
          0.684
         ],
         "xaxis": "x",
         "xbingroup": "x",
         "y": [
          0.841,
          0.803,
          0.875,
          0.848,
          0.606,
          0.636,
          0.85,
          0.75,
          0.698,
          0.901,
          0.589,
          0.67,
          0.961,
          0.892,
          0.912,
          0.716,
          0.805,
          0.864,
          0.832,
          0.937,
          0.868,
          0.762,
          0.937,
          0.88,
          0.769,
          0.818,
          0.882,
          0.439,
          0.457,
          0.747,
          0.744,
          0.954,
          0.895,
          0.677,
          0.912,
          0.938,
          0.934,
          0.911,
          0.788,
          0.782,
          0.789,
          0.561,
          0.806,
          0.706,
          0.703,
          0.501,
          0.897,
          0.92,
          0.96,
          0.467,
          0.936,
          0.664,
          0.645,
          0.916,
          0.665,
          0.765,
          0.852,
          0.579,
          0.685,
          0.946,
          0.739,
          0.835,
          0.917,
          0.819,
          0.88,
          0.844,
          0.796,
          0.856,
          0.696,
          0.882,
          0.778,
          0.722,
          0.879,
          0.812,
          0.598,
          0.872,
          0.883,
          0.774,
          0.859
         ],
         "yaxis": "y",
         "ybingroup": "y"
        }
       ],
       "layout": {
        "coloraxis": {
         "colorbar": {
          "title": {
           "text": "count"
          }
         },
         "colorscale": [
          [
           0,
           "#ff0000"
          ],
          [
           1,
           "#0000ff"
          ]
         ]
        },
        "height": 800,
        "legend": {
         "tracegroupgap": 0
        },
        "margin": {
         "t": 60
        },
        "template": {
         "data": {
          "bar": [
           {
            "error_x": {
             "color": "#2a3f5f"
            },
            "error_y": {
             "color": "#2a3f5f"
            },
            "marker": {
             "line": {
              "color": "#E5ECF6",
              "width": 0.5
             },
             "pattern": {
              "fillmode": "overlay",
              "size": 10,
              "solidity": 0.2
             }
            },
            "type": "bar"
           }
          ],
          "barpolar": [
           {
            "marker": {
             "line": {
              "color": "#E5ECF6",
              "width": 0.5
             },
             "pattern": {
              "fillmode": "overlay",
              "size": 10,
              "solidity": 0.2
             }
            },
            "type": "barpolar"
           }
          ],
          "carpet": [
           {
            "aaxis": {
             "endlinecolor": "#2a3f5f",
             "gridcolor": "white",
             "linecolor": "white",
             "minorgridcolor": "white",
             "startlinecolor": "#2a3f5f"
            },
            "baxis": {
             "endlinecolor": "#2a3f5f",
             "gridcolor": "white",
             "linecolor": "white",
             "minorgridcolor": "white",
             "startlinecolor": "#2a3f5f"
            },
            "type": "carpet"
           }
          ],
          "choropleth": [
           {
            "colorbar": {
             "outlinewidth": 0,
             "ticks": ""
            },
            "type": "choropleth"
           }
          ],
          "contour": [
           {
            "colorbar": {
             "outlinewidth": 0,
             "ticks": ""
            },
            "colorscale": [
             [
              0,
              "#0d0887"
             ],
             [
              0.1111111111111111,
              "#46039f"
             ],
             [
              0.2222222222222222,
              "#7201a8"
             ],
             [
              0.3333333333333333,
              "#9c179e"
             ],
             [
              0.4444444444444444,
              "#bd3786"
             ],
             [
              0.5555555555555556,
              "#d8576b"
             ],
             [
              0.6666666666666666,
              "#ed7953"
             ],
             [
              0.7777777777777778,
              "#fb9f3a"
             ],
             [
              0.8888888888888888,
              "#fdca26"
             ],
             [
              1,
              "#f0f921"
             ]
            ],
            "type": "contour"
           }
          ],
          "contourcarpet": [
           {
            "colorbar": {
             "outlinewidth": 0,
             "ticks": ""
            },
            "type": "contourcarpet"
           }
          ],
          "heatmap": [
           {
            "colorbar": {
             "outlinewidth": 0,
             "ticks": ""
            },
            "colorscale": [
             [
              0,
              "#0d0887"
             ],
             [
              0.1111111111111111,
              "#46039f"
             ],
             [
              0.2222222222222222,
              "#7201a8"
             ],
             [
              0.3333333333333333,
              "#9c179e"
             ],
             [
              0.4444444444444444,
              "#bd3786"
             ],
             [
              0.5555555555555556,
              "#d8576b"
             ],
             [
              0.6666666666666666,
              "#ed7953"
             ],
             [
              0.7777777777777778,
              "#fb9f3a"
             ],
             [
              0.8888888888888888,
              "#fdca26"
             ],
             [
              1,
              "#f0f921"
             ]
            ],
            "type": "heatmap"
           }
          ],
          "heatmapgl": [
           {
            "colorbar": {
             "outlinewidth": 0,
             "ticks": ""
            },
            "colorscale": [
             [
              0,
              "#0d0887"
             ],
             [
              0.1111111111111111,
              "#46039f"
             ],
             [
              0.2222222222222222,
              "#7201a8"
             ],
             [
              0.3333333333333333,
              "#9c179e"
             ],
             [
              0.4444444444444444,
              "#bd3786"
             ],
             [
              0.5555555555555556,
              "#d8576b"
             ],
             [
              0.6666666666666666,
              "#ed7953"
             ],
             [
              0.7777777777777778,
              "#fb9f3a"
             ],
             [
              0.8888888888888888,
              "#fdca26"
             ],
             [
              1,
              "#f0f921"
             ]
            ],
            "type": "heatmapgl"
           }
          ],
          "histogram": [
           {
            "marker": {
             "pattern": {
              "fillmode": "overlay",
              "size": 10,
              "solidity": 0.2
             }
            },
            "type": "histogram"
           }
          ],
          "histogram2d": [
           {
            "colorbar": {
             "outlinewidth": 0,
             "ticks": ""
            },
            "colorscale": [
             [
              0,
              "#0d0887"
             ],
             [
              0.1111111111111111,
              "#46039f"
             ],
             [
              0.2222222222222222,
              "#7201a8"
             ],
             [
              0.3333333333333333,
              "#9c179e"
             ],
             [
              0.4444444444444444,
              "#bd3786"
             ],
             [
              0.5555555555555556,
              "#d8576b"
             ],
             [
              0.6666666666666666,
              "#ed7953"
             ],
             [
              0.7777777777777778,
              "#fb9f3a"
             ],
             [
              0.8888888888888888,
              "#fdca26"
             ],
             [
              1,
              "#f0f921"
             ]
            ],
            "type": "histogram2d"
           }
          ],
          "histogram2dcontour": [
           {
            "colorbar": {
             "outlinewidth": 0,
             "ticks": ""
            },
            "colorscale": [
             [
              0,
              "#0d0887"
             ],
             [
              0.1111111111111111,
              "#46039f"
             ],
             [
              0.2222222222222222,
              "#7201a8"
             ],
             [
              0.3333333333333333,
              "#9c179e"
             ],
             [
              0.4444444444444444,
              "#bd3786"
             ],
             [
              0.5555555555555556,
              "#d8576b"
             ],
             [
              0.6666666666666666,
              "#ed7953"
             ],
             [
              0.7777777777777778,
              "#fb9f3a"
             ],
             [
              0.8888888888888888,
              "#fdca26"
             ],
             [
              1,
              "#f0f921"
             ]
            ],
            "type": "histogram2dcontour"
           }
          ],
          "mesh3d": [
           {
            "colorbar": {
             "outlinewidth": 0,
             "ticks": ""
            },
            "type": "mesh3d"
           }
          ],
          "parcoords": [
           {
            "line": {
             "colorbar": {
              "outlinewidth": 0,
              "ticks": ""
             }
            },
            "type": "parcoords"
           }
          ],
          "pie": [
           {
            "automargin": true,
            "type": "pie"
           }
          ],
          "scatter": [
           {
            "marker": {
             "colorbar": {
              "outlinewidth": 0,
              "ticks": ""
             }
            },
            "type": "scatter"
           }
          ],
          "scatter3d": [
           {
            "line": {
             "colorbar": {
              "outlinewidth": 0,
              "ticks": ""
             }
            },
            "marker": {
             "colorbar": {
              "outlinewidth": 0,
              "ticks": ""
             }
            },
            "type": "scatter3d"
           }
          ],
          "scattercarpet": [
           {
            "marker": {
             "colorbar": {
              "outlinewidth": 0,
              "ticks": ""
             }
            },
            "type": "scattercarpet"
           }
          ],
          "scattergeo": [
           {
            "marker": {
             "colorbar": {
              "outlinewidth": 0,
              "ticks": ""
             }
            },
            "type": "scattergeo"
           }
          ],
          "scattergl": [
           {
            "marker": {
             "colorbar": {
              "outlinewidth": 0,
              "ticks": ""
             }
            },
            "type": "scattergl"
           }
          ],
          "scattermapbox": [
           {
            "marker": {
             "colorbar": {
              "outlinewidth": 0,
              "ticks": ""
             }
            },
            "type": "scattermapbox"
           }
          ],
          "scatterpolar": [
           {
            "marker": {
             "colorbar": {
              "outlinewidth": 0,
              "ticks": ""
             }
            },
            "type": "scatterpolar"
           }
          ],
          "scatterpolargl": [
           {
            "marker": {
             "colorbar": {
              "outlinewidth": 0,
              "ticks": ""
             }
            },
            "type": "scatterpolargl"
           }
          ],
          "scatterternary": [
           {
            "marker": {
             "colorbar": {
              "outlinewidth": 0,
              "ticks": ""
             }
            },
            "type": "scatterternary"
           }
          ],
          "surface": [
           {
            "colorbar": {
             "outlinewidth": 0,
             "ticks": ""
            },
            "colorscale": [
             [
              0,
              "#0d0887"
             ],
             [
              0.1111111111111111,
              "#46039f"
             ],
             [
              0.2222222222222222,
              "#7201a8"
             ],
             [
              0.3333333333333333,
              "#9c179e"
             ],
             [
              0.4444444444444444,
              "#bd3786"
             ],
             [
              0.5555555555555556,
              "#d8576b"
             ],
             [
              0.6666666666666666,
              "#ed7953"
             ],
             [
              0.7777777777777778,
              "#fb9f3a"
             ],
             [
              0.8888888888888888,
              "#fdca26"
             ],
             [
              1,
              "#f0f921"
             ]
            ],
            "type": "surface"
           }
          ],
          "table": [
           {
            "cells": {
             "fill": {
              "color": "#EBF0F8"
             },
             "line": {
              "color": "white"
             }
            },
            "header": {
             "fill": {
              "color": "#C8D4E3"
             },
             "line": {
              "color": "white"
             }
            },
            "type": "table"
           }
          ]
         },
         "layout": {
          "annotationdefaults": {
           "arrowcolor": "#2a3f5f",
           "arrowhead": 0,
           "arrowwidth": 1
          },
          "autotypenumbers": "strict",
          "coloraxis": {
           "colorbar": {
            "outlinewidth": 0,
            "ticks": ""
           }
          },
          "colorscale": {
           "diverging": [
            [
             0,
             "#8e0152"
            ],
            [
             0.1,
             "#c51b7d"
            ],
            [
             0.2,
             "#de77ae"
            ],
            [
             0.3,
             "#f1b6da"
            ],
            [
             0.4,
             "#fde0ef"
            ],
            [
             0.5,
             "#f7f7f7"
            ],
            [
             0.6,
             "#e6f5d0"
            ],
            [
             0.7,
             "#b8e186"
            ],
            [
             0.8,
             "#7fbc41"
            ],
            [
             0.9,
             "#4d9221"
            ],
            [
             1,
             "#276419"
            ]
           ],
           "sequential": [
            [
             0,
             "#0d0887"
            ],
            [
             0.1111111111111111,
             "#46039f"
            ],
            [
             0.2222222222222222,
             "#7201a8"
            ],
            [
             0.3333333333333333,
             "#9c179e"
            ],
            [
             0.4444444444444444,
             "#bd3786"
            ],
            [
             0.5555555555555556,
             "#d8576b"
            ],
            [
             0.6666666666666666,
             "#ed7953"
            ],
            [
             0.7777777777777778,
             "#fb9f3a"
            ],
            [
             0.8888888888888888,
             "#fdca26"
            ],
            [
             1,
             "#f0f921"
            ]
           ],
           "sequentialminus": [
            [
             0,
             "#0d0887"
            ],
            [
             0.1111111111111111,
             "#46039f"
            ],
            [
             0.2222222222222222,
             "#7201a8"
            ],
            [
             0.3333333333333333,
             "#9c179e"
            ],
            [
             0.4444444444444444,
             "#bd3786"
            ],
            [
             0.5555555555555556,
             "#d8576b"
            ],
            [
             0.6666666666666666,
             "#ed7953"
            ],
            [
             0.7777777777777778,
             "#fb9f3a"
            ],
            [
             0.8888888888888888,
             "#fdca26"
            ],
            [
             1,
             "#f0f921"
            ]
           ]
          },
          "colorway": [
           "#636efa",
           "#EF553B",
           "#00cc96",
           "#ab63fa",
           "#FFA15A",
           "#19d3f3",
           "#FF6692",
           "#B6E880",
           "#FF97FF",
           "#FECB52"
          ],
          "font": {
           "color": "#2a3f5f"
          },
          "geo": {
           "bgcolor": "white",
           "lakecolor": "white",
           "landcolor": "#E5ECF6",
           "showlakes": true,
           "showland": true,
           "subunitcolor": "white"
          },
          "hoverlabel": {
           "align": "left"
          },
          "hovermode": "closest",
          "mapbox": {
           "style": "light"
          },
          "paper_bgcolor": "white",
          "plot_bgcolor": "#E5ECF6",
          "polar": {
           "angularaxis": {
            "gridcolor": "white",
            "linecolor": "white",
            "ticks": ""
           },
           "bgcolor": "#E5ECF6",
           "radialaxis": {
            "gridcolor": "white",
            "linecolor": "white",
            "ticks": ""
           }
          },
          "scene": {
           "xaxis": {
            "backgroundcolor": "#E5ECF6",
            "gridcolor": "white",
            "gridwidth": 2,
            "linecolor": "white",
            "showbackground": true,
            "ticks": "",
            "zerolinecolor": "white"
           },
           "yaxis": {
            "backgroundcolor": "#E5ECF6",
            "gridcolor": "white",
            "gridwidth": 2,
            "linecolor": "white",
            "showbackground": true,
            "ticks": "",
            "zerolinecolor": "white"
           },
           "zaxis": {
            "backgroundcolor": "#E5ECF6",
            "gridcolor": "white",
            "gridwidth": 2,
            "linecolor": "white",
            "showbackground": true,
            "ticks": "",
            "zerolinecolor": "white"
           }
          },
          "shapedefaults": {
           "line": {
            "color": "#2a3f5f"
           }
          },
          "ternary": {
           "aaxis": {
            "gridcolor": "white",
            "linecolor": "white",
            "ticks": ""
           },
           "baxis": {
            "gridcolor": "white",
            "linecolor": "white",
            "ticks": ""
           },
           "bgcolor": "#E5ECF6",
           "caxis": {
            "gridcolor": "white",
            "linecolor": "white",
            "ticks": ""
           }
          },
          "title": {
           "x": 0.05
          },
          "xaxis": {
           "automargin": true,
           "gridcolor": "white",
           "linecolor": "white",
           "ticks": "",
           "title": {
            "standoff": 15
           },
           "zerolinecolor": "white",
           "zerolinewidth": 2
          },
          "yaxis": {
           "automargin": true,
           "gridcolor": "white",
           "linecolor": "white",
           "ticks": "",
           "title": {
            "standoff": 15
           },
           "zerolinecolor": "white",
           "zerolinewidth": 2
          }
         }
        },
        "title": {
         "text": "Danceability and energy histogram of playlist"
        },
        "width": 800,
        "xaxis": {
         "anchor": "y",
         "domain": [
          0,
          1
         ],
         "title": {
          "text": "danceability"
         }
        },
        "yaxis": {
         "anchor": "x",
         "domain": [
          0,
          1
         ],
         "title": {
          "text": "energy"
         }
        }
       }
      }
     },
     "metadata": {},
     "output_type": "display_data"
    }
   ],
   "source": [
    "fig = px.density_heatmap(pl_master_df, x='danceability', y='energy', width=800, height=800, color_continuous_scale=color_scheme)\n",
    "fig.update_layout(title='Danceability and energy histogram of playlist')\n",
    "fig.show()"
   ]
  },
  {
   "cell_type": "code",
   "execution_count": 150,
   "metadata": {},
   "outputs": [
    {
     "data": {
      "application/vnd.plotly.v1+json": {
       "config": {
        "plotlyServerURL": "https://plot.ly"
       },
       "data": [
        {
         "alignmentgroup": "True",
         "bingroup": "x",
         "hovertemplate": "tempo=%{x}<br>count=%{y}<extra></extra>",
         "legendgroup": "",
         "marker": {
          "color": "#636efa",
          "pattern": {
           "shape": ""
          }
         },
         "name": "",
         "offsetgroup": "",
         "orientation": "v",
         "showlegend": false,
         "type": "histogram",
         "x": [
          123.899,
          124.979,
          120.998,
          123.063,
          122.011,
          124.994,
          123.995,
          123.026,
          123.035,
          121.995,
          181.54,
          121.97,
          125,
          121.985,
          119.993,
          125.007,
          121.033,
          122.022,
          123.039,
          121.998,
          122.001,
          119.997,
          121.988,
          124.985,
          120.983,
          120.99,
          121.97,
          119.021,
          122.018,
          122.001,
          121.989,
          123.003,
          122.973,
          123.99,
          120.011,
          124.979,
          124.008,
          123.968,
          121.016,
          125.999,
          119.986,
          182.988,
          121.98,
          119.99,
          126.003,
          120.016,
          123.908,
          119.991,
          123.026,
          117,
          121.997,
          122.997,
          104.999,
          123.022,
          116.991,
          123.997,
          122.018,
          120.023,
          120.062,
          123.995,
          121.984,
          123.976,
          119.993,
          123.999,
          122.01,
          120.009,
          121.01,
          122.019,
          121.049,
          123.001,
          119.956,
          121.825,
          122.007,
          120.009,
          124.006,
          122.032,
          122.015,
          123.997,
          123.016
         ],
         "xaxis": "x",
         "yaxis": "y"
        }
       ],
       "layout": {
        "barmode": "relative",
        "height": 800,
        "legend": {
         "tracegroupgap": 0
        },
        "margin": {
         "t": 60
        },
        "template": {
         "data": {
          "bar": [
           {
            "error_x": {
             "color": "#2a3f5f"
            },
            "error_y": {
             "color": "#2a3f5f"
            },
            "marker": {
             "line": {
              "color": "#E5ECF6",
              "width": 0.5
             },
             "pattern": {
              "fillmode": "overlay",
              "size": 10,
              "solidity": 0.2
             }
            },
            "type": "bar"
           }
          ],
          "barpolar": [
           {
            "marker": {
             "line": {
              "color": "#E5ECF6",
              "width": 0.5
             },
             "pattern": {
              "fillmode": "overlay",
              "size": 10,
              "solidity": 0.2
             }
            },
            "type": "barpolar"
           }
          ],
          "carpet": [
           {
            "aaxis": {
             "endlinecolor": "#2a3f5f",
             "gridcolor": "white",
             "linecolor": "white",
             "minorgridcolor": "white",
             "startlinecolor": "#2a3f5f"
            },
            "baxis": {
             "endlinecolor": "#2a3f5f",
             "gridcolor": "white",
             "linecolor": "white",
             "minorgridcolor": "white",
             "startlinecolor": "#2a3f5f"
            },
            "type": "carpet"
           }
          ],
          "choropleth": [
           {
            "colorbar": {
             "outlinewidth": 0,
             "ticks": ""
            },
            "type": "choropleth"
           }
          ],
          "contour": [
           {
            "colorbar": {
             "outlinewidth": 0,
             "ticks": ""
            },
            "colorscale": [
             [
              0,
              "#0d0887"
             ],
             [
              0.1111111111111111,
              "#46039f"
             ],
             [
              0.2222222222222222,
              "#7201a8"
             ],
             [
              0.3333333333333333,
              "#9c179e"
             ],
             [
              0.4444444444444444,
              "#bd3786"
             ],
             [
              0.5555555555555556,
              "#d8576b"
             ],
             [
              0.6666666666666666,
              "#ed7953"
             ],
             [
              0.7777777777777778,
              "#fb9f3a"
             ],
             [
              0.8888888888888888,
              "#fdca26"
             ],
             [
              1,
              "#f0f921"
             ]
            ],
            "type": "contour"
           }
          ],
          "contourcarpet": [
           {
            "colorbar": {
             "outlinewidth": 0,
             "ticks": ""
            },
            "type": "contourcarpet"
           }
          ],
          "heatmap": [
           {
            "colorbar": {
             "outlinewidth": 0,
             "ticks": ""
            },
            "colorscale": [
             [
              0,
              "#0d0887"
             ],
             [
              0.1111111111111111,
              "#46039f"
             ],
             [
              0.2222222222222222,
              "#7201a8"
             ],
             [
              0.3333333333333333,
              "#9c179e"
             ],
             [
              0.4444444444444444,
              "#bd3786"
             ],
             [
              0.5555555555555556,
              "#d8576b"
             ],
             [
              0.6666666666666666,
              "#ed7953"
             ],
             [
              0.7777777777777778,
              "#fb9f3a"
             ],
             [
              0.8888888888888888,
              "#fdca26"
             ],
             [
              1,
              "#f0f921"
             ]
            ],
            "type": "heatmap"
           }
          ],
          "heatmapgl": [
           {
            "colorbar": {
             "outlinewidth": 0,
             "ticks": ""
            },
            "colorscale": [
             [
              0,
              "#0d0887"
             ],
             [
              0.1111111111111111,
              "#46039f"
             ],
             [
              0.2222222222222222,
              "#7201a8"
             ],
             [
              0.3333333333333333,
              "#9c179e"
             ],
             [
              0.4444444444444444,
              "#bd3786"
             ],
             [
              0.5555555555555556,
              "#d8576b"
             ],
             [
              0.6666666666666666,
              "#ed7953"
             ],
             [
              0.7777777777777778,
              "#fb9f3a"
             ],
             [
              0.8888888888888888,
              "#fdca26"
             ],
             [
              1,
              "#f0f921"
             ]
            ],
            "type": "heatmapgl"
           }
          ],
          "histogram": [
           {
            "marker": {
             "pattern": {
              "fillmode": "overlay",
              "size": 10,
              "solidity": 0.2
             }
            },
            "type": "histogram"
           }
          ],
          "histogram2d": [
           {
            "colorbar": {
             "outlinewidth": 0,
             "ticks": ""
            },
            "colorscale": [
             [
              0,
              "#0d0887"
             ],
             [
              0.1111111111111111,
              "#46039f"
             ],
             [
              0.2222222222222222,
              "#7201a8"
             ],
             [
              0.3333333333333333,
              "#9c179e"
             ],
             [
              0.4444444444444444,
              "#bd3786"
             ],
             [
              0.5555555555555556,
              "#d8576b"
             ],
             [
              0.6666666666666666,
              "#ed7953"
             ],
             [
              0.7777777777777778,
              "#fb9f3a"
             ],
             [
              0.8888888888888888,
              "#fdca26"
             ],
             [
              1,
              "#f0f921"
             ]
            ],
            "type": "histogram2d"
           }
          ],
          "histogram2dcontour": [
           {
            "colorbar": {
             "outlinewidth": 0,
             "ticks": ""
            },
            "colorscale": [
             [
              0,
              "#0d0887"
             ],
             [
              0.1111111111111111,
              "#46039f"
             ],
             [
              0.2222222222222222,
              "#7201a8"
             ],
             [
              0.3333333333333333,
              "#9c179e"
             ],
             [
              0.4444444444444444,
              "#bd3786"
             ],
             [
              0.5555555555555556,
              "#d8576b"
             ],
             [
              0.6666666666666666,
              "#ed7953"
             ],
             [
              0.7777777777777778,
              "#fb9f3a"
             ],
             [
              0.8888888888888888,
              "#fdca26"
             ],
             [
              1,
              "#f0f921"
             ]
            ],
            "type": "histogram2dcontour"
           }
          ],
          "mesh3d": [
           {
            "colorbar": {
             "outlinewidth": 0,
             "ticks": ""
            },
            "type": "mesh3d"
           }
          ],
          "parcoords": [
           {
            "line": {
             "colorbar": {
              "outlinewidth": 0,
              "ticks": ""
             }
            },
            "type": "parcoords"
           }
          ],
          "pie": [
           {
            "automargin": true,
            "type": "pie"
           }
          ],
          "scatter": [
           {
            "marker": {
             "colorbar": {
              "outlinewidth": 0,
              "ticks": ""
             }
            },
            "type": "scatter"
           }
          ],
          "scatter3d": [
           {
            "line": {
             "colorbar": {
              "outlinewidth": 0,
              "ticks": ""
             }
            },
            "marker": {
             "colorbar": {
              "outlinewidth": 0,
              "ticks": ""
             }
            },
            "type": "scatter3d"
           }
          ],
          "scattercarpet": [
           {
            "marker": {
             "colorbar": {
              "outlinewidth": 0,
              "ticks": ""
             }
            },
            "type": "scattercarpet"
           }
          ],
          "scattergeo": [
           {
            "marker": {
             "colorbar": {
              "outlinewidth": 0,
              "ticks": ""
             }
            },
            "type": "scattergeo"
           }
          ],
          "scattergl": [
           {
            "marker": {
             "colorbar": {
              "outlinewidth": 0,
              "ticks": ""
             }
            },
            "type": "scattergl"
           }
          ],
          "scattermapbox": [
           {
            "marker": {
             "colorbar": {
              "outlinewidth": 0,
              "ticks": ""
             }
            },
            "type": "scattermapbox"
           }
          ],
          "scatterpolar": [
           {
            "marker": {
             "colorbar": {
              "outlinewidth": 0,
              "ticks": ""
             }
            },
            "type": "scatterpolar"
           }
          ],
          "scatterpolargl": [
           {
            "marker": {
             "colorbar": {
              "outlinewidth": 0,
              "ticks": ""
             }
            },
            "type": "scatterpolargl"
           }
          ],
          "scatterternary": [
           {
            "marker": {
             "colorbar": {
              "outlinewidth": 0,
              "ticks": ""
             }
            },
            "type": "scatterternary"
           }
          ],
          "surface": [
           {
            "colorbar": {
             "outlinewidth": 0,
             "ticks": ""
            },
            "colorscale": [
             [
              0,
              "#0d0887"
             ],
             [
              0.1111111111111111,
              "#46039f"
             ],
             [
              0.2222222222222222,
              "#7201a8"
             ],
             [
              0.3333333333333333,
              "#9c179e"
             ],
             [
              0.4444444444444444,
              "#bd3786"
             ],
             [
              0.5555555555555556,
              "#d8576b"
             ],
             [
              0.6666666666666666,
              "#ed7953"
             ],
             [
              0.7777777777777778,
              "#fb9f3a"
             ],
             [
              0.8888888888888888,
              "#fdca26"
             ],
             [
              1,
              "#f0f921"
             ]
            ],
            "type": "surface"
           }
          ],
          "table": [
           {
            "cells": {
             "fill": {
              "color": "#EBF0F8"
             },
             "line": {
              "color": "white"
             }
            },
            "header": {
             "fill": {
              "color": "#C8D4E3"
             },
             "line": {
              "color": "white"
             }
            },
            "type": "table"
           }
          ]
         },
         "layout": {
          "annotationdefaults": {
           "arrowcolor": "#2a3f5f",
           "arrowhead": 0,
           "arrowwidth": 1
          },
          "autotypenumbers": "strict",
          "coloraxis": {
           "colorbar": {
            "outlinewidth": 0,
            "ticks": ""
           }
          },
          "colorscale": {
           "diverging": [
            [
             0,
             "#8e0152"
            ],
            [
             0.1,
             "#c51b7d"
            ],
            [
             0.2,
             "#de77ae"
            ],
            [
             0.3,
             "#f1b6da"
            ],
            [
             0.4,
             "#fde0ef"
            ],
            [
             0.5,
             "#f7f7f7"
            ],
            [
             0.6,
             "#e6f5d0"
            ],
            [
             0.7,
             "#b8e186"
            ],
            [
             0.8,
             "#7fbc41"
            ],
            [
             0.9,
             "#4d9221"
            ],
            [
             1,
             "#276419"
            ]
           ],
           "sequential": [
            [
             0,
             "#0d0887"
            ],
            [
             0.1111111111111111,
             "#46039f"
            ],
            [
             0.2222222222222222,
             "#7201a8"
            ],
            [
             0.3333333333333333,
             "#9c179e"
            ],
            [
             0.4444444444444444,
             "#bd3786"
            ],
            [
             0.5555555555555556,
             "#d8576b"
            ],
            [
             0.6666666666666666,
             "#ed7953"
            ],
            [
             0.7777777777777778,
             "#fb9f3a"
            ],
            [
             0.8888888888888888,
             "#fdca26"
            ],
            [
             1,
             "#f0f921"
            ]
           ],
           "sequentialminus": [
            [
             0,
             "#0d0887"
            ],
            [
             0.1111111111111111,
             "#46039f"
            ],
            [
             0.2222222222222222,
             "#7201a8"
            ],
            [
             0.3333333333333333,
             "#9c179e"
            ],
            [
             0.4444444444444444,
             "#bd3786"
            ],
            [
             0.5555555555555556,
             "#d8576b"
            ],
            [
             0.6666666666666666,
             "#ed7953"
            ],
            [
             0.7777777777777778,
             "#fb9f3a"
            ],
            [
             0.8888888888888888,
             "#fdca26"
            ],
            [
             1,
             "#f0f921"
            ]
           ]
          },
          "colorway": [
           "#636efa",
           "#EF553B",
           "#00cc96",
           "#ab63fa",
           "#FFA15A",
           "#19d3f3",
           "#FF6692",
           "#B6E880",
           "#FF97FF",
           "#FECB52"
          ],
          "font": {
           "color": "#2a3f5f"
          },
          "geo": {
           "bgcolor": "white",
           "lakecolor": "white",
           "landcolor": "#E5ECF6",
           "showlakes": true,
           "showland": true,
           "subunitcolor": "white"
          },
          "hoverlabel": {
           "align": "left"
          },
          "hovermode": "closest",
          "mapbox": {
           "style": "light"
          },
          "paper_bgcolor": "white",
          "plot_bgcolor": "#E5ECF6",
          "polar": {
           "angularaxis": {
            "gridcolor": "white",
            "linecolor": "white",
            "ticks": ""
           },
           "bgcolor": "#E5ECF6",
           "radialaxis": {
            "gridcolor": "white",
            "linecolor": "white",
            "ticks": ""
           }
          },
          "scene": {
           "xaxis": {
            "backgroundcolor": "#E5ECF6",
            "gridcolor": "white",
            "gridwidth": 2,
            "linecolor": "white",
            "showbackground": true,
            "ticks": "",
            "zerolinecolor": "white"
           },
           "yaxis": {
            "backgroundcolor": "#E5ECF6",
            "gridcolor": "white",
            "gridwidth": 2,
            "linecolor": "white",
            "showbackground": true,
            "ticks": "",
            "zerolinecolor": "white"
           },
           "zaxis": {
            "backgroundcolor": "#E5ECF6",
            "gridcolor": "white",
            "gridwidth": 2,
            "linecolor": "white",
            "showbackground": true,
            "ticks": "",
            "zerolinecolor": "white"
           }
          },
          "shapedefaults": {
           "line": {
            "color": "#2a3f5f"
           }
          },
          "ternary": {
           "aaxis": {
            "gridcolor": "white",
            "linecolor": "white",
            "ticks": ""
           },
           "baxis": {
            "gridcolor": "white",
            "linecolor": "white",
            "ticks": ""
           },
           "bgcolor": "#E5ECF6",
           "caxis": {
            "gridcolor": "white",
            "linecolor": "white",
            "ticks": ""
           }
          },
          "title": {
           "x": 0.05
          },
          "xaxis": {
           "automargin": true,
           "gridcolor": "white",
           "linecolor": "white",
           "ticks": "",
           "title": {
            "standoff": 15
           },
           "zerolinecolor": "white",
           "zerolinewidth": 2
          },
          "yaxis": {
           "automargin": true,
           "gridcolor": "white",
           "linecolor": "white",
           "ticks": "",
           "title": {
            "standoff": 15
           },
           "zerolinecolor": "white",
           "zerolinewidth": 2
          }
         }
        },
        "title": {
         "text": "Tempo histogram of playlist"
        },
        "width": 800,
        "xaxis": {
         "anchor": "y",
         "domain": [
          0,
          1
         ],
         "title": {
          "text": "tempo"
         }
        },
        "yaxis": {
         "anchor": "x",
         "domain": [
          0,
          1
         ],
         "title": {
          "text": "count"
         }
        }
       }
      }
     },
     "metadata": {},
     "output_type": "display_data"
    }
   ],
   "source": [
    "fig = px.histogram(pl_master_df, x='tempo', width=800, height=800)\n",
    "fig.update_layout(title='Tempo histogram of playlist')\n",
    "fig.show()"
   ]
  }
 ],
 "metadata": {
  "interpreter": {
   "hash": "6971d8255f90602c68766a1865d9824b08aa38539d9ee2eeef84af9b4ed5eb18"
  },
  "kernelspec": {
   "display_name": "Python 3.10.2 ('.env': venv)",
   "language": "python",
   "name": "python3"
  },
  "language_info": {
   "codemirror_mode": {
    "name": "ipython",
    "version": 3
   },
   "file_extension": ".py",
   "mimetype": "text/x-python",
   "name": "python",
   "nbconvert_exporter": "python",
   "pygments_lexer": "ipython3",
   "version": "3.10.2"
  },
  "orig_nbformat": 4
 },
 "nbformat": 4,
 "nbformat_minor": 2
}
