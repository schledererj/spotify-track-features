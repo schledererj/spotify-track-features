{
 "cells": [
  {
   "cell_type": "markdown",
   "metadata": {},
   "source": [
    "# Spotify track features analysis"
   ]
  },
  {
   "cell_type": "code",
   "execution_count": 3,
   "metadata": {},
   "outputs": [],
   "source": [
    "from spotipy import Spotify\n",
    "import pandas as pd"
   ]
  },
  {
   "cell_type": "markdown",
   "metadata": {},
   "source": [
    "## Login and get data\n",
    "\n",
    "I used the accompanying `login.py` script to generate an access token, which can be supplied directly as to the client initializer."
   ]
  },
  {
   "cell_type": "code",
   "execution_count": 13,
   "metadata": {},
   "outputs": [],
   "source": [
    "sp = Spotify(auth=\"REDACTED\")"
   ]
  },
  {
   "cell_type": "markdown",
   "metadata": {},
   "source": [
    "Start off by getting my playlists, my saved songs, and my most recent plays."
   ]
  },
  {
   "cell_type": "code",
   "execution_count": 14,
   "metadata": {},
   "outputs": [],
   "source": [
    "playlists = sp.current_user_playlists()['items']"
   ]
  },
  {
   "cell_type": "code",
   "execution_count": 15,
   "metadata": {},
   "outputs": [
    {
     "data": {
      "text/html": [
       "<div>\n",
       "<style scoped>\n",
       "    .dataframe tbody tr th:only-of-type {\n",
       "        vertical-align: middle;\n",
       "    }\n",
       "\n",
       "    .dataframe tbody tr th {\n",
       "        vertical-align: top;\n",
       "    }\n",
       "\n",
       "    .dataframe thead th {\n",
       "        text-align: right;\n",
       "    }\n",
       "</style>\n",
       "<table border=\"1\" class=\"dataframe\">\n",
       "  <thead>\n",
       "    <tr style=\"text-align: right;\">\n",
       "      <th></th>\n",
       "      <th>ID</th>\n",
       "      <th>Name</th>\n",
       "    </tr>\n",
       "  </thead>\n",
       "  <tbody>\n",
       "    <tr>\n",
       "      <th>0</th>\n",
       "      <td>7wwwcxcewcYqVu1X9F0B4g</td>\n",
       "      <td>melodic house? (2)</td>\n",
       "    </tr>\n",
       "    <tr>\n",
       "      <th>1</th>\n",
       "      <td>05uRh5eogpZNyLGXLzLPrW</td>\n",
       "      <td>buffalo</td>\n",
       "    </tr>\n",
       "    <tr>\n",
       "      <th>2</th>\n",
       "      <td>42czoai1Dhdl7iF0JVPSLF</td>\n",
       "      <td>car time</td>\n",
       "    </tr>\n",
       "    <tr>\n",
       "      <th>3</th>\n",
       "      <td>4po0sG9mdx1phmlhH8adQL</td>\n",
       "      <td>dark and wavvy</td>\n",
       "    </tr>\n",
       "    <tr>\n",
       "      <th>4</th>\n",
       "      <td>21k0bkuYPlawkg6w2429rn</td>\n",
       "      <td>where's jon - part i</td>\n",
       "    </tr>\n",
       "  </tbody>\n",
       "</table>\n",
       "</div>"
      ],
      "text/plain": [
       "                       ID                  Name\n",
       "0  7wwwcxcewcYqVu1X9F0B4g    melodic house? (2)\n",
       "1  05uRh5eogpZNyLGXLzLPrW               buffalo\n",
       "2  42czoai1Dhdl7iF0JVPSLF              car time\n",
       "3  4po0sG9mdx1phmlhH8adQL        dark and wavvy\n",
       "4  21k0bkuYPlawkg6w2429rn  where's jon - part i"
      ]
     },
     "execution_count": 15,
     "metadata": {},
     "output_type": "execute_result"
    }
   ],
   "source": [
    "plists = [{\"ID\": x['id'], \"Name\": x['name']} for x in playlists]\n",
    "plists = pd.DataFrame(plists)\n",
    "plists.head()"
   ]
  },
  {
   "cell_type": "code",
   "execution_count": 16,
   "metadata": {},
   "outputs": [],
   "source": [
    "recents = sp.current_user_recently_played()"
   ]
  },
  {
   "cell_type": "code",
   "execution_count": 17,
   "metadata": {},
   "outputs": [
    {
     "data": {
      "text/html": [
       "<div>\n",
       "<style scoped>\n",
       "    .dataframe tbody tr th:only-of-type {\n",
       "        vertical-align: middle;\n",
       "    }\n",
       "\n",
       "    .dataframe tbody tr th {\n",
       "        vertical-align: top;\n",
       "    }\n",
       "\n",
       "    .dataframe thead th {\n",
       "        text-align: right;\n",
       "    }\n",
       "</style>\n",
       "<table border=\"1\" class=\"dataframe\">\n",
       "  <thead>\n",
       "    <tr style=\"text-align: right;\">\n",
       "      <th></th>\n",
       "      <th>Artists</th>\n",
       "      <th>Artist IDs</th>\n",
       "      <th>Name</th>\n",
       "      <th>Track ID</th>\n",
       "      <th>Popularity</th>\n",
       "      <th>Album ID</th>\n",
       "    </tr>\n",
       "  </thead>\n",
       "  <tbody>\n",
       "    <tr>\n",
       "      <th>0</th>\n",
       "      <td>LAR</td>\n",
       "      <td>2w3NdJswSn39l3TU9vIRq0</td>\n",
       "      <td>I Miss You</td>\n",
       "      <td>5bCIhRCCwWrnCneW8eQDOu</td>\n",
       "      <td>20</td>\n",
       "      <td>7tea0tzJU7KHFswuoNFK4U</td>\n",
       "    </tr>\n",
       "    <tr>\n",
       "      <th>1</th>\n",
       "      <td>Koven</td>\n",
       "      <td>3UCbp6D1lvILlxRJT9LnFa</td>\n",
       "      <td>Final Call</td>\n",
       "      <td>2F1kM1ytnyZ1J0T3Qzf1Xe</td>\n",
       "      <td>37</td>\n",
       "      <td>6einAr3xXFNUMxTxIsL92x</td>\n",
       "    </tr>\n",
       "    <tr>\n",
       "      <th>2</th>\n",
       "      <td>BetweenUs</td>\n",
       "      <td>2kHgZ7ViQ4qpvADuz1TrlK</td>\n",
       "      <td>All I See</td>\n",
       "      <td>18weulVGrDukxgOaUlnQJO</td>\n",
       "      <td>40</td>\n",
       "      <td>6E49Bc08zwsBwpujVP9sFJ</td>\n",
       "    </tr>\n",
       "    <tr>\n",
       "      <th>3</th>\n",
       "      <td>Nora En Pure</td>\n",
       "      <td>24DO0PijjITGIEWsO8XaPs</td>\n",
       "      <td>Luscious Rain</td>\n",
       "      <td>5Cq74SxpiW6llWC4JfKbe3</td>\n",
       "      <td>55</td>\n",
       "      <td>5X7TUEwe3dnQKeqN3qBQZv</td>\n",
       "    </tr>\n",
       "    <tr>\n",
       "      <th>4</th>\n",
       "      <td>Asaf Avidan,The Mojos,Wankelmut</td>\n",
       "      <td>7t51dSX8ZkKC7VoKRd0lME,6PB8wVL9gRsP8QTt2cRZPF,...</td>\n",
       "      <td>One Day / Reckoning Song (Wankelmut Remix) - C...</td>\n",
       "      <td>36Nedlx9aSx0lHaorvdqBJ</td>\n",
       "      <td>40</td>\n",
       "      <td>6ZtATnsRYU8ZP4JD0dH0fs</td>\n",
       "    </tr>\n",
       "  </tbody>\n",
       "</table>\n",
       "</div>"
      ],
      "text/plain": [
       "                           Artists  \\\n",
       "0                              LAR   \n",
       "1                            Koven   \n",
       "2                        BetweenUs   \n",
       "3                     Nora En Pure   \n",
       "4  Asaf Avidan,The Mojos,Wankelmut   \n",
       "\n",
       "                                          Artist IDs  \\\n",
       "0                             2w3NdJswSn39l3TU9vIRq0   \n",
       "1                             3UCbp6D1lvILlxRJT9LnFa   \n",
       "2                             2kHgZ7ViQ4qpvADuz1TrlK   \n",
       "3                             24DO0PijjITGIEWsO8XaPs   \n",
       "4  7t51dSX8ZkKC7VoKRd0lME,6PB8wVL9gRsP8QTt2cRZPF,...   \n",
       "\n",
       "                                                Name                Track ID  \\\n",
       "0                                         I Miss You  5bCIhRCCwWrnCneW8eQDOu   \n",
       "1                                         Final Call  2F1kM1ytnyZ1J0T3Qzf1Xe   \n",
       "2                                          All I See  18weulVGrDukxgOaUlnQJO   \n",
       "3                                      Luscious Rain  5Cq74SxpiW6llWC4JfKbe3   \n",
       "4  One Day / Reckoning Song (Wankelmut Remix) - C...  36Nedlx9aSx0lHaorvdqBJ   \n",
       "\n",
       "   Popularity                Album ID  \n",
       "0          20  7tea0tzJU7KHFswuoNFK4U  \n",
       "1          37  6einAr3xXFNUMxTxIsL92x  \n",
       "2          40  6E49Bc08zwsBwpujVP9sFJ  \n",
       "3          55  5X7TUEwe3dnQKeqN3qBQZv  \n",
       "4          40  6ZtATnsRYU8ZP4JD0dH0fs  "
      ]
     },
     "execution_count": 17,
     "metadata": {},
     "output_type": "execute_result"
    }
   ],
   "source": [
    "_recents = list()\n",
    "for i in recents['items']:\n",
    "    t = i['track']\n",
    "    artists = \",\".join(x['name'] for x in t['artists'])\n",
    "    artist_ids = \",\".join(x['id'] for x in t['artists'])\n",
    "    name = t['name']\n",
    "    track_id = t['id']\n",
    "    popularity = t['popularity']\n",
    "    album_id = t['album']['id']\n",
    "    _recents.append({\n",
    "        \"Artists\": artists,\n",
    "        \"Artist IDs\": artist_ids,\n",
    "        \"Name\": name,\n",
    "        \"Track ID\": track_id,\n",
    "        \"Popularity\": popularity,\n",
    "        \"Album ID\": album_id\n",
    "    })\n",
    "\n",
    "recents = pd.DataFrame(_recents)\n",
    "recents.head()"
   ]
  },
  {
   "cell_type": "code",
   "execution_count": 36,
   "metadata": {},
   "outputs": [],
   "source": [
    "page_size = 50\n",
    "saved_songs_res = sp.current_user_saved_tracks(limit=page_size)\n",
    "saved_tracks = saved_songs_res['items']\n",
    "total = saved_songs_res['total']\n",
    "off = page_size\n",
    "while off < total + page_size:\n",
    "    next_res = sp.current_user_saved_tracks(offset=off, limit=page_size)\n",
    "    saved_tracks.extend(next_res['items'])\n",
    "    off += page_size"
   ]
  },
  {
   "cell_type": "code",
   "execution_count": 39,
   "metadata": {},
   "outputs": [
    {
     "data": {
      "text/html": [
       "<div>\n",
       "<style scoped>\n",
       "    .dataframe tbody tr th:only-of-type {\n",
       "        vertical-align: middle;\n",
       "    }\n",
       "\n",
       "    .dataframe tbody tr th {\n",
       "        vertical-align: top;\n",
       "    }\n",
       "\n",
       "    .dataframe thead th {\n",
       "        text-align: right;\n",
       "    }\n",
       "</style>\n",
       "<table border=\"1\" class=\"dataframe\">\n",
       "  <thead>\n",
       "    <tr style=\"text-align: right;\">\n",
       "      <th></th>\n",
       "      <th>Artists</th>\n",
       "      <th>Artist IDs</th>\n",
       "      <th>Name</th>\n",
       "      <th>Track ID</th>\n",
       "      <th>Popularity</th>\n",
       "      <th>Album ID</th>\n",
       "      <th>Added at</th>\n",
       "    </tr>\n",
       "  </thead>\n",
       "  <tbody>\n",
       "    <tr>\n",
       "      <th>0</th>\n",
       "      <td>Grum</td>\n",
       "      <td>3VEqFWRt47xQAZJMBF3duQ</td>\n",
       "      <td>Lose Control</td>\n",
       "      <td>0bqjS54zmDlYanW8mlx28k</td>\n",
       "      <td>54</td>\n",
       "      <td>52beQVaTRkEsdip6N4nWZo</td>\n",
       "      <td>2022-03-05T00:13:06Z</td>\n",
       "    </tr>\n",
       "    <tr>\n",
       "      <th>1</th>\n",
       "      <td>KASHIWA Daisuke</td>\n",
       "      <td>5sGsy5o8hBSMmDUFTC5Q2P</td>\n",
       "      <td>april.#02</td>\n",
       "      <td>6P3bha1HLEaiwaDA5SlTRB</td>\n",
       "      <td>19</td>\n",
       "      <td>2Gl1cVFZAs3DX3uvaTHCHG</td>\n",
       "      <td>2022-02-15T04:16:16Z</td>\n",
       "    </tr>\n",
       "    <tr>\n",
       "      <th>2</th>\n",
       "      <td>Memtrix</td>\n",
       "      <td>3bffaBH7akOhsSLsVJcJug</td>\n",
       "      <td>All You Are</td>\n",
       "      <td>1Pz2FNGmyvRYnlKd58ANEW</td>\n",
       "      <td>52</td>\n",
       "      <td>4CF7zjsdRMyUjjvQ2cvb6l</td>\n",
       "      <td>2022-01-10T01:03:44Z</td>\n",
       "    </tr>\n",
       "    <tr>\n",
       "      <th>3</th>\n",
       "      <td>Sound Quelle,Matt Fax</td>\n",
       "      <td>5mdTuNl23tON1WlsVbvD18,1XgI1X3xjXCKRP1ZjhqgkV</td>\n",
       "      <td>Sunburst</td>\n",
       "      <td>67b4kyYW9PcSu9ChwywKYe</td>\n",
       "      <td>36</td>\n",
       "      <td>1MYWKh9RzeEcToi4chhpoC</td>\n",
       "      <td>2022-01-09T22:26:30Z</td>\n",
       "    </tr>\n",
       "    <tr>\n",
       "      <th>4</th>\n",
       "      <td>Last Heroes,Satellite Empire</td>\n",
       "      <td>3HHfEn7yPOy3IiHS6CHG97,1DGpuIJ6KAI5bcaFGbJZJs</td>\n",
       "      <td>Take Your Time (feat. Satellite Empire)</td>\n",
       "      <td>2piFAX26ski1mMmhWGnZQ8</td>\n",
       "      <td>35</td>\n",
       "      <td>4oQg6odo4r4sOG1GbG5TDk</td>\n",
       "      <td>2022-01-01T23:53:47Z</td>\n",
       "    </tr>\n",
       "  </tbody>\n",
       "</table>\n",
       "</div>"
      ],
      "text/plain": [
       "                        Artists  \\\n",
       "0                          Grum   \n",
       "1               KASHIWA Daisuke   \n",
       "2                       Memtrix   \n",
       "3         Sound Quelle,Matt Fax   \n",
       "4  Last Heroes,Satellite Empire   \n",
       "\n",
       "                                      Artist IDs  \\\n",
       "0                         3VEqFWRt47xQAZJMBF3duQ   \n",
       "1                         5sGsy5o8hBSMmDUFTC5Q2P   \n",
       "2                         3bffaBH7akOhsSLsVJcJug   \n",
       "3  5mdTuNl23tON1WlsVbvD18,1XgI1X3xjXCKRP1ZjhqgkV   \n",
       "4  3HHfEn7yPOy3IiHS6CHG97,1DGpuIJ6KAI5bcaFGbJZJs   \n",
       "\n",
       "                                      Name                Track ID  \\\n",
       "0                             Lose Control  0bqjS54zmDlYanW8mlx28k   \n",
       "1                                april.#02  6P3bha1HLEaiwaDA5SlTRB   \n",
       "2                              All You Are  1Pz2FNGmyvRYnlKd58ANEW   \n",
       "3                                 Sunburst  67b4kyYW9PcSu9ChwywKYe   \n",
       "4  Take Your Time (feat. Satellite Empire)  2piFAX26ski1mMmhWGnZQ8   \n",
       "\n",
       "   Popularity                Album ID              Added at  \n",
       "0          54  52beQVaTRkEsdip6N4nWZo  2022-03-05T00:13:06Z  \n",
       "1          19  2Gl1cVFZAs3DX3uvaTHCHG  2022-02-15T04:16:16Z  \n",
       "2          52  4CF7zjsdRMyUjjvQ2cvb6l  2022-01-10T01:03:44Z  \n",
       "3          36  1MYWKh9RzeEcToi4chhpoC  2022-01-09T22:26:30Z  \n",
       "4          35  4oQg6odo4r4sOG1GbG5TDk  2022-01-01T23:53:47Z  "
      ]
     },
     "execution_count": 39,
     "metadata": {},
     "output_type": "execute_result"
    }
   ],
   "source": [
    "_saved_tracks = list()\n",
    "for i in saved_tracks:\n",
    "    t = i['track']\n",
    "    artists = \",\".join(x['name'] for x in t['artists'])\n",
    "    artist_ids = \",\".join(x['id'] for x in t['artists'])\n",
    "    name = t['name']\n",
    "    track_id = t['id']\n",
    "    popularity = t['popularity']\n",
    "    album_id = t['album']['id']\n",
    "    added_at = i['added_at']\n",
    "    _saved_tracks.append({\n",
    "        \"Artists\": artists,\n",
    "        \"Artist IDs\": artist_ids,\n",
    "        \"Name\": name,\n",
    "        \"Track ID\": track_id,\n",
    "        \"Popularity\": popularity,\n",
    "        \"Album ID\": album_id,\n",
    "        \"Added at\": added_at \n",
    "    })\n",
    "\n",
    "saved_tracks = pd.DataFrame(_saved_tracks)\n",
    "saved_tracks.head()"
   ]
  },
  {
   "cell_type": "code",
   "execution_count": 41,
   "metadata": {},
   "outputs": [
    {
     "data": {
      "text/plain": [
       "(286, 7)"
      ]
     },
     "execution_count": 41,
     "metadata": {},
     "output_type": "execute_result"
    }
   ],
   "source": [
    "saved_tracks.shape"
   ]
  },
  {
   "cell_type": "markdown",
   "metadata": {},
   "source": [
    "Now that we have basic track info, we can make more requests for some more granular track features. That's the data we _really_ want."
   ]
  }
 ],
 "metadata": {
  "interpreter": {
   "hash": "6971d8255f90602c68766a1865d9824b08aa38539d9ee2eeef84af9b4ed5eb18"
  },
  "kernelspec": {
   "display_name": "Python 3.10.2 ('.env': venv)",
   "language": "python",
   "name": "python3"
  },
  "language_info": {
   "codemirror_mode": {
    "name": "ipython",
    "version": 3
   },
   "file_extension": ".py",
   "mimetype": "text/x-python",
   "name": "python",
   "nbconvert_exporter": "python",
   "pygments_lexer": "ipython3",
   "version": "3.10.2"
  },
  "orig_nbformat": 4
 },
 "nbformat": 4,
 "nbformat_minor": 2
}
