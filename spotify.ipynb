{
 "cells": [
  {
   "cell_type": "markdown",
   "metadata": {},
   "source": [
    "# Spotify track features analysis"
   ]
  },
  {
   "cell_type": "code",
   "execution_count": null,
   "metadata": {},
   "outputs": [],
   "source": [
    "from spotipy import Spotify\n",
    "import pandas as pd\n",
    "import plotly.express as px"
   ]
  },
  {
   "cell_type": "markdown",
   "metadata": {},
   "source": [
    "## Login and get data\n",
    "\n",
    "I used the accompanying `login.py` script to generate an access token, which can be supplied directly as to the client initializer."
   ]
  },
  {
   "cell_type": "code",
   "execution_count": null,
   "metadata": {},
   "outputs": [],
   "source": [
    "sp = Spotify(auth=\"REDACTED\")"
   ]
  },
  {
   "cell_type": "markdown",
   "metadata": {},
   "source": [
    "Start off by getting my playlists, my saved songs, and my most recent plays."
   ]
  },
  {
   "cell_type": "code",
   "execution_count": null,
   "metadata": {},
   "outputs": [],
   "source": [
    "playlists = sp.current_user_playlists()['items']"
   ]
  },
  {
   "cell_type": "code",
   "execution_count": null,
   "metadata": {},
   "outputs": [],
   "source": [
    "plists = [{\"ID\": x['id'], \"Name\": x['name']} for x in playlists]\n",
    "plists = pd.DataFrame(plists)\n",
    "plists.head()"
   ]
  },
  {
   "cell_type": "code",
   "execution_count": null,
   "metadata": {},
   "outputs": [],
   "source": [
    "recents = sp.current_user_recently_played()"
   ]
  },
  {
   "cell_type": "code",
   "execution_count": null,
   "metadata": {},
   "outputs": [],
   "source": [
    "_recents = list()\n",
    "for i in recents['items']:\n",
    "    t = i['track']\n",
    "    artists = \", \".join(x['name'] for x in t['artists'])\n",
    "    artist_ids = \",\".join(x['id'] for x in t['artists'])\n",
    "    name = t['name']\n",
    "    track_id = t['id']\n",
    "    popularity = t['popularity']\n",
    "    album_id = t['album']['id']\n",
    "    _recents.append({\n",
    "        \"Artists\": artists,\n",
    "        \"Artist IDs\": artist_ids,\n",
    "        \"Name\": name,\n",
    "        \"Track ID\": track_id,\n",
    "        \"Popularity\": popularity,\n",
    "        \"Album ID\": album_id\n",
    "    })\n",
    "\n",
    "recents = pd.DataFrame(_recents)\n",
    "recents.head()"
   ]
  },
  {
   "cell_type": "code",
   "execution_count": null,
   "metadata": {},
   "outputs": [],
   "source": [
    "page_size = 50\n",
    "saved_songs_res = sp.current_user_saved_tracks(limit=page_size)\n",
    "saved_tracks = saved_songs_res['items']\n",
    "total = saved_songs_res['total']\n",
    "off = page_size\n",
    "while off < total + page_size:\n",
    "    next_res = sp.current_user_saved_tracks(offset=off, limit=page_size)\n",
    "    saved_tracks.extend(next_res['items'])\n",
    "    off += page_size"
   ]
  },
  {
   "cell_type": "code",
   "execution_count": null,
   "metadata": {},
   "outputs": [],
   "source": [
    "_saved_tracks = list()\n",
    "for i in saved_tracks:\n",
    "    t = i['track']\n",
    "    artists = \", \".join(x['name'] for x in t['artists'])\n",
    "    artist_ids = \",\".join(x['id'] for x in t['artists'])\n",
    "    name = t['name']\n",
    "    track_id = t['id']\n",
    "    popularity = t['popularity']\n",
    "    album_id = t['album']['id']\n",
    "    _saved_tracks.append({\n",
    "        \"Artists\": artists,\n",
    "        \"Artist IDs\": artist_ids,\n",
    "        \"Name\": name,\n",
    "        \"Track ID\": track_id,\n",
    "        \"Popularity\": popularity,\n",
    "        \"Album ID\": album_id\n",
    "    })\n",
    "\n",
    "saved_tracks = pd.DataFrame(_saved_tracks)\n",
    "saved_tracks.head()"
   ]
  },
  {
   "cell_type": "code",
   "execution_count": null,
   "metadata": {},
   "outputs": [],
   "source": [
    "saved_tracks.shape"
   ]
  },
  {
   "cell_type": "markdown",
   "metadata": {},
   "source": [
    "Now that we have basic track info, we can make more requests for some more granular track features. That's the data we _really_ want."
   ]
  },
  {
   "cell_type": "code",
   "execution_count": null,
   "metadata": {},
   "outputs": [],
   "source": [
    "track_ids = saved_tracks['Track ID'].tolist()\n",
    "features = list()\n",
    "page_size = 100\n",
    "i = 0\n",
    "while i < len(track_ids) + page_size:\n",
    "    _features = sp.audio_features(track_ids[i:i + page_size])\n",
    "    features.extend(_features)\n",
    "    i += page_size\n"
   ]
  },
  {
   "cell_type": "code",
   "execution_count": null,
   "metadata": {},
   "outputs": [],
   "source": [
    "features_df = pd.DataFrame(features[:-1])\n",
    "features_df = features_df[['id', 'danceability', 'energy', 'key', 'loudness', 'mode', 'speechiness', 'acousticness', 'instrumentalness', 'liveness', 'valence', 'tempo', 'duration_ms', 'time_signature']]\n",
    "features_df.head()"
   ]
  },
  {
   "cell_type": "code",
   "execution_count": null,
   "metadata": {},
   "outputs": [],
   "source": [
    "track_ids = recents['Track ID']\n",
    "features = sp.audio_features(track_ids.tolist())\n",
    "recents_features_df = pd.DataFrame(features)[['id', 'danceability', 'energy', 'key', 'loudness', 'mode', 'speechiness', 'acousticness', 'instrumentalness', 'liveness', 'valence', 'tempo', 'duration_ms', 'time_signature']]\n",
    "recents_features_df.head()"
   ]
  },
  {
   "cell_type": "code",
   "execution_count": null,
   "metadata": {},
   "outputs": [],
   "source": [
    "master_features_df = pd.concat([features_df, recents_features_df])"
   ]
  },
  {
   "cell_type": "code",
   "execution_count": null,
   "metadata": {},
   "outputs": [],
   "source": [
    "master_features_df = master_features_df.drop_duplicates(subset='id')\n",
    "master_features_df.shape"
   ]
  },
  {
   "cell_type": "code",
   "execution_count": null,
   "metadata": {},
   "outputs": [],
   "source": [
    "human_song_info = pd.concat([recents, saved_tracks])\n",
    "master_df = master_features_df.merge(right=human_song_info, how='right', left_on='id', right_on='Track ID')\n",
    "master_df['hoverdata'] = master_df['Artists'] + \" - \" + master_df[\"Name\"]\n",
    "master_df.head()"
   ]
  },
  {
   "cell_type": "code",
   "execution_count": null,
   "metadata": {},
   "outputs": [],
   "source": [
    "fig = px.scatter_3d(master_df, x='danceability', y='energy', z='speechiness', width=800, height=600, color='valence', color_continuous_scale=['#ff0000', '#0000ff'], hover_name='hoverdata')\n",
    "zoom_level = 1.3\n",
    "camera = dict(\n",
    "    eye=dict(x=zoom_level, y=zoom_level, z=zoom_level),\n",
    "    center_z=-0.25\n",
    ")\n",
    "fig.update_layout(scene_camera=camera, title='Speechiness, Energy, and Danceability of saved tracks and most recent 50 tracks', margin=dict(b=0, l=0, r=0, t=50))\n",
    "fig.show()"
   ]
  }
 ],
 "metadata": {
  "interpreter": {
   "hash": "6971d8255f90602c68766a1865d9824b08aa38539d9ee2eeef84af9b4ed5eb18"
  },
  "kernelspec": {
   "display_name": "Python 3.10.2 ('.env': venv)",
   "language": "python",
   "name": "python3"
  },
  "language_info": {
   "codemirror_mode": {
    "name": "ipython",
    "version": 3
   },
   "file_extension": ".py",
   "mimetype": "text/x-python",
   "name": "python",
   "nbconvert_exporter": "python",
   "pygments_lexer": "ipython3",
   "version": "3.8.9"
  },
  "orig_nbformat": 4
 },
 "nbformat": 4,
 "nbformat_minor": 2
}
